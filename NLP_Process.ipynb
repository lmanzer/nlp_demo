{
 "cells": [
  {
   "cell_type": "code",
   "execution_count": 32,
   "metadata": {},
   "outputs": [],
   "source": [
    "import os\n",
    "from collections import Counter\n",
    "import string \n",
    "\n",
    "from IPython.display import display, Markdown\n",
    "import gensim\n",
    "import networkx as nx\n",
    "import nltk\n",
    "import numpy as np\n",
    "import pandas as pd\n",
    "from pprint import pprint\n",
    "from sklearn.metrics.pairwise import cosine_similarity\n",
    "import spacy\n",
    "from spacy import displacy\n",
    "\n",
    "\n",
    "from src.scraping import extract_cnbc_article_info\n",
    "from src.urls import article_urls\n",
    "from src.nlp import lemmatize_words, remove_stopwords"
   ]
  },
  {
   "cell_type": "code",
   "execution_count": 2,
   "metadata": {},
   "outputs": [
    {
     "data": {
      "text/plain": [
       "['https://www.cnbc.com/2019/03/15/spielberg-and-netflixs-sarandos-meet-sparking-hope-for-oscars-truce.html',\n",
       " 'https://www.cnbc.com/2019/03/15/tesla-shares-fall-5-percent-after-company-unveils-model-y.html',\n",
       " 'https://www.cnbc.com/2019/03/15/arizona-will-go-after-big-tech-if-necessary-says-attorney-general.html',\n",
       " 'https://www.cnbc.com/2019/03/15/facebook-stocks-falls-after-cox-exit-outage-threats-from-washington.html',\n",
       " 'https://www.cnbc.com/2019/02/24/kraft-heinz-reviews-options-for-maxwell-house-coffee-including-sale.html',\n",
       " 'https://www.cnbc.com/2019/03/08/jeff-bezos-to-end-secrecy-over-amazons-role-in-carbon-emissions.html',\n",
       " 'https://www.cnbc.com/2019/03/15/dieselgate-sec-says-volkswagen-perpetrated-fraud-lied-to-investors.html']"
      ]
     },
     "execution_count": 2,
     "metadata": {},
     "output_type": "execute_result"
    }
   ],
   "source": [
    "article_urls"
   ]
  },
  {
   "cell_type": "markdown",
   "metadata": {},
   "source": [
    "### Scrape CNIB Website for Articles"
   ]
  },
  {
   "cell_type": "code",
   "execution_count": 3,
   "metadata": {},
   "outputs": [],
   "source": [
    "articles = []\n",
    "for article_url in article_urls:\n",
    "    _article_text_dict = extract_cnbc_article_info(article_url)\n",
    "    articles.append(_article_text_dict)"
   ]
  },
  {
   "cell_type": "code",
   "execution_count": 4,
   "metadata": {},
   "outputs": [
    {
     "name": "stdout",
     "output_type": "stream",
     "text": [
      "[{'article': '\\n'\n",
      "             'Steven Spielberg, a film industry titan with 58 directorial '\n",
      "             'credits to his name, has long been vocal about the differences '\n",
      "             'between theatrical and streaming releases.\\n'\n",
      "             '\\n'\n",
      "             'As the governor of the Academy of Motion Picture Arts and '\n",
      "             'Sciences directors branch he has said that he would like films '\n",
      "             'to have a longer theatrical run in order to qualify for an '\n",
      "             'Academy Award. Those comments have led some to believe that '\n",
      "             'Spielberg was ready to wage war on platforms like Netflix, '\n",
      "             'especially after the streaming service\\'s film \"Roma\" took home '\n",
      "             'three Oscars last month.\\n'\n",
      "             \"However, Spielberg reportedly met with Netflix's Chief Content \"\n",
      "             'Officer Ted Sarandos earlier this week, a sign that, perhaps, '\n",
      "             'these rumors of discord are just that, rumors.\\n'\n",
      "             '\\n'\n",
      "             'The two were seen dining together at the San Vincente Bungalows, '\n",
      "             'a private club in West Hollywood, according to The Hollywood '\n",
      "             'Reporter.\\n'\n",
      "             \"It's unclear what was discussed during their meeting. \"\n",
      "             'Representatives for Spielberg and Sarandos were not immediately '\n",
      "             'available to comment.\\n'\n",
      "             'Earlier this week, media mogul Jeffrey Katzenberg said that '\n",
      "             'Spielberg had no plan to campaign against Netflix, saying at the '\n",
      "             'South By Southwest conference in Texas that \"he is not going to '\n",
      "             'the academy in April with some sort of plan,\" according to a '\n",
      "             'report by the Hollywood Reporter.\\n'\n",
      "             'Read the full report by The Hollywood Reporter.\\n'\n",
      "             '\\n',\n",
      "  'reporter': 'Sarah Whitten',\n",
      "  'summary': ['Steven Spielberg has long been a proponent of longer theatrical '\n",
      "              'run times for films seeking Oscar contention.',\n",
      "              \"Spielberg reportedly met with Netflix's Chief Content Officer \"\n",
      "              'Ted Sarandos earlier this week.',\n",
      "              'The two were seen dining together at the San Vincente '\n",
      "              'Bungalows, a private club in West Hollywood.'],\n",
      "  'title': \"Steven Spielberg reportedly met with Netflix's Ted Sarandos, \"\n",
      "           \"sparking hopes for Academy Awards' truce\",\n",
      "  'url': 'https://www.cnbc.com/2019/03/15/spielberg-and-netflixs-sarandos-meet-sparking-hope-for-oscars-truce.html'},\n",
      " {'article': '\\n'\n",
      "             'Tesla shares tumbled Friday, hours after the company unveiled '\n",
      "             'the Model Y crossover utility vehicle that some Wall Street '\n",
      "             'analysts are calling \"underwhelming.\"\\n'\n",
      "             '\\n'\n",
      "             '\"We thought the unveiling was a disappointment and are seeing a '\n",
      "             'classic \\'sell the news\\' situation this morning,\" CFRA analyst '\n",
      "             'Garrett Nelson told CNBC.\\n'\n",
      "             '\\n'\n",
      "             'CEO Elon Musk dove into one of the hottest segments in the '\n",
      "             'automotive market with the long-awaited debut of the Model Y at '\n",
      "             'its design studio in Los Angeles on Thursday night.\\n'\n",
      "             '\\n'\n",
      "             '\"It\\'s wild to think about, 11 years ago today we\\'d made '\n",
      "             \"literally one car. And a year from now we'll have made a \"\n",
      "             'million,\" Musk said.\\n'\n",
      "             \"The electric-car maker's stock fell by 5 percent to close at \"\n",
      "             '$275.43 a share Friday, further straining shares that are now '\n",
      "             'down by 17.2 percent and have lost almost $10 billion in market '\n",
      "             'value so far this year. The company, which is currently valued '\n",
      "             'at $47.6 billion, faces increased competition and mounting '\n",
      "             'pressure on profit margins as it tries to lower prices on its '\n",
      "             'lineup of all-electric vehicles.\\n'\n",
      "             '\\n'\n",
      "             'The Model Y will cost $39,000 to $60,000, depending on the '\n",
      "             \"extras, and is about 10 percent bigger than Tesla's Model 3 \"\n",
      "             'midsize sedan. It features seven seats, a panoramic glass roof '\n",
      "             'and 66 cubic feet of cargo space, Musk said, showing off a Model '\n",
      "             'Y prototype at the Tesla Design Center on Thursday night.\\n'\n",
      "             'Nelson said the car design was \"more or less\" what he expected.\\n'\n",
      "             '\"The problem was the timing of first deliveries,\" Nelson said. '\n",
      "             '\"At the Tesla shareholder meeting last June, Musk said that '\n",
      "             'first Model Y deliveries were likely in the first half of 2020, '\n",
      "             \"now he's saying fall 2020 for higher-priced versions and spring \"\n",
      "             '2021 for the $39,000 version.\"\\n'\n",
      "             'Competition is really heating up against Tesla, with companies '\n",
      "             'from Ford to Ferrari planning to introduce their own '\n",
      "             'all-electric lineups in the coming years.\\n'\n",
      "             '\\n'\n",
      "             '\"Tesla is going to face significantly increased EV competition '\n",
      "             'starting with the 2021 model year vehicle, which will be '\n",
      "             'available starting in the spring of 2020,\" he said.\\n'\n",
      "             'Others were more sanguine on the prospects for the vehicle.\\n'\n",
      "             '\"As we had the opportunity to test drive the car, we were very '\n",
      "             'impressed with the interior and feel of the Model Y on the road '\n",
      "             'as it did not drive like a crossover SUV,\" Wedbush analyst Dan '\n",
      "             'Ives said in a research note Friday. This could be a major '\n",
      "             'competitive advantage for Tesla, he added.\\n'\n",
      "             'The total market for crossovers is \"massive,\" Ives said. Over '\n",
      "             'the next three years, the Model Y could make up 15 to 20 percent '\n",
      "             'of overall unit sales for Tesla, \"and thus be a major shot in '\n",
      "             'the arm for Musk & Co. going forward.\"\\n'\n",
      "             '\\n'\n",
      "             '\\n',\n",
      "  'reporter': 'Robert Ferris',\n",
      "  'summary': ['Tesla shares open down 5 percent Friday after the company '\n",
      "              'unveils the new Model Y crossover.',\n",
      "              'Some Wall Street analysts are underwhelmed by the vehicle.',\n",
      "              'Others say the Model Y could be a big product for Tesla and '\n",
      "              \"could appeal to customers more than competitors' vehicles.\"],\n",
      "  'title': \"Tesla shares tumble after company unveils 'underwhelming' Model Y\",\n",
      "  'url': 'https://www.cnbc.com/2019/03/15/tesla-shares-fall-5-percent-after-company-unveils-model-y.html'},\n",
      " {'article': '\\n'\n",
      "             'Arizona Attorney General Mark Brnovich told CNBC on Friday he is '\n",
      "             'prepared to go after big tech companies.\\n'\n",
      "             '\\n'\n",
      "             \"And he's not alone.\\n\"\n",
      "             '\"When you have these tech companies dominate the market share, '\n",
      "             'they essentially are akin to the monopolies of old,\" Brnovich '\n",
      "             'said on \"Closing Bell.\" \\n'\n",
      "             '\\n'\n",
      "             '\"We as state AGs we are taking a look at maybe whether we should '\n",
      "             'do something and if so what should be done.\"\\n'\n",
      "             'Brnovich is one of several state attorneys general who spoke '\n",
      "             'recently to the Washington Post about their willingness to take '\n",
      "             'action against Facebook, Google and other tech giants, which '\n",
      "             'they say have grown too powerful.\\n'\n",
      "             'Brnovich said they are \"worried about this massive amount of '\n",
      "             \"data that is being collected, manipulated. Sometimes it's \"\n",
      "             'misleading and maybe ends up maybe compromising some of our '\n",
      "             'privacy rights.\"\\n'\n",
      "             \"The states are stepping up because the federal government isn't, \"\n",
      "             'said Brnovich. \"Washington D.C. has been — at least in the last '\n",
      "             'decade — where good ideas go to die.\"\\n'\n",
      "             'What\\'s being seen is the \"inaction or inability of the '\n",
      "             'bureaucrats in Washington D.C. to do anything about protecting '\n",
      "             'individual Americans, their privacy rights, how they are being '\n",
      "             'manipulated when it comes to news feeds and news coverage,\" he '\n",
      "             'said.\\n'\n",
      "             \"Facebook and Google did not immediately respond to CNBC's \"\n",
      "             'request for comment.\\n'\n",
      "             \"However, in a statement to the Washington Post, Facebook's vice \"\n",
      "             'president of state and local public policy, said the company has '\n",
      "             'had \"productive conversations\" with state AGs. \"Many officials '\n",
      "             'have approached us in a constructive manner, focused on '\n",
      "             \"solutions that ensure all companies are protecting people's \"\n",
      "             'information, and we look forward to working with them,\" he '\n",
      "             'said.\\n'\n",
      "             'Google also gave the paper a statement that said, \"Privacy and '\n",
      "             'security are built into all of our products, and we will '\n",
      "             'continue to engage constructively with state attorneys general '\n",
      "             'on policy issues.\"\\n'\n",
      "             \"Brnovich wouldn't comment on individual companies.\\n\"\n",
      "             '\"I will assure you that no matter how big the company is that if '\n",
      "             'they are violating the rights of Arizonians, we are going to '\n",
      "             'take a look at them and we are going to come after them hard in '\n",
      "             'the courtroom if that is appropriate.\"\\n',\n",
      "  'reporter': 'Michelle Fox',\n",
      "  'summary': ['Arizona Attorney General Mark Brnovich says he and other state '\n",
      "              'AGs are willing to go after tech giants who \"dominate market '\n",
      "              'share.\"',\n",
      "              '\"We as state AGs we are taking a look at maybe whether we '\n",
      "              'should do something and if so what should be done,\" he says.',\n",
      "              'They are doing so because of the \"inaction or inability\" of '\n",
      "              'Washington D.C. to do anything, he says.'],\n",
      "  'title': \"We'll go after big tech if necessary because DC is doing nothing: \"\n",
      "           'Arizona attorney general',\n",
      "  'url': 'https://www.cnbc.com/2019/03/15/arizona-will-go-after-big-tech-if-necessary-says-attorney-general.html'},\n",
      " {'article': '\\n'\n",
      "             'Facebook stock fell Friday, the day after Chief Product Officer '\n",
      "             'Chris Cox announced he was leaving the company in light of its '\n",
      "             'recent pivot to privacy.\\n'\n",
      "             '\\n'\n",
      "             'Shares fell as much as 4.5 percent in early trading, sinking '\n",
      "             'below $163 at its lowest point. The stock eased off by '\n",
      "             'mid-morning and ended the day 2.5 percent down.\\n'\n",
      "             'Insiders told CNBC that Cox was the \"heart and soul\" of '\n",
      "             'Facebook. He was among the earlier employees and reported '\n",
      "             'directly to CEO Mark Zuckerberg. His departure hangs uncertainty '\n",
      "             \"on Facebook's recent announcement to integrate its family of \"\n",
      "             'apps and prioritize private communication.\\n'\n",
      "             '\\n'\n",
      "             'Separately Friday, Facebook drew criticism related to a '\n",
      "             'terrorist incident in New Zealand in which a shooter '\n",
      "             'live-streamed his attack on Facebook. The shootings claimed at '\n",
      "             'least 49 lives.\\n'\n",
      "             'The company was alerted to the post by New Zealand police and '\n",
      "             'said it has been taking down re-postings of the video and '\n",
      "             'messages praising the shooter as it becomes aware of them.\\n'\n",
      "             'On top of that, Facebook suffered its longest outage ever this '\n",
      "             'week. The service was reinstated Thursday after a widespread '\n",
      "             'outage that last nearly a day.\\n'\n",
      "             'In a statement Thursday, the company blamed a \"server '\n",
      "             'configuration change that triggered a cascading series of '\n",
      "             'issues\" for the outage.\\n'\n",
      "             'The stock shed 1.8 percent by the end of trading Thursday.\\n'\n",
      "             '\\n'\n",
      "             \"Friday's stock losses cap a rough week for the company.\\n\"\n",
      "             'A proposal by Massachusetts Senator and presidential candidate '\n",
      "             'Elizabeth Warren to break up big tech continued to garner '\n",
      "             \"headlines and raise concern in the investor community. Warren's \"\n",
      "             'proposal would see Facebook divesting its major acquisitions, '\n",
      "             'WhatsApp and Instagram.\\n'\n",
      "             'The risk to many of the so-called FAANG stocks — Facebook, '\n",
      "             'Apple, Amazon, Netflix and Google — led one analyst to favor '\n",
      "             'Netflix by sheer default.\\n'\n",
      "             \"Meanwhile, federal prosecutors are probing Facebook's \"\n",
      "             'data-sharing partnerships with device makers, according to a '\n",
      "             'report by the New York Times published Wednesday night.\\n'\n",
      "             '\"It has already been reported that there are ongoing federal '\n",
      "             'investigations, including by the Department of Justice,\" a '\n",
      "             'spokesperson for Facebook said in a statement to CNBC. \"We are '\n",
      "             'cooperating with investigators and take those probes seriously. '\n",
      "             \"We've provided public testimony, answered questions, and pledged \"\n",
      "             'that we will continue to do so.\"\\n'\n",
      "             'WATCH: \\n'\n",
      "             'Former FCC Chairman under Obama weighs in on data privacy, big '\n",
      "             'tech regulation\\n'\n",
      "             '\\n'\n",
      "             '\\n'\n",
      "             'Subscribe to CNBC on YouTube.\\n',\n",
      "  'reporter': 'Sara Salinas',\n",
      "  'summary': ['Insiders told CNBC that Chris Cox was the \"heart and soul\" of '\n",
      "              'Facebook.',\n",
      "              \"His departure hangs uncertainty on Facebook's recent \"\n",
      "              'announcement to integrate its family of apps and prioritize '\n",
      "              'private communication.',\n",
      "              'Separately Friday, Facebook drew criticism related to a '\n",
      "              'terrorist incident in New Zealand in which a shooter '\n",
      "              'live-streamed his attack on Facebook.'],\n",
      "  'title': 'Facebook stock falls after the executive in charge of all its '\n",
      "           'products steps down',\n",
      "  'url': 'https://www.cnbc.com/2019/03/15/facebook-stocks-falls-after-cox-exit-outage-threats-from-washington.html'},\n",
      " {'article': '\\n'\n",
      "             'Kraft Heinz, the ailing food giant, has tapped investment bank '\n",
      "             'Credit Suisse to review options for its Maxwell House coffee '\n",
      "             'business, which could include a potential sale, people familiar '\n",
      "             'with the matter tell CNBC.\\n'\n",
      "             '\\n'\n",
      "             'The coffee business has roughly $400 million in earnings before '\n",
      "             'interest, taxes, depreciation and amortization, the people '\n",
      "             'said.\\n'\n",
      "             'Based off valuations for other sales of consumer brands, a sale '\n",
      "             'could fetch a price of at least $3 billion, they said, though '\n",
      "             'cautioning its price would depend on buyer interest. The coffee '\n",
      "             'industry has become more challenging in the past few years, but '\n",
      "             'private equity firms have shown interest in buying some large, '\n",
      "             'tired brands. Private equity firm KKR last year paid roughly $8 '\n",
      "             \"billion for Unilever's I Can't Believe It's Not Butter and other \"\n",
      "             'spreads business.\\n'\n",
      "             '\\n'\n",
      "             'The sale of the coffee business will be one of a string of '\n",
      "             'divestitures for Kraft Heinz, the people said, as it looks to '\n",
      "             'reshape the empire put together by its private equity backer 3G '\n",
      "             'Capital.\\n'\n",
      "             '3G Capital, which, along with Berkshire Hathaway, bought H.J. '\n",
      "             'Heinz in 2013 and merged it with Kraft two years later, has made '\n",
      "             'its name in splashy acquisitions of U.S. consumer companies. It '\n",
      "             'put together Restaurant Brands International, owner of Burger '\n",
      "             'King, Tim Hortons and Popeyes and created beer giant '\n",
      "             'Anheuser-Busch Inbev. But trends have changed since 3G Capital '\n",
      "             'first pounced on the U.S. scene. Bigger is not better, as large '\n",
      "             'brands fend off competition from leaner, innovative rivals.\\n'\n",
      "             'It is a struggle to ignite growth when a company is saddled with '\n",
      "             'large, off-trend labels like Oscar Mayer and Velveeta, while '\n",
      "             'facing rising costs. Those challenges have been exacerbated by '\n",
      "             \"3G Capital's cut-to-the bone approach to costs, which some \"\n",
      "             \"analysts say has come at the sacrifice of its brands' health. \"\n",
      "             'The firm extracted $1.7 billion in savings from combining Kraft '\n",
      "             'and Heinz.\\n'\n",
      "             'Kraft Heinz last week delivered fourth-quarter earnings and '\n",
      "             'revenue that were sharply lower than estimate\\n'\n",
      "             's. Even worse, it slashed its dividend by 36 percent and took a '\n",
      "             '$15 billion write-down on two of its biggest brands, Kraft and '\n",
      "             'Oscar Mayer — an acknowledgement the brands entice shoppers far '\n",
      "             'less than they used to.\\n'\n",
      "             'As it delivered the bad news, Kraft Heinz executives told '\n",
      "             'investors last week to expect more divestitures going forward to '\n",
      "             'help wipe debt off its balance sheet. The company is aiming to '\n",
      "             'get its leverage down to three times EBITDA, rather than the '\n",
      "             'four times analysts say it is currently pegged at. One notch '\n",
      "             'lower of leverage can be impactful for a company facing margin '\n",
      "             'pressure and profit declines. It could imply asset sales in the '\n",
      "             'billions.\\n'\n",
      "             'Kraft Heinz last year sold it Canadian dairy business and its '\n",
      "             'Indian beverage business Complan. It said last week it is '\n",
      "             'looking selling brands \"with no clear path to competitive '\n",
      "             'advantage.\"\\n'\n",
      "             '\\n'\n",
      "             \"Maxwell House, once the country's leading national brand, for \"\n",
      "             'years had mainly Folgers to contend with in the fight for space '\n",
      "             \"in Americans' cupboards. For decades, it was enough to rely on \"\n",
      "             'its sponsored TV placements and its reminder that its coffee was '\n",
      "             '\"good to the last drop.\" It was one of the first mainstream '\n",
      "             'products to target Jewish shoppers, making it what the New York '\n",
      "             'Times once called \"the pioneer\" of multicultural marketing.\\n'\n",
      "             'But coffee culture has changed as Americans shift from homemade '\n",
      "             'brew to splurging on a premium priced java grabbed on the go at '\n",
      "             'omnipresent cafes. There is an ongoing coffee war between '\n",
      "             'Starbucks and European investment firm JAB Holding, owner of '\n",
      "             \"Keurig Doctor Pepper, Krispy Kreme Doughnuts and Peet's Coffee & \"\n",
      "             'Tea. Both aim to take advantage of the reach this affords, '\n",
      "             'leaving for less room for mainstream, largely drip-coffee brands '\n",
      "             'like Maxwell House.\\n'\n",
      "             'Kraft Heinz has sought to modernize its coffee business, '\n",
      "             'offering on-the-go \"iced coffee antioxidant max drinks\" and '\n",
      "             'blends with customizeable caffeine levels. It also bought fair '\n",
      "             'trade brand Ethical Bean Coffee last year.\\n'\n",
      "             'Rival Folgers has also felt the squeeze. Its owner J.M. Smucker '\n",
      "             'in its fiscal second quarter reported a 1 percent drop in its '\n",
      "             'coffee net sales, compared to the same quarter a year ago. '\n",
      "             \"Smucker, which also sells Dunkin' Donuts coffee in grocery \"\n",
      "             'stores, scooped up the coffee brand in 2008 when Procter & '\n",
      "             'Gamble put it up for sale. Last year, however, Smucker bought '\n",
      "             'pet food company Ainsworth Pet Nutrition for a little under $2 '\n",
      "             'billion to move further beyond its coffee business.\\n'\n",
      "             'Against that backdrop, it is unclear which buyers will come '\n",
      "             \"forward for Kraft Heinz's coffee business.\\n\"\n",
      "             '\\n'\n",
      "             'The same uncertainty goes for other brands Kraft Heinz is '\n",
      "             'expected to pluck from its portfolio.\\n'\n",
      "             'Mood at the company, which saw its shares plummet nearly 30 '\n",
      "             'percent on Friday, is dour, say people familiar. It is taking a '\n",
      "             'no stone unturned approach to which brands it should or could '\n",
      "             'unload, they say.\\n'\n",
      "             'Speculation across Wall Street abounds. Bankers have wondered '\n",
      "             \"whether Kraft Heinz's Planters nuts, Oscar Mayer meat or its \"\n",
      "             'frozen food business, could be one of the next potential brand '\n",
      "             'it sheds. They cautioned decisions are still being made, and it '\n",
      "             'is possible Kraft Heinz sells none of those units.\\n'\n",
      "             'Analysts have noted that any divestiture will come under the '\n",
      "             'cloud of the company having just written down it biggest brands '\n",
      "             'by $15 billion.\\n'\n",
      "             'Slimming down, according Kraft Heinz CEO Bernardo Hees, will '\n",
      "             'give the company \"a balance sheet that\\'s more flexible and more '\n",
      "             'prepared for future consolidation.\" Investors have been eagerly '\n",
      "             'awaiting a large-scale deal since Unilever rebuffed its approach '\n",
      "             \"two years ago. Some analysts have expressed concern that 3G's \"\n",
      "             'cost-cutting model only works when deals give it more fat to '\n",
      "             'cut.\\n'\n",
      "             'But others note that slimming down, along with its $15 billion '\n",
      "             'write-down, could pave the way for Kraft Heinz to go private. '\n",
      "             'Life in the public spotlight has been challenging for all Big '\n",
      "             'Food companies, from Kellogg to General Mills, which are trying '\n",
      "             'to rework portfolios full off off-trend foods. Campbell Soup, '\n",
      "             'once seen as an obvious dance partner for Kraft Heinz, suffered '\n",
      "             'its own public fall from grace, before also committing to '\n",
      "             'shedding much of its packaged food empire.\\n'\n",
      "             'Right now, though, the spotlight has been on the Jello-owner, '\n",
      "             'which saw more than $16 billion of its market value erased in a '\n",
      "             'day.\\n'\n",
      "             'The people declined to be named because the information is '\n",
      "             'confidential.\\n'\n",
      "             'A spokeswoman for Credit Suisse declined to comment, while a '\n",
      "             'spokesman for Kraft Heinz told CNBC, \"Kraft Heinz will not '\n",
      "             'comment on rumors or speculation but we will look at '\n",
      "             'divestitures where there is no clear path to competitive '\n",
      "             \"advantage. This in turn will improve our portfolio's growth and \"\n",
      "             'margin trajectory.\"\\n',\n",
      "  'reporter': 'Lauren Hirsch',\n",
      "  'summary': ['Kraft Heinz tapped investment bank Credit Suisse to review '\n",
      "              'options for its Maxwell House coffee business, people familiar '\n",
      "              'with the matter tell CNBC.',\n",
      "              'The coffee business has roughly $400 million in earnings before '\n",
      "              'interest, taxes, depreciation and amortization, the people '\n",
      "              'said, and it could fetch a deal price in the billions.',\n",
      "              'The coffee business could be one in a string of divestitures, '\n",
      "              'as the ailing food company looks to stabilize its business.'],\n",
      "  'title': 'Kraft Heinz reviews options for its Maxwell House coffee business, '\n",
      "           'including possible sale, as looks to reshape its food empire',\n",
      "  'url': 'https://www.cnbc.com/2019/02/24/kraft-heinz-reviews-options-for-maxwell-house-coffee-including-sale.html'},\n",
      " {'article': '\\n'\n",
      "             'Amazon can be relentless in pursuit of its goals — making '\n",
      "             'two-day shipping possible anywhere in the U.S. and building its '\n",
      "             'own fleet of cargo planes are good examples. But when it comes '\n",
      "             \"to one of society's biggest challenges, dealing with climate \"\n",
      "             'change, the online giant has not been seen as a corporate '\n",
      "             'leader. That is beginning to change.\\n'\n",
      "             '\\n'\n",
      "             'Amazon recently announced its Shipment Zero goal, under which '\n",
      "             'the company aims to have 50 percent of all deliveries reach net '\n",
      "             'zero carbon emissions by 2030. Amazon also is finally tracking '\n",
      "             'its carbon footprint and for the first time will release a '\n",
      "             \"carbon report this year. It's a type of climate change \"\n",
      "             'disclosure that has become more common among major corporations '\n",
      "             'but which the Jeff Bezos-led company has long resisted.\\n'\n",
      "             '\"Amazon has not been a leader when it comes to disclosing its '\n",
      "             'carbon footprint,\" said Sue Reid, vice president of climate and '\n",
      "             'energy for Ceres, a nonprofit that advocates investors and '\n",
      "             'companies to tackle sustainability issues like climate change.\\n'\n",
      "             '\\n'\n",
      "             'True to form, Amazon is going its own way with the climate '\n",
      "             'report. Rather than releasing its findings to the CDP, formerly '\n",
      "             'known as the Carbon Disclosure Project — an organization that '\n",
      "             'collects data from major companies every year and compiles it '\n",
      "             'into what the nonprofit claims to be the most comprehensive '\n",
      "             'collection of self-reported environmental information — Amazon '\n",
      "             'is developing its own approach to tracking and reporting carbon '\n",
      "             'emissions.\\n'\n",
      "             'Amazon would not disclose how it plans to achieve net zero '\n",
      "             'status or report its carbon emissions beyond its blog post.\\n'\n",
      "             '\\n'\n",
      "             'Reid is willing to give Amazon the benefit of the doubt. \"The '\n",
      "             'disclosure element, the commitment of the company to disclose '\n",
      "             \"later this year what it says has taken a couple of years' worth \"\n",
      "             'of data to get its arms around, is a huge piece of the equation '\n",
      "             'of what investors are looking for to show that companies are '\n",
      "             'taking climate change seriously.\"\\n'\n",
      "             'So are other investors, who have been pressuring corporations '\n",
      "             'for years.\\n'\n",
      "             'Tim Smith, director of environmental, social and governance '\n",
      "             'shareowner engagement at Walden Asset Management, said CDP is an '\n",
      "             \"important tool that investors use, but it isn't the only part of \"\n",
      "             'the litmus test. \"The most important is huge companies, whether '\n",
      "             'Walmart or Amazon, saying they are committed to moving in this '\n",
      "             'direction. ... When one of the largest companies is saying the '\n",
      "             'issue is real and human activity causes it and here is what we '\n",
      "             'will do, it is exceedingly important and they deserve credit,\" '\n",
      "             'Smith said.\\n'\n",
      "             \"Reid said Ceres will be keeping a close eye on Amazon's in-house \"\n",
      "             'methodology for calculating greenhouse gas emissions and how '\n",
      "             'comparable it is to organizations like the CDP. \"It\\'s really '\n",
      "             \"important it be transparent with how they've done their math and \"\n",
      "             'comparable to other disclosures so investors can look at how '\n",
      "             'Amazon compares to the other companies in their portfolio,\" she '\n",
      "             'said.\\n'\n",
      "             '\\n'\n",
      "             \"Other experts are concerned Amazon's self-reported carbon \"\n",
      "             \"emission report won't measure up.\\n\"\n",
      "             '\"If you are doing such a fantastic job, you would join something '\n",
      "             'like the CDP, which is a verified, structured system that allows '\n",
      "             \"us to understand what you're doing and to benchmark your \"\n",
      "             'performance against your peers,\" said Aseem Prakash, director of '\n",
      "             'the Center for Environmental Politics at the University of '\n",
      "             'Washington.\\n'\n",
      "             'Last year slightly over 7,000 companies disclosed their carbon '\n",
      "             'footprints with the CDP. When combined, the reporting companies '\n",
      "             'represented over 50 percent of the total global market '\n",
      "             'capitalization, according to the CDP website.\\n'\n",
      "             'UPS received an A from the CDP in 2018; DHL received an A-; '\n",
      "             'FedEx received a B. Since 2010 the only grade from the CDP that '\n",
      "             'Amazon has received is an F — for non-participation.\\n'\n",
      "             'Prakash said Amazon has yet to disclose its carbon footprint '\n",
      "             'because there has been a lack of pressure, from both customers '\n",
      "             'and investors, for the company to do so. \"The single most '\n",
      "             'important issue is return on investment,\" Prakash said. That is '\n",
      "             'changing as Amazon faces pressure not just from investors but '\n",
      "             'its own employees.\\n'\n",
      "             'Last year, 16 Amazon employees who owned stock in the company '\n",
      "             \"filed a shareholder resolution requesting Amazon's Board of \"\n",
      "             'Directors prepare a public report describing how the company is '\n",
      "             'planning for disruptions posed by climate change, and how they '\n",
      "             \"plan to reduce the company's fossil fuel dependence. The \"\n",
      "             'resolution was pointed: \"Amazon is both affected by and '\n",
      "             'contributing to climate change,\" the report stated.\\n'\n",
      "             '\"I think we have to add pressure, we have to encourage them, and '\n",
      "             'it can be positive,\" Prakash said of Amazon\\'s recent steps in '\n",
      "             'the right direction. \"You have to have a situation where no deed '\n",
      "             'goes unpunished, good or bad.\"\\n'\n",
      "             '\\n'\n",
      "             'Reporting carbon emissions is a good first step, but proactively '\n",
      "             'changing a business to be carbon-neutral is a far larger '\n",
      "             'challenge.\\n'\n",
      "             'Amazon has invested in a massive wind farm in Texas, solar farms '\n",
      "             'in four other states, and launched a frustration-free packaging '\n",
      "             'program last year aimed at eliminating waste through the supply '\n",
      "             \"chain. But experts have long shown concern about Amazon's \"\n",
      "             'secrecy surrounding carbon emissions, and even as it begins to '\n",
      "             'more directly deal with climate issues, skepticism remains.\\n'\n",
      "             'But a recent Greenpeace report contended Amazon Web Services — '\n",
      "             'among other technology companies with data center businesses '\n",
      "             'that are energy-intensive and growing rapidly with the boom in '\n",
      "             'cloud computing — has been opaque when it comes to publicly '\n",
      "             \"reporting its current energy use and how fast it's growing, \"\n",
      "             'although the company has committed to operating its global '\n",
      "             'infrastructure at 100 percent renewable energy.\\n'\n",
      "             '\"Companies have improved their climate accounting in recent '\n",
      "             'years, but there remains a high level of uncertainty, '\n",
      "             'particularly in supply chains,\" said Suzanne Greene, who manages '\n",
      "             'the Sustainable Supply Chains program at the MIT Center for '\n",
      "             'Transportation and Logistics. \"When you have highly uncertain '\n",
      "             \"numbers, it's difficult to make sustainable business decisions, \"\n",
      "             \"such as choosing a greener carrier, or to know if you're \"\n",
      "             'reaching your climate goals.\"\\n'\n",
      "             'Still, she provided some measured support. \"We\\'ve been waiting '\n",
      "             \"for Amazon to join the sustainability movement, so it's great \"\n",
      "             \"news to have them make an announcement like this, even if it's \"\n",
      "             \"unclear if they've used the industry standard to set their \"\n",
      "             'target\" Greene said.\\n'\n",
      "             \"Amazon's Shipment Zero comes after major logistics companies \"\n",
      "             'already set plans to reduce carbon emissions.\\n'\n",
      "             'UPS has the goal of sourcing 40 percent of its ground fuel from '\n",
      "             'low-carbon or alternative fuels and to achieve a 12 percent '\n",
      "             'reduction in absolute greenhouse gas emissions across its global '\n",
      "             'ground operations by 2025. DHL is expanding its fleet of '\n",
      "             'electric vehicle delivery vans, which will use electricity or '\n",
      "             'natural gas and clean diesel as an effort to reach its long-term '\n",
      "             'goal of reducing logistics-related emissions to net zero by '\n",
      "             '2050.\\n'\n",
      "             '\\n'\n",
      "             'To be totally net zero carbon, or carbon neutral, means a '\n",
      "             'company would remove or reduce the same amount of greenhouse gas '\n",
      "             'it is estimated to produce. The Amazon Shipment Zero goal of '\n",
      "             'making 50 percent of its shipments to customers net-zero carbon '\n",
      "             'by 2030 is possible because of improvements in electric '\n",
      "             'vehicles, aviation biofuels, reusable packaging, and renewable '\n",
      "             'energy, the company said in a blog post making the announcement. '\n",
      "             'It declined to provide further comment.\\n'\n",
      "             \"Greene said it's unclear if delivery to customers is the only \"\n",
      "             'part of their operations and supply chain that will be included '\n",
      "             'in the reduction target. Amazon already uses hydrogen-fuel '\n",
      "             'forklifts in warehouses and when it comes to small vehicles and '\n",
      "             'vans, Greene agrees the industry has seen improvements '\n",
      "             \"delivering packages to customers. It's the long-distance portion \"\n",
      "             'of the supply chain, which uses big semi-trucks running on '\n",
      "             'diesel rather than electric or other cleaner solutions, that '\n",
      "             'still needs improving.\\n'\n",
      "             'Amazon recently led a $700 million investment roundin the '\n",
      "             'electric truck start-up Rivian as the company looks to change '\n",
      "             'its delivery methods, and some industry experts have speculated '\n",
      "             \"that Amazon could use Rivian's trucks for its global logistics \"\n",
      "             'needs.\\n'\n",
      "             '\"Green technologies do exist, but even when they are ready to '\n",
      "             'go, think about how long it will take to adopt these solutions '\n",
      "             'at a greater scale,\" Greene said. \"There are millions and '\n",
      "             'millions of trucks on the planet, and electric vehicles and '\n",
      "             \"trucks are going to be crazy expensive, plus there's the \"\n",
      "             'question of where you charge them. Long-distance transport is '\n",
      "             'far from ready.\"\\n'\n",
      "             'A prevalent method companies undertake toward reducing carbon '\n",
      "             'emissions is through carbon offsetting, which requires '\n",
      "             \"calculating a company's greenhouse gas emissions and spending \"\n",
      "             'money elsewhere to reduce them, such as methane captures from '\n",
      "             'landfills, tree planting, and investing in solar and wind '\n",
      "             'farms.\\n'\n",
      "             'Greene argues there are currently no carbon offsetting projects '\n",
      "             'that are specifically related to reducing emissions in the '\n",
      "             \"transportation sector, and it's even more important that the \"\n",
      "             'methodology Amazon uses to calculate that figure aligns with '\n",
      "             'others in their industry. Since Amazon subcontracts companies '\n",
      "             'like UPS, FedEx and DHL to deliver its packages, transparency on '\n",
      "             'carbon emissions down the supply chain is critical, Greene '\n",
      "             'said.\\n'\n",
      "             'Initiatives like the Global Logistics Emissions Council '\n",
      "             'Framework and the Science-Based Targets initiative are two '\n",
      "             'sources helping companies develop common reporting methods, '\n",
      "             'Greene added.\\n'\n",
      "             '\\n'\n",
      "             \"Americans' belief in climate change has been rising, with 71 \"\n",
      "             'percent of Americans saying that global warming is happening, '\n",
      "             'and 50 percent saying they will be personally harmed by the '\n",
      "             'effects of global warming, according to the Yale Program on '\n",
      "             'Climate Change Communication.\\n'\n",
      "             \"Reid said Amazon's commitment to disclose its carbon footprint \"\n",
      "             'is a huge piece of the equation for investors with whom Ceres '\n",
      "             'works on factoring climate change into the valuation of a '\n",
      "             'company.\\n'\n",
      "             'Ceres is also a founding partner organization of Climate Action '\n",
      "             '100+, which is an investor initiative started in 2017 to hold '\n",
      "             'some of the largest greenhouse gas emitting companies '\n",
      "             'accountable by improving governance, curbing emissions and '\n",
      "             'strengthening climate-related financial disclosures. The '\n",
      "             'initiative is comprised of more than 320 investors who hold $33 '\n",
      "             'trillion in assets under management, and 100 of the largest '\n",
      "             'corporate emitters they target account for two-thirds of annual '\n",
      "             'global industrial emissions. Walden Asset Management also is a '\n",
      "             'member.\\n'\n",
      "             '\"The elements related to customers and employees are really key '\n",
      "             'here,\" Reid said. \"Investors are super attuned to the '\n",
      "             'reputational element of climate leadership. That builds value, '\n",
      "             'it builds loyalty with employees who want to see their company '\n",
      "             'take climate change seriously.\"\\n'\n",
      "             'Walden\\'s Smith said that Amazon has historically been \"more '\n",
      "             'insular\" than other companies and taken a position that they '\n",
      "             'seem to think they \"don\\'t need to talk to investors\" but they '\n",
      "             'face as many if not more shareholder resolutions than any other '\n",
      "             'company this year and they are responding. \"They\\'ve made the '\n",
      "             'commitment to measure it and manage it, and I am quite '\n",
      "             'confident,\" but he added, \"The challenge for them will be how to '\n",
      "             'do it.\"\\n'\n",
      "             'Google may have the same issue as Amazon when it comes to '\n",
      "             'increasing build-outs of data centers that are energy hogs, but '\n",
      "             'investing in wind and solar farms to power these operations is '\n",
      "             'easier than figuring out a carbon solution for a global '\n",
      "             'logistics operation.\\n'\n",
      "             '\"They don\\'t want to make pledge they can\\'t honor,\" Smith said. '\n",
      "             '\"For investors, while disclosure is very important, disclosure '\n",
      "             'requests have become much more pointed and specific. Investors '\n",
      "             'are much more likely to be asking for the specific steps to '\n",
      "             'change rather than just disclosing [a carbon footprint]. If '\n",
      "             '[Amazon] is moving on the issue and really being proactive, they '\n",
      "             'really need to not only be actively looking at the data '\n",
      "             \"themselves but asking, 'what are we going to do and what are our \"\n",
      "             'public goals?\\'\"\\n'\n",
      "             'WATCH:\\ufeff Jeff Bezos is so much bigger than Amazon — a look '\n",
      "             'at his extraordinary empire\\n'\n",
      "             '\\n'\n",
      "             '\\n',\n",
      "  'reporter': 'Noah Higgins-Dunn',\n",
      "  'summary': ['Amazon will finally disclose its carbon footprint this year, a '\n",
      "              'move the online giant has previously resisted.',\n",
      "              'Amazon recently announced its Shipment Zero goal under which '\n",
      "              'the company aims to have 50 percent of all deliveries reach net '\n",
      "              'zero carbon emissions by 2030.',\n",
      "              'Companies including FedEx, DHL and UPS have reported to the '\n",
      "              'CDP, an environmental nonprofit that releases climate '\n",
      "              'performance grades.',\n",
      "              \"Amazon won't report through the CDP, which in the past has \"\n",
      "              'given Amazon an F for non-participation.'],\n",
      "  'title': \"Jeff Bezos is finally ending secrecy over Amazon's role in carbon \"\n",
      "           'emissions',\n",
      "  'url': 'https://www.cnbc.com/2019/03/08/jeff-bezos-to-end-secrecy-over-amazons-role-in-carbon-emissions.html'},\n",
      " {'article': '\\n'\n",
      "             'The Securities and Exchange Commission is charging Volkswagen '\n",
      "             'and former CEO Martin Winterkorn with defrauding American '\n",
      "             'investors during an emissions scandal, The Associated Press '\n",
      "             'reported Friday.\\n'\n",
      "             '\\n'\n",
      "             'The complaint claims Volkswagen made false and misleading '\n",
      "             'statements to investors and underwriters about vehicle quality, '\n",
      "             \"environmental compliance and the company's financial standing, \"\n",
      "             'which gave Volkswagen a financial benefit when it issued '\n",
      "             'securities at more attractive rates for the company.\\n'\n",
      "             'Volkswagen did not immediately respond to The Associated Press '\n",
      "             'early Friday.\\n'\n",
      "             '\\n'\n",
      "             'On Thursday, the SEC alleged in a court filing that Volkswagen '\n",
      "             '\"perpetrated a massive fraud\" and repeatedly lied to U.S. '\n",
      "             'investors in connection with the so-called dieselgate scandal.\\n'\n",
      "             'The regulator is suing Volkswagen and Winterkorn over the German '\n",
      "             \"automaker's diesel emissions scandal. The suit seeks to bar \"\n",
      "             'Winterkorn from serving as an officer or director of a public '\n",
      "             'U.S. company and recover \"ill-gotten gains.\" Winterkorn was '\n",
      "             'charged by U.S. prosecutors in 2018 and accused of conspiring to '\n",
      "             \"cover up the German automaker's diesel emissions cheating.\\n\"\n",
      "             'The SEC said in its complaint filed in San Francisco that from '\n",
      "             'April 2014 to May 2015, Volkswagen issued more than $13 billion '\n",
      "             'in bonds and asset-backed securities in U.S. markets at a time '\n",
      "             'when senior executives knew that more than 500,000 U.S. diesel '\n",
      "             'vehicles grossly exceeded legal vehicle emissions limits.\\n'\n",
      "             '\"By concealing the emissions scheme, Volkswagen reaped hundreds '\n",
      "             'of millions of dollars in benefit by issuing the securities at '\n",
      "             'more attractive rates for the company,\" the SEC said in a '\n",
      "             'summary of its filing.\\n'\n",
      "             'Volkswagen said the SEC complaint \"is legally and factually '\n",
      "             'flawed.\" Reuters reported that a lawyer for Winterkorn could not '\n",
      "             'immediately be reached early Friday.\\n'\n",
      "             'VW had said in its annual report that the SEC could take '\n",
      "             'enforcement action against the company over the German '\n",
      "             \"automaker's involvement in the emissions scandal.\\n\"\n",
      "             'The automaker said the agency is \"piling on\" and that the '\n",
      "             \"agency's complaint is without merit.\\n\"\n",
      "             'The SEC has asked Volkswagen for information on potential '\n",
      "             'securities law violations over certain investments the company '\n",
      "             'may have sold to investors. The agency is looking for evidence '\n",
      "             'determining whether the automaker failed to disclose information '\n",
      "             \"about vehicles that didn't comply with U.S. emissions standards \"\n",
      "             'when it issued certain securities to investors.\\n'\n",
      "             \"One of the world's largest carmakers, Volkswagen was rocked by \"\n",
      "             'reports first surfacing in 2015 that it had been caught cheating '\n",
      "             'on emissions tests in the United States. The subsequent scandal '\n",
      "             'cost Volkswagen billions of dollars to settle and forced the '\n",
      "             'automakers to recall millions of vehicles.\\n'\n",
      "             \"Here is Volkswagen's full statement to CNBC:\\n\"\n",
      "             \"The SEC's complaint is legally and factually flawed, and \"\n",
      "             'Volkswagen will contest it vigorously. The SEC has brought an '\n",
      "             'unprecedented complaint over securities sold only to '\n",
      "             'sophisticated investors who were not harmed and received all '\n",
      "             'payments of interest and principal in full and on time. The SEC '\n",
      "             'does not charge that any person involved in the bond issuance '\n",
      "             'knew that Volkswagen diesel vehicles did not comply with U.S. '\n",
      "             'emissions rules when these securities were sold, but simply '\n",
      "             \"repeats unproven claims about Volkswagen AG's former CEO, who \"\n",
      "             'played no part in the sales. Regrettably, more than two years '\n",
      "             'after Volkswagen entered into landmark, multibillion-dollar '\n",
      "             'settlements in the United States with the Department of Justice, '\n",
      "             'almost every state and nearly 600,000 consumers, the SEC is now '\n",
      "             'piling on to try to extract more from the company.\\n'\n",
      "             '— The Associated Press and Reuters contributed to this report.\\n',\n",
      "  'reporter': 'Robert Ferris',\n",
      "  'summary': ['The SEC is charging Volkswagen and former CEO Martin Winterkorn '\n",
      "              'with defrauding American investors during an emissions scandal.',\n",
      "              'The commission said that between April 2014 and May 2015 '\n",
      "              'Volkswagen issued more than $13 billion in bonds and '\n",
      "              'asset-backed securities in U.S. markets when senior executives '\n",
      "              'knew that more than 500,000 vehicles in the country grossly '\n",
      "              'exceeded legal vehicle emissions limits.'],\n",
      "  'title': 'SEC charges Volkswagen and its former CEO with defrauding '\n",
      "           'investors',\n",
      "  'url': 'https://www.cnbc.com/2019/03/15/dieselgate-sec-says-volkswagen-perpetrated-fraud-lied-to-investors.html'}]\n"
     ]
    }
   ],
   "source": [
    "pprint(articles)"
   ]
  },
  {
   "cell_type": "code",
   "execution_count": 5,
   "metadata": {},
   "outputs": [],
   "source": [
    "article = articles[0]"
   ]
  },
  {
   "cell_type": "code",
   "execution_count": 6,
   "metadata": {},
   "outputs": [
    {
     "data": {
      "text/plain": [
       "\"Steven Spielberg reportedly met with Netflix's Ted Sarandos, sparking hopes for Academy Awards' truce\""
      ]
     },
     "execution_count": 6,
     "metadata": {},
     "output_type": "execute_result"
    }
   ],
   "source": [
    "article['title'] "
   ]
  },
  {
   "cell_type": "code",
   "execution_count": 7,
   "metadata": {},
   "outputs": [
    {
     "name": "stdout",
     "output_type": "stream",
     "text": [
      "('\\n'\n",
      " 'Steven Spielberg, a film industry titan with 58 directorial credits to his '\n",
      " 'name, has long been vocal about the differences between theatrical and '\n",
      " 'streaming releases.\\n'\n",
      " '\\n'\n",
      " 'As the governor of the Academy of Motion Picture Arts and Sciences directors '\n",
      " 'branch he has said that he would like films to have a longer theatrical run '\n",
      " 'in order to qualify for an Academy Award. Those comments have led some to '\n",
      " 'believe that Spielberg was ready to wage war on platforms like Netflix, '\n",
      " 'especially after the streaming service\\'s film \"Roma\" took home three Oscars '\n",
      " 'last month.\\n'\n",
      " \"However, Spielberg reportedly met with Netflix's Chief Content Officer Ted \"\n",
      " 'Sarandos earlier this week, a sign that, perhaps, these rumors of discord '\n",
      " 'are just that, rumors.\\n'\n",
      " '\\n'\n",
      " 'The two were seen dining together at the San Vincente Bungalows, a private '\n",
      " 'club in West Hollywood, according to The Hollywood Reporter.\\n'\n",
      " \"It's unclear what was discussed during their meeting. Representatives for \"\n",
      " 'Spielberg and Sarandos were not immediately available to comment.\\n'\n",
      " 'Earlier this week, media mogul Jeffrey Katzenberg said that Spielberg had no '\n",
      " 'plan to campaign against Netflix, saying at the South By Southwest '\n",
      " 'conference in Texas that \"he is not going to the academy in April with some '\n",
      " 'sort of plan,\" according to a report by the Hollywood Reporter.\\n'\n",
      " 'Read the full report by The Hollywood Reporter.\\n'\n",
      " '\\n')\n"
     ]
    }
   ],
   "source": [
    "pprint(article['article'])"
   ]
  },
  {
   "cell_type": "code",
   "execution_count": 8,
   "metadata": {},
   "outputs": [
    {
     "data": {
      "text/plain": [
       "'https://www.cnbc.com/2019/03/15/spielberg-and-netflixs-sarandos-meet-sparking-hope-for-oscars-truce.html'"
      ]
     },
     "execution_count": 8,
     "metadata": {},
     "output_type": "execute_result"
    }
   ],
   "source": [
    "article['url']"
   ]
  },
  {
   "cell_type": "markdown",
   "metadata": {},
   "source": [
    " # Natural Language Processing Steps"
   ]
  },
  {
   "cell_type": "markdown",
   "metadata": {},
   "source": [
    "### Clean Article Text"
   ]
  },
  {
   "cell_type": "code",
   "execution_count": 9,
   "metadata": {},
   "outputs": [],
   "source": [
    "# Remove unnecessary '\\n'\n",
    "cleaned_article = article['article'].replace('\\n', ' ')"
   ]
  },
  {
   "cell_type": "markdown",
   "metadata": {},
   "source": [
    "### Named-Entity Extraction"
   ]
  },
  {
   "cell_type": "code",
   "execution_count": 10,
   "metadata": {},
   "outputs": [],
   "source": [
    "# Load English tokenizer, tagger, parser, NER and word vectors\n",
    "nlp = spacy.load('en_core_web_lg')\n",
    "\n",
    "nlp_data = nlp(cleaned_article)"
   ]
  },
  {
   "cell_type": "code",
   "execution_count": 11,
   "metadata": {},
   "outputs": [
    {
     "data": {
      "text/html": [
       "<div class=\"entities\" style=\"line-height: 2.5\"> \n",
       "<mark class=\"entity\" style=\"background: #aa9cfc; padding: 0.45em 0.6em; margin: 0 0.25em; line-height: 1; border-radius: 0.35em; box-decoration-break: clone; -webkit-box-decoration-break: clone\">\n",
       "    Steven Spielberg\n",
       "    <span style=\"font-size: 0.8em; font-weight: bold; line-height: 1; border-radius: 0.35em; text-transform: uppercase; vertical-align: middle; margin-left: 0.5rem\">PERSON</span>\n",
       "</mark>\n",
       ", a film industry titan with \n",
       "<mark class=\"entity\" style=\"background: #e4e7d2; padding: 0.45em 0.6em; margin: 0 0.25em; line-height: 1; border-radius: 0.35em; box-decoration-break: clone; -webkit-box-decoration-break: clone\">\n",
       "    58\n",
       "    <span style=\"font-size: 0.8em; font-weight: bold; line-height: 1; border-radius: 0.35em; text-transform: uppercase; vertical-align: middle; margin-left: 0.5rem\">CARDINAL</span>\n",
       "</mark>\n",
       " directorial credits to his name, has long been vocal about the differences between theatrical and streaming releases.  As the governor of \n",
       "<mark class=\"entity\" style=\"background: #7aecec; padding: 0.45em 0.6em; margin: 0 0.25em; line-height: 1; border-radius: 0.35em; box-decoration-break: clone; -webkit-box-decoration-break: clone\">\n",
       "    the Academy of Motion Picture Arts and Sciences\n",
       "    <span style=\"font-size: 0.8em; font-weight: bold; line-height: 1; border-radius: 0.35em; text-transform: uppercase; vertical-align: middle; margin-left: 0.5rem\">ORG</span>\n",
       "</mark>\n",
       " directors branch he has said that he would like films to have a longer theatrical run in order to qualify for an Academy Award. Those comments have led some to believe that \n",
       "<mark class=\"entity\" style=\"background: #aa9cfc; padding: 0.45em 0.6em; margin: 0 0.25em; line-height: 1; border-radius: 0.35em; box-decoration-break: clone; -webkit-box-decoration-break: clone\">\n",
       "    Spielberg\n",
       "    <span style=\"font-size: 0.8em; font-weight: bold; line-height: 1; border-radius: 0.35em; text-transform: uppercase; vertical-align: middle; margin-left: 0.5rem\">PERSON</span>\n",
       "</mark>\n",
       " was ready to wage war on platforms like \n",
       "<mark class=\"entity\" style=\"background: #7aecec; padding: 0.45em 0.6em; margin: 0 0.25em; line-height: 1; border-radius: 0.35em; box-decoration-break: clone; -webkit-box-decoration-break: clone\">\n",
       "    Netflix\n",
       "    <span style=\"font-size: 0.8em; font-weight: bold; line-height: 1; border-radius: 0.35em; text-transform: uppercase; vertical-align: middle; margin-left: 0.5rem\">ORG</span>\n",
       "</mark>\n",
       ", especially after the streaming service's film \"\n",
       "<mark class=\"entity\" style=\"background: #f0d0ff; padding: 0.45em 0.6em; margin: 0 0.25em; line-height: 1; border-radius: 0.35em; box-decoration-break: clone; -webkit-box-decoration-break: clone\">\n",
       "    Roma\n",
       "    <span style=\"font-size: 0.8em; font-weight: bold; line-height: 1; border-radius: 0.35em; text-transform: uppercase; vertical-align: middle; margin-left: 0.5rem\">WORK_OF_ART</span>\n",
       "</mark>\n",
       "\" took home \n",
       "<mark class=\"entity\" style=\"background: #e4e7d2; padding: 0.45em 0.6em; margin: 0 0.25em; line-height: 1; border-radius: 0.35em; box-decoration-break: clone; -webkit-box-decoration-break: clone\">\n",
       "    three\n",
       "    <span style=\"font-size: 0.8em; font-weight: bold; line-height: 1; border-radius: 0.35em; text-transform: uppercase; vertical-align: middle; margin-left: 0.5rem\">CARDINAL</span>\n",
       "</mark>\n",
       " \n",
       "<mark class=\"entity\" style=\"background: #7aecec; padding: 0.45em 0.6em; margin: 0 0.25em; line-height: 1; border-radius: 0.35em; box-decoration-break: clone; -webkit-box-decoration-break: clone\">\n",
       "    Oscars\n",
       "    <span style=\"font-size: 0.8em; font-weight: bold; line-height: 1; border-radius: 0.35em; text-transform: uppercase; vertical-align: middle; margin-left: 0.5rem\">ORG</span>\n",
       "</mark>\n",
       " \n",
       "<mark class=\"entity\" style=\"background: #bfe1d9; padding: 0.45em 0.6em; margin: 0 0.25em; line-height: 1; border-radius: 0.35em; box-decoration-break: clone; -webkit-box-decoration-break: clone\">\n",
       "    last month\n",
       "    <span style=\"font-size: 0.8em; font-weight: bold; line-height: 1; border-radius: 0.35em; text-transform: uppercase; vertical-align: middle; margin-left: 0.5rem\">DATE</span>\n",
       "</mark>\n",
       ". However, \n",
       "<mark class=\"entity\" style=\"background: #aa9cfc; padding: 0.45em 0.6em; margin: 0 0.25em; line-height: 1; border-radius: 0.35em; box-decoration-break: clone; -webkit-box-decoration-break: clone\">\n",
       "    Spielberg\n",
       "    <span style=\"font-size: 0.8em; font-weight: bold; line-height: 1; border-radius: 0.35em; text-transform: uppercase; vertical-align: middle; margin-left: 0.5rem\">PERSON</span>\n",
       "</mark>\n",
       " reportedly met with \n",
       "<mark class=\"entity\" style=\"background: #7aecec; padding: 0.45em 0.6em; margin: 0 0.25em; line-height: 1; border-radius: 0.35em; box-decoration-break: clone; -webkit-box-decoration-break: clone\">\n",
       "    Netflix\n",
       "    <span style=\"font-size: 0.8em; font-weight: bold; line-height: 1; border-radius: 0.35em; text-transform: uppercase; vertical-align: middle; margin-left: 0.5rem\">ORG</span>\n",
       "</mark>\n",
       "'s Chief Content Officer \n",
       "<mark class=\"entity\" style=\"background: #aa9cfc; padding: 0.45em 0.6em; margin: 0 0.25em; line-height: 1; border-radius: 0.35em; box-decoration-break: clone; -webkit-box-decoration-break: clone\">\n",
       "    Ted Sarandos\n",
       "    <span style=\"font-size: 0.8em; font-weight: bold; line-height: 1; border-radius: 0.35em; text-transform: uppercase; vertical-align: middle; margin-left: 0.5rem\">PERSON</span>\n",
       "</mark>\n",
       " \n",
       "<mark class=\"entity\" style=\"background: #bfe1d9; padding: 0.45em 0.6em; margin: 0 0.25em; line-height: 1; border-radius: 0.35em; box-decoration-break: clone; -webkit-box-decoration-break: clone\">\n",
       "    earlier this week\n",
       "    <span style=\"font-size: 0.8em; font-weight: bold; line-height: 1; border-radius: 0.35em; text-transform: uppercase; vertical-align: middle; margin-left: 0.5rem\">DATE</span>\n",
       "</mark>\n",
       ", a sign that, perhaps, these rumors of discord are just that, rumors.  The \n",
       "<mark class=\"entity\" style=\"background: #e4e7d2; padding: 0.45em 0.6em; margin: 0 0.25em; line-height: 1; border-radius: 0.35em; box-decoration-break: clone; -webkit-box-decoration-break: clone\">\n",
       "    two\n",
       "    <span style=\"font-size: 0.8em; font-weight: bold; line-height: 1; border-radius: 0.35em; text-transform: uppercase; vertical-align: middle; margin-left: 0.5rem\">CARDINAL</span>\n",
       "</mark>\n",
       " were seen dining together at the San Vincente Bungalows, a private club in \n",
       "<mark class=\"entity\" style=\"background: #ff9561; padding: 0.45em 0.6em; margin: 0 0.25em; line-height: 1; border-radius: 0.35em; box-decoration-break: clone; -webkit-box-decoration-break: clone\">\n",
       "    West Hollywood\n",
       "    <span style=\"font-size: 0.8em; font-weight: bold; line-height: 1; border-radius: 0.35em; text-transform: uppercase; vertical-align: middle; margin-left: 0.5rem\">LOC</span>\n",
       "</mark>\n",
       ", according to \n",
       "<mark class=\"entity\" style=\"background: #7aecec; padding: 0.45em 0.6em; margin: 0 0.25em; line-height: 1; border-radius: 0.35em; box-decoration-break: clone; -webkit-box-decoration-break: clone\">\n",
       "    The Hollywood Reporter\n",
       "    <span style=\"font-size: 0.8em; font-weight: bold; line-height: 1; border-radius: 0.35em; text-transform: uppercase; vertical-align: middle; margin-left: 0.5rem\">ORG</span>\n",
       "</mark>\n",
       ". It's unclear what was discussed during their meeting. Representatives for \n",
       "<mark class=\"entity\" style=\"background: #aa9cfc; padding: 0.45em 0.6em; margin: 0 0.25em; line-height: 1; border-radius: 0.35em; box-decoration-break: clone; -webkit-box-decoration-break: clone\">\n",
       "    Spielberg\n",
       "    <span style=\"font-size: 0.8em; font-weight: bold; line-height: 1; border-radius: 0.35em; text-transform: uppercase; vertical-align: middle; margin-left: 0.5rem\">PERSON</span>\n",
       "</mark>\n",
       " and \n",
       "<mark class=\"entity\" style=\"background: #aa9cfc; padding: 0.45em 0.6em; margin: 0 0.25em; line-height: 1; border-radius: 0.35em; box-decoration-break: clone; -webkit-box-decoration-break: clone\">\n",
       "    Sarandos\n",
       "    <span style=\"font-size: 0.8em; font-weight: bold; line-height: 1; border-radius: 0.35em; text-transform: uppercase; vertical-align: middle; margin-left: 0.5rem\">PERSON</span>\n",
       "</mark>\n",
       " were not immediately available to comment. \n",
       "<mark class=\"entity\" style=\"background: #bfe1d9; padding: 0.45em 0.6em; margin: 0 0.25em; line-height: 1; border-radius: 0.35em; box-decoration-break: clone; -webkit-box-decoration-break: clone\">\n",
       "    Earlier this week\n",
       "    <span style=\"font-size: 0.8em; font-weight: bold; line-height: 1; border-radius: 0.35em; text-transform: uppercase; vertical-align: middle; margin-left: 0.5rem\">DATE</span>\n",
       "</mark>\n",
       ", media mogul \n",
       "<mark class=\"entity\" style=\"background: #aa9cfc; padding: 0.45em 0.6em; margin: 0 0.25em; line-height: 1; border-radius: 0.35em; box-decoration-break: clone; -webkit-box-decoration-break: clone\">\n",
       "    Jeffrey Katzenberg\n",
       "    <span style=\"font-size: 0.8em; font-weight: bold; line-height: 1; border-radius: 0.35em; text-transform: uppercase; vertical-align: middle; margin-left: 0.5rem\">PERSON</span>\n",
       "</mark>\n",
       " said that \n",
       "<mark class=\"entity\" style=\"background: #aa9cfc; padding: 0.45em 0.6em; margin: 0 0.25em; line-height: 1; border-radius: 0.35em; box-decoration-break: clone; -webkit-box-decoration-break: clone\">\n",
       "    Spielberg\n",
       "    <span style=\"font-size: 0.8em; font-weight: bold; line-height: 1; border-radius: 0.35em; text-transform: uppercase; vertical-align: middle; margin-left: 0.5rem\">PERSON</span>\n",
       "</mark>\n",
       " had no plan to campaign against \n",
       "<mark class=\"entity\" style=\"background: #7aecec; padding: 0.45em 0.6em; margin: 0 0.25em; line-height: 1; border-radius: 0.35em; box-decoration-break: clone; -webkit-box-decoration-break: clone\">\n",
       "    Netflix\n",
       "    <span style=\"font-size: 0.8em; font-weight: bold; line-height: 1; border-radius: 0.35em; text-transform: uppercase; vertical-align: middle; margin-left: 0.5rem\">ORG</span>\n",
       "</mark>\n",
       ", saying at the \n",
       "<mark class=\"entity\" style=\"background: #ff9561; padding: 0.45em 0.6em; margin: 0 0.25em; line-height: 1; border-radius: 0.35em; box-decoration-break: clone; -webkit-box-decoration-break: clone\">\n",
       "    South\n",
       "    <span style=\"font-size: 0.8em; font-weight: bold; line-height: 1; border-radius: 0.35em; text-transform: uppercase; vertical-align: middle; margin-left: 0.5rem\">LOC</span>\n",
       "</mark>\n",
       " By \n",
       "<mark class=\"entity\" style=\"background: #ff9561; padding: 0.45em 0.6em; margin: 0 0.25em; line-height: 1; border-radius: 0.35em; box-decoration-break: clone; -webkit-box-decoration-break: clone\">\n",
       "    Southwest\n",
       "    <span style=\"font-size: 0.8em; font-weight: bold; line-height: 1; border-radius: 0.35em; text-transform: uppercase; vertical-align: middle; margin-left: 0.5rem\">LOC</span>\n",
       "</mark>\n",
       " conference in \n",
       "<mark class=\"entity\" style=\"background: #feca74; padding: 0.45em 0.6em; margin: 0 0.25em; line-height: 1; border-radius: 0.35em; box-decoration-break: clone; -webkit-box-decoration-break: clone\">\n",
       "    Texas\n",
       "    <span style=\"font-size: 0.8em; font-weight: bold; line-height: 1; border-radius: 0.35em; text-transform: uppercase; vertical-align: middle; margin-left: 0.5rem\">GPE</span>\n",
       "</mark>\n",
       " that \"he is not going to the academy in \n",
       "<mark class=\"entity\" style=\"background: #bfe1d9; padding: 0.45em 0.6em; margin: 0 0.25em; line-height: 1; border-radius: 0.35em; box-decoration-break: clone; -webkit-box-decoration-break: clone\">\n",
       "    April\n",
       "    <span style=\"font-size: 0.8em; font-weight: bold; line-height: 1; border-radius: 0.35em; text-transform: uppercase; vertical-align: middle; margin-left: 0.5rem\">DATE</span>\n",
       "</mark>\n",
       " with some sort of plan,\" according to a report by the \n",
       "<mark class=\"entity\" style=\"background: #feca74; padding: 0.45em 0.6em; margin: 0 0.25em; line-height: 1; border-radius: 0.35em; box-decoration-break: clone; -webkit-box-decoration-break: clone\">\n",
       "    Hollywood\n",
       "    <span style=\"font-size: 0.8em; font-weight: bold; line-height: 1; border-radius: 0.35em; text-transform: uppercase; vertical-align: middle; margin-left: 0.5rem\">GPE</span>\n",
       "</mark>\n",
       " Reporter. Read the full report by The \n",
       "<mark class=\"entity\" style=\"background: #feca74; padding: 0.45em 0.6em; margin: 0 0.25em; line-height: 1; border-radius: 0.35em; box-decoration-break: clone; -webkit-box-decoration-break: clone\">\n",
       "    Hollywood\n",
       "    <span style=\"font-size: 0.8em; font-weight: bold; line-height: 1; border-radius: 0.35em; text-transform: uppercase; vertical-align: middle; margin-left: 0.5rem\">GPE</span>\n",
       "</mark>\n",
       " Reporter.  </div>"
      ],
      "text/plain": [
       "<IPython.core.display.HTML object>"
      ]
     },
     "metadata": {},
     "output_type": "display_data"
    }
   ],
   "source": [
    "displacy.render(nlp_data, style=\"ent\", jupyter=True)"
   ]
  },
  {
   "cell_type": "code",
   "execution_count": 12,
   "metadata": {},
   "outputs": [],
   "source": [
    "# Extract Entities\n",
    "entities =  nlp_data.ents"
   ]
  },
  {
   "cell_type": "code",
   "execution_count": 13,
   "metadata": {},
   "outputs": [
    {
     "data": {
      "text/plain": [
       "[('Spielberg', 4),\n",
       " ('Steven Spielberg', 1),\n",
       " ('Ted Sarandos', 1),\n",
       " ('Sarandos', 1),\n",
       " ('Jeffrey Katzenberg', 1)]"
      ]
     },
     "execution_count": 13,
     "metadata": {},
     "output_type": "execute_result"
    }
   ],
   "source": [
    "# Obtain top 10 people mentioned in article\n",
    "people = [ent.text.replace('\\n','') for ent in entities if ent.label_ == 'PERSON']\n",
    "top_people = Counter(people).most_common(10)\n",
    "\n",
    "top_people"
   ]
  },
  {
   "cell_type": "code",
   "execution_count": 14,
   "metadata": {},
   "outputs": [
    {
     "data": {
      "text/plain": [
       "[('Netflix', 3),\n",
       " ('the Academy of Motion Picture Arts and Sciences', 1),\n",
       " ('Oscars', 1),\n",
       " ('The Hollywood Reporter', 1)]"
      ]
     },
     "execution_count": 14,
     "metadata": {},
     "output_type": "execute_result"
    }
   ],
   "source": [
    "# Obtain top 10 organizations mentioned in article\n",
    "organizations = [ent.text.replace('\\n','') for ent in entities if ent.label_ == 'ORG']\n",
    "top_orgs = Counter(organizations).most_common(10)\n",
    "\n",
    "top_orgs"
   ]
  },
  {
   "cell_type": "markdown",
   "metadata": {},
   "source": [
    "### Document Summarization"
   ]
  },
  {
   "cell_type": "markdown",
   "metadata": {},
   "source": [
    "#### Clean Text"
   ]
  },
  {
   "cell_type": "code",
   "execution_count": 15,
   "metadata": {},
   "outputs": [],
   "source": [
    "# Tokenize by Sentence\n",
    "article_sentence_list = nltk.tokenize.sent_tokenize(cleaned_article)"
   ]
  },
  {
   "cell_type": "code",
   "execution_count": 16,
   "metadata": {},
   "outputs": [],
   "source": [
    "# Remove Punctuation\n",
    "punctuation_table = str.maketrans('', '', string.punctuation)\n",
    "\n",
    "removed_punctuation = [w.translate(punctuation_table) for w in article_sentence_list]\n",
    "removed_mdash = [sentence.replace('—', '') for sentence in removed_punctuation]"
   ]
  },
  {
   "cell_type": "code",
   "execution_count": 17,
   "metadata": {},
   "outputs": [],
   "source": [
    "# Convert words to lowercase\n",
    "lower_sentences = [s.lower() for s in removed_mdash]"
   ]
  },
  {
   "cell_type": "code",
   "execution_count": 18,
   "metadata": {},
   "outputs": [],
   "source": [
    "# Remove stopwords\n",
    "stop_words =  nltk.corpus.stopwords.words('english')\n",
    "\n",
    "removed_stopwords = [remove_stopwords(sentence) for sentence in lower_sentences]"
   ]
  },
  {
   "cell_type": "code",
   "execution_count": 19,
   "metadata": {},
   "outputs": [],
   "source": [
    "# Convert words to root word (e.g., 'according' to 'accord')\n",
    "lemmatize_sentences = [lemmatize_words(sentence) for sentence in removed_stopwords]"
   ]
  },
  {
   "cell_type": "code",
   "execution_count": 44,
   "metadata": {
    "scrolled": true
   },
   "outputs": [
    {
     "data": {
      "text/markdown": [
       "**Original**:  Steven Spielberg, a film industry titan with 58 directorial credits to his name, has long been vocal about the differences between theatrical and streaming releases."
      ],
      "text/plain": [
       "<IPython.core.display.Markdown object>"
      ]
     },
     "metadata": {},
     "output_type": "display_data"
    },
    {
     "data": {
      "text/markdown": [
       "**Cleaned**: steven spielberg film industry titan 58 directorial credit name long vocal difference theatrical streaming release"
      ],
      "text/plain": [
       "<IPython.core.display.Markdown object>"
      ]
     },
     "metadata": {},
     "output_type": "display_data"
    },
    {
     "data": {
      "text/markdown": [
       "---"
      ],
      "text/plain": [
       "<IPython.core.display.Markdown object>"
      ]
     },
     "metadata": {},
     "output_type": "display_data"
    },
    {
     "data": {
      "text/markdown": [
       "**Original**: As the governor of the Academy of Motion Picture Arts and Sciences directors branch he has said that he would like films to have a longer theatrical run in order to qualify for an Academy Award."
      ],
      "text/plain": [
       "<IPython.core.display.Markdown object>"
      ]
     },
     "metadata": {},
     "output_type": "display_data"
    },
    {
     "data": {
      "text/markdown": [
       "**Cleaned**: governor academy motion picture art science director branch say would like film longer theatrical run order qualify academy award"
      ],
      "text/plain": [
       "<IPython.core.display.Markdown object>"
      ]
     },
     "metadata": {},
     "output_type": "display_data"
    },
    {
     "data": {
      "text/markdown": [
       "---"
      ],
      "text/plain": [
       "<IPython.core.display.Markdown object>"
      ]
     },
     "metadata": {},
     "output_type": "display_data"
    },
    {
     "data": {
      "text/markdown": [
       "**Original**: Those comments have led some to believe that Spielberg was ready to wage war on platforms like Netflix, especially after the streaming service's film \"Roma\" took home three Oscars last month."
      ],
      "text/plain": [
       "<IPython.core.display.Markdown object>"
      ]
     },
     "metadata": {},
     "output_type": "display_data"
    },
    {
     "data": {
      "text/markdown": [
       "**Cleaned**: comment lead believe spielberg ready wage war platform like netflix especially stream service film roma take home three oscar last month"
      ],
      "text/plain": [
       "<IPython.core.display.Markdown object>"
      ]
     },
     "metadata": {},
     "output_type": "display_data"
    },
    {
     "data": {
      "text/markdown": [
       "---"
      ],
      "text/plain": [
       "<IPython.core.display.Markdown object>"
      ]
     },
     "metadata": {},
     "output_type": "display_data"
    },
    {
     "data": {
      "text/markdown": [
       "**Original**: However, Spielberg reportedly met with Netflix's Chief Content Officer Ted Sarandos earlier this week, a sign that, perhaps, these rumors of discord are just that, rumors."
      ],
      "text/plain": [
       "<IPython.core.display.Markdown object>"
      ]
     },
     "metadata": {},
     "output_type": "display_data"
    },
    {
     "data": {
      "text/markdown": [
       "**Cleaned**: however spielberg reportedly meet netflixs chief content officer ted sarando earlier week sign perhaps rumor discord rumor"
      ],
      "text/plain": [
       "<IPython.core.display.Markdown object>"
      ]
     },
     "metadata": {},
     "output_type": "display_data"
    },
    {
     "data": {
      "text/markdown": [
       "---"
      ],
      "text/plain": [
       "<IPython.core.display.Markdown object>"
      ]
     },
     "metadata": {},
     "output_type": "display_data"
    },
    {
     "data": {
      "text/markdown": [
       "**Original**: The two were seen dining together at the San Vincente Bungalows, a private club in West Hollywood, according to The Hollywood Reporter."
      ],
      "text/plain": [
       "<IPython.core.display.Markdown object>"
      ]
     },
     "metadata": {},
     "output_type": "display_data"
    },
    {
     "data": {
      "text/markdown": [
       "**Cleaned**: two see dining together san vincente bungalow private club west hollywood accord hollywood reporter"
      ],
      "text/plain": [
       "<IPython.core.display.Markdown object>"
      ]
     },
     "metadata": {},
     "output_type": "display_data"
    },
    {
     "data": {
      "text/markdown": [
       "---"
      ],
      "text/plain": [
       "<IPython.core.display.Markdown object>"
      ]
     },
     "metadata": {},
     "output_type": "display_data"
    },
    {
     "data": {
      "text/markdown": [
       "**Original**: It's unclear what was discussed during their meeting."
      ],
      "text/plain": [
       "<IPython.core.display.Markdown object>"
      ]
     },
     "metadata": {},
     "output_type": "display_data"
    },
    {
     "data": {
      "text/markdown": [
       "**Cleaned**: unclear discuss meet"
      ],
      "text/plain": [
       "<IPython.core.display.Markdown object>"
      ]
     },
     "metadata": {},
     "output_type": "display_data"
    },
    {
     "data": {
      "text/markdown": [
       "---"
      ],
      "text/plain": [
       "<IPython.core.display.Markdown object>"
      ]
     },
     "metadata": {},
     "output_type": "display_data"
    },
    {
     "data": {
      "text/markdown": [
       "**Original**: Representatives for Spielberg and Sarandos were not immediately available to comment."
      ],
      "text/plain": [
       "<IPython.core.display.Markdown object>"
      ]
     },
     "metadata": {},
     "output_type": "display_data"
    },
    {
     "data": {
      "text/markdown": [
       "**Cleaned**: representative spielberg sarando immediately available comment"
      ],
      "text/plain": [
       "<IPython.core.display.Markdown object>"
      ]
     },
     "metadata": {},
     "output_type": "display_data"
    },
    {
     "data": {
      "text/markdown": [
       "---"
      ],
      "text/plain": [
       "<IPython.core.display.Markdown object>"
      ]
     },
     "metadata": {},
     "output_type": "display_data"
    },
    {
     "data": {
      "text/markdown": [
       "**Original**: Earlier this week, media mogul Jeffrey Katzenberg said that Spielberg had no plan to campaign against Netflix, saying at the South By Southwest conference in Texas that \"he is not going to the academy in April with some sort of plan,\" according to a report by the Hollywood Reporter."
      ],
      "text/plain": [
       "<IPython.core.display.Markdown object>"
      ]
     },
     "metadata": {},
     "output_type": "display_data"
    },
    {
     "data": {
      "text/markdown": [
       "**Cleaned**: early week medium mogul jeffrey katzenberg say spielberg plan campaign against netflix say south southwest conference texas go academy april sort plan accord report hollywood reporter"
      ],
      "text/plain": [
       "<IPython.core.display.Markdown object>"
      ]
     },
     "metadata": {},
     "output_type": "display_data"
    },
    {
     "data": {
      "text/markdown": [
       "---"
      ],
      "text/plain": [
       "<IPython.core.display.Markdown object>"
      ]
     },
     "metadata": {},
     "output_type": "display_data"
    },
    {
     "data": {
      "text/markdown": [
       "**Original**: Read the full report by The Hollywood Reporter."
      ],
      "text/plain": [
       "<IPython.core.display.Markdown object>"
      ]
     },
     "metadata": {},
     "output_type": "display_data"
    },
    {
     "data": {
      "text/markdown": [
       "**Cleaned**: read full report hollywood reporter"
      ],
      "text/plain": [
       "<IPython.core.display.Markdown object>"
      ]
     },
     "metadata": {},
     "output_type": "display_data"
    },
    {
     "data": {
      "text/markdown": [
       "---"
      ],
      "text/plain": [
       "<IPython.core.display.Markdown object>"
      ]
     },
     "metadata": {},
     "output_type": "display_data"
    }
   ],
   "source": [
    "for lemmatize_sentence, raw_sentence in zip(lemmatize_sentences, article_sentence_list):\n",
    "    \n",
    "    display(Markdown(f\"**Original**: {raw_sentence}\"))\n",
    "    display(Markdown(f\"**Cleaned**: {lemmatize_sentence}\"))\n",
    "    display(Markdown(f\"---\"))\n",
    "\n"
   ]
  },
  {
   "cell_type": "markdown",
   "metadata": {},
   "source": [
    "#### Calculate Sentence Similarity"
   ]
  },
  {
   "cell_type": "code",
   "execution_count": 21,
   "metadata": {},
   "outputs": [],
   "source": [
    "word_vectors = spacy.load('en_vectors_web_lg')"
   ]
  },
  {
   "cell_type": "code",
   "execution_count": 29,
   "metadata": {},
   "outputs": [
    {
     "name": "stdout",
     "output_type": "stream",
     "text": [
      "cat - cat : 1.0\n",
      "cat - dog : 0.8\n",
      "cat - banana : 0.28\n",
      "cat - plantain : 0.02\n",
      "cat - facebook : 0.22\n",
      "cat - google : 0.24\n",
      "dog - cat : 0.8\n",
      "dog - dog : 1.0\n",
      "dog - banana : 0.24\n",
      "dog - plantain : 0.0\n",
      "dog - facebook : 0.17\n",
      "dog - google : 0.22\n",
      "banana - cat : 0.28\n",
      "banana - dog : 0.24\n",
      "banana - banana : 1.0\n",
      "banana - plantain : 0.52\n",
      "banana - facebook : 0.14\n",
      "banana - google : 0.18\n",
      "plantain - cat : 0.02\n",
      "plantain - dog : 0.0\n",
      "plantain - banana : 0.52\n",
      "plantain - plantain : 1.0\n",
      "plantain - facebook : -0.1\n",
      "plantain - google : -0.05\n",
      "facebook - cat : 0.22\n",
      "facebook - dog : 0.17\n",
      "facebook - banana : 0.14\n",
      "facebook - plantain : -0.1\n",
      "facebook - facebook : 1.0\n",
      "facebook - google : 0.73\n",
      "google - cat : 0.24\n",
      "google - dog : 0.22\n",
      "google - banana : 0.18\n",
      "google - plantain : -0.05\n",
      "google - facebook : 0.73\n",
      "google - google : 1.0\n"
     ]
    }
   ],
   "source": [
    "# Word Similarity Example\n",
    "X = ['cat', 'dog', 'banana', 'plantain', 'facebook', 'google']\n",
    "for word_i in X:\n",
    "    for word_j in X:\n",
    "            print(word_i, '-',word_j, ':', \n",
    "                  round(word_vectors(word_i).similarity(word_vectors(word_j)),2))"
   ]
  },
  {
   "cell_type": "code",
   "execution_count": 23,
   "metadata": {},
   "outputs": [],
   "source": [
    "similarity_matrix = np.zeros([len(lemmatize_sentences), \n",
    "                              len(lemmatize_sentences)])\n",
    "\n",
    "similarity_matrix\n",
    "for i, sentence_i in enumerate(lemmatize_sentences):\n",
    "    nlp_i = nlp(sentence_i)\n",
    "    for j, sentence_j in enumerate(lemmatize_sentences):\n",
    "        if i != j:\n",
    "            nlp_j = nlp(sentence_j)\n",
    "            similarity_matrix[i][j] = nlp_i.similarity(nlp_j)"
   ]
  },
  {
   "cell_type": "code",
   "execution_count": 24,
   "metadata": {},
   "outputs": [
    {
     "data": {
      "text/plain": [
       "array([[0.        , 0.7902801 , 0.79117085, 0.64559904, 0.58940274,\n",
       "        0.42111417, 0.62151528, 0.70289835, 0.60373117],\n",
       "       [0.7902801 , 0.        , 0.83430138, 0.73435571, 0.67062155,\n",
       "        0.60547106, 0.68502817, 0.80599006, 0.65170639],\n",
       "       [0.79117085, 0.83430138, 0.        , 0.77410935, 0.70949974,\n",
       "        0.60266612, 0.69675199, 0.85659173, 0.68316482],\n",
       "       [0.64559904, 0.73435571, 0.77410935, 0.        , 0.61327055,\n",
       "        0.68515174, 0.69267565, 0.80578375, 0.66502025],\n",
       "       [0.58940274, 0.67062155, 0.70949974, 0.61327055, 0.        ,\n",
       "        0.44695763, 0.49607458, 0.81001306, 0.66927214],\n",
       "       [0.42111417, 0.60547106, 0.60266612, 0.68515174, 0.44695763,\n",
       "        0.        , 0.56788706, 0.60338968, 0.4947186 ],\n",
       "       [0.62151528, 0.68502817, 0.69675199, 0.69267565, 0.49607458,\n",
       "        0.56788706, 0.        , 0.62917975, 0.60409866],\n",
       "       [0.70289835, 0.80599006, 0.85659173, 0.80578375, 0.81001306,\n",
       "        0.60338968, 0.62917975, 0.        , 0.7379883 ],\n",
       "       [0.60373117, 0.65170639, 0.68316482, 0.66502025, 0.66927214,\n",
       "        0.4947186 , 0.60409866, 0.7379883 , 0.        ]])"
      ]
     },
     "execution_count": 24,
     "metadata": {},
     "output_type": "execute_result"
    }
   ],
   "source": [
    "similarity_matrix"
   ]
  },
  {
   "cell_type": "markdown",
   "metadata": {},
   "source": [
    "#### Impliment PageRank Algo"
   ]
  },
  {
   "cell_type": "code",
   "execution_count": 25,
   "metadata": {},
   "outputs": [],
   "source": [
    "nx_graph = nx.from_numpy_array(similarity_matrix)\n",
    "scores = nx.pagerank(nx_graph)"
   ]
  },
  {
   "cell_type": "code",
   "execution_count": 26,
   "metadata": {},
   "outputs": [],
   "source": [
    "ranked_sentences = sorted((\n",
    "        (scores[i], sentence, article_sentence_list[i]) \n",
    "        for i,sentence in enumerate(lemmatize_sentences))\n",
    "        , reverse=True)"
   ]
  },
  {
   "cell_type": "code",
   "execution_count": 27,
   "metadata": {},
   "outputs": [],
   "source": [
    "N_SENTENCES = 3\n",
    "generated_summary = [ranked_sentence[2] \n",
    "                     for ranked_sentence \n",
    "                     in ranked_sentences[0:N_SENTENCES]]"
   ]
  },
  {
   "cell_type": "code",
   "execution_count": 28,
   "metadata": {},
   "outputs": [
    {
     "data": {
      "text/plain": [
       "['Earlier this week, media mogul Jeffrey Katzenberg said that Spielberg had no plan to campaign against Netflix, saying at the South By Southwest conference in Texas that \"he is not going to the academy in April with some sort of plan,\" according to a report by the Hollywood Reporter.',\n",
       " 'Those comments have led some to believe that Spielberg was ready to wage war on platforms like Netflix, especially after the streaming service\\'s film \"Roma\" took home three Oscars last month.',\n",
       " 'As the governor of the Academy of Motion Picture Arts and Sciences directors branch he has said that he would like films to have a longer theatrical run in order to qualify for an Academy Award.']"
      ]
     },
     "execution_count": 28,
     "metadata": {},
     "output_type": "execute_result"
    }
   ],
   "source": [
    "generated_summary "
   ]
  },
  {
   "cell_type": "code",
   "execution_count": null,
   "metadata": {},
   "outputs": [],
   "source": []
  }
 ],
 "metadata": {
  "kernelspec": {
   "display_name": "nlp_demo",
   "language": "python",
   "name": "nlp_demo"
  },
  "language_info": {
   "codemirror_mode": {
    "name": "ipython",
    "version": 3
   },
   "file_extension": ".py",
   "mimetype": "text/x-python",
   "name": "python",
   "nbconvert_exporter": "python",
   "pygments_lexer": "ipython3",
   "version": "3.7.2"
  }
 },
 "nbformat": 4,
 "nbformat_minor": 2
}
