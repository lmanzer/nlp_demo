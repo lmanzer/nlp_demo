{
 "cells": [
  {
   "cell_type": "code",
   "execution_count": 46,
   "metadata": {},
   "outputs": [],
   "source": [
    "import os\n",
    "from collections import Counter\n",
    "import string \n",
    "\n",
    "import gensim\n",
    "import networkx as nx\n",
    "import nltk\n",
    "import numpy as np\n",
    "import pandas as pd\n",
    "from sklearn.metrics.pairwise import cosine_similarity\n",
    "import spacy\n",
    "\n",
    "from src.scraping import extract_cnbc_article_info\n",
    "from src.nlp import nlp_analysis\n",
    "from src.urls import article_urls"
   ]
  },
  {
   "cell_type": "code",
   "execution_count": 76,
   "metadata": {},
   "outputs": [
    {
     "data": {
      "text/plain": [
       "['https://www.cnbc.com/2019/03/15/spielberg-and-netflixs-sarandos-meet-sparking-hope-for-oscars-truce.html',\n",
       " 'https://www.cnbc.com/2019/03/15/tesla-shares-fall-5-percent-after-company-unveils-model-y.html',\n",
       " 'https://www.cnbc.com/2019/03/15/arizona-will-go-after-big-tech-if-necessary-says-attorney-general.html',\n",
       " 'https://www.cnbc.com/2019/03/15/facebook-stocks-falls-after-cox-exit-outage-threats-from-washington.html',\n",
       " 'https://www.cnbc.com/2019/02/24/kraft-heinz-reviews-options-for-maxwell-house-coffee-including-sale.html',\n",
       " 'https://www.cnbc.com/2019/03/08/jeff-bezos-to-end-secrecy-over-amazons-role-in-carbon-emissions.html',\n",
       " 'https://www.cnbc.com/2019/03/15/dieselgate-sec-says-volkswagen-perpetrated-fraud-lied-to-investors.html']"
      ]
     },
     "execution_count": 76,
     "metadata": {},
     "output_type": "execute_result"
    }
   ],
   "source": [
    "article_urls"
   ]
  },
  {
   "cell_type": "markdown",
   "metadata": {},
   "source": [
    "### Scrape CNIB Website for Articles"
   ]
  },
  {
   "cell_type": "code",
   "execution_count": 79,
   "metadata": {},
   "outputs": [],
   "source": [
    "articles = []\n",
    "for article_url in article_urls:\n",
    "    _article_text_dict = extract_cnbc_article_info(article_url)\n",
    "    articles.append(_article_text_dict)"
   ]
  },
  {
   "cell_type": "code",
   "execution_count": 80,
   "metadata": {},
   "outputs": [],
   "source": [
    "article = articles[2]"
   ]
  },
  {
   "cell_type": "code",
   "execution_count": 84,
   "metadata": {},
   "outputs": [
    {
     "data": {
      "text/plain": [
       "'\\nArizona Attorney General Mark Brnovich told CNBC on Friday he is prepared to go after big tech companies.\\n\\nAnd he\\'s not alone.\\n\"When you have these tech companies dominate the market share, they essentially are akin to the monopolies of old,\" Brnovich said on \"Closing Bell.\" \\n\\n\"We as state AGs we are taking a look at maybe whether we should do something and if so what should be done.\"\\nBrnovich is one of several state attorneys general who spoke recently to the Washington Post about their willingness to take action against Facebook, Google and other tech giants, which they say have grown too powerful.\\nBrnovich said they are \"worried about this massive amount of data that is being collected, manipulated. Sometimes it\\'s misleading and maybe ends up maybe compromising some of our privacy rights.\"\\nThe states are stepping up because the federal government isn\\'t, said Brnovich. \"Washington D.C. has been — at least in the last decade — where good ideas go to die.\"\\nWhat\\'s being seen is the \"inaction or inability of the bureaucrats in Washington D.C. to do anything about protecting individual Americans, their privacy rights, how they are being manipulated when it comes to news feeds and news coverage,\" he said.\\nFacebook and Google did not immediately respond to CNBC\\'s request for comment.\\nHowever, in a statement to the Washington Post, Facebook\\'s vice president of state and local public policy, said the company has had \"productive conversations\" with state AGs. \"Many officials have approached us in a constructive manner, focused on solutions that ensure all companies are protecting people\\'s information, and we look forward to working with them,\" he said.\\nGoogle also gave the paper a statement that said, \"Privacy and security are built into all of our products, and we will continue to engage constructively with state attorneys general on policy issues.\"\\nBrnovich wouldn\\'t comment on individual companies.\\n\"I will assure you that no matter how big the company is that if they are violating the rights of Arizonians, we are going to take a look at them and we are going to come after them hard in the courtroom if that is appropriate.\"\\n'"
      ]
     },
     "execution_count": 84,
     "metadata": {},
     "output_type": "execute_result"
    }
   ],
   "source": [
    "article['article'] # Change article to content"
   ]
  },
  {
   "cell_type": "markdown",
   "metadata": {},
   "source": [
    " # Natural Language Processing Steps"
   ]
  },
  {
   "cell_type": "code",
   "execution_count": 85,
   "metadata": {},
   "outputs": [],
   "source": [
    "# Load English tokenizer, tagger, parser, NER and word vectors\n",
    "nlp = spacy.load('en_core_web_lg')"
   ]
  },
  {
   "cell_type": "code",
   "execution_count": 86,
   "metadata": {},
   "outputs": [],
   "source": [
    "stop_words =  nltk.corpus.stopwords.words('english')"
   ]
  },
  {
   "cell_type": "code",
   "execution_count": 87,
   "metadata": {},
   "outputs": [],
   "source": [
    "# Extract word vectors -- GloVe is a pretrained word-vector model\n",
    "word_embeddings = {}\n",
    "glove_model_path = os.path.join('data', 'models', 'external', 'glove', 'glove.6B.100d.txt')\n",
    "f = open(glove_model_path, encoding='utf-8')\n",
    "for line in f:\n",
    "    values = line.split()\n",
    "    word = values[0]\n",
    "    word_embeddings[word] = np.asarray(values[1:], dtype='float32')\n",
    "f.close()"
   ]
  },
  {
   "cell_type": "code",
   "execution_count": 11,
   "metadata": {},
   "outputs": [],
   "source": [
    "punctuation_table = str.maketrans('', '', string.punctuation)"
   ]
  },
  {
   "cell_type": "markdown",
   "metadata": {},
   "source": [
    "### Clean Article Text"
   ]
  },
  {
   "cell_type": "code",
   "execution_count": 12,
   "metadata": {},
   "outputs": [],
   "source": [
    "# Remove unnecessary '/n'\n",
    "cleaned_article = article['article'].replace('\\n', ' ')"
   ]
  },
  {
   "cell_type": "markdown",
   "metadata": {},
   "source": [
    "### Named-Entity Extraction"
   ]
  },
  {
   "cell_type": "code",
   "execution_count": 88,
   "metadata": {},
   "outputs": [],
   "source": [
    "nlp_data = nlp(cleaned_article)\n",
    "\n",
    "entities =  nlp_data.ents\n",
    "\n",
    "organizations = [ent.text.replace('\\n','') for ent in entities if ent.label_ == 'ORG']\n",
    "people = [ent.text.replace('\\n','') for ent in entities if ent.label_ == 'PERSON']\n",
    "\n",
    "top_orgs = Counter(organizations).most_common(10)\n",
    "top_people = Counter(people).most_common(10)"
   ]
  },
  {
   "cell_type": "code",
   "execution_count": 89,
   "metadata": {},
   "outputs": [
    {
     "data": {
      "text/plain": [
       "[('Brnovich', 5), ('Mark Brnovich', 1)]"
      ]
     },
     "execution_count": 89,
     "metadata": {},
     "output_type": "execute_result"
    }
   ],
   "source": [
    "top_people"
   ]
  },
  {
   "cell_type": "code",
   "execution_count": 90,
   "metadata": {},
   "outputs": [
    {
     "data": {
      "text/plain": [
       "[('Facebook', 3), ('Google', 3), ('CNBC', 2), ('the Washington Post', 2)]"
      ]
     },
     "execution_count": 90,
     "metadata": {},
     "output_type": "execute_result"
    }
   ],
   "source": [
    "top_orgs"
   ]
  },
  {
   "cell_type": "code",
   "execution_count": 74,
   "metadata": {},
   "outputs": [],
   "source": [
    "def remove_stopwords(sentence):\n",
    "    word_list = sentence.split()\n",
    "    non_stopwords = \" \".join([word for word in word_list if word not in stop_words])\n",
    "    return non_stopwords"
   ]
  },
  {
   "cell_type": "code",
   "execution_count": 75,
   "metadata": {},
   "outputs": [],
   "source": [
    "def lemmatize_words(sentence):\n",
    "    lemma_words = \" \".join([word.lemma_ for word in nlp(sentence)])\n",
    "    return lemma_words"
   ]
  },
  {
   "cell_type": "markdown",
   "metadata": {},
   "source": [
    "### Document Summarization"
   ]
  },
  {
   "cell_type": "markdown",
   "metadata": {},
   "source": [
    "#### Clean Text"
   ]
  },
  {
   "cell_type": "code",
   "execution_count": 91,
   "metadata": {},
   "outputs": [],
   "source": [
    "article_sentence_list = nltk.tokenize.sent_tokenize(cleaned_article)"
   ]
  },
  {
   "cell_type": "code",
   "execution_count": 92,
   "metadata": {},
   "outputs": [],
   "source": [
    "removed_punctuation = [w.translate(punctuation_table) for w in article_sentence_list]\n",
    "removed_mdash = [sentence.replace('—', '') for sentence in removed_punctuation]"
   ]
  },
  {
   "cell_type": "code",
   "execution_count": 94,
   "metadata": {},
   "outputs": [],
   "source": [
    "lower_sentences = [s.lower() for s in removed_mdash]"
   ]
  },
  {
   "cell_type": "code",
   "execution_count": 95,
   "metadata": {},
   "outputs": [],
   "source": [
    "removed_stopwords = [remove_stopwords(sentence) for sentence in lower_sentences]"
   ]
  },
  {
   "cell_type": "code",
   "execution_count": 96,
   "metadata": {},
   "outputs": [],
   "source": [
    "lemmatize_sentences = [lemmatize_words(sentence) for sentence in removed_stopwords]"
   ]
  },
  {
   "cell_type": "code",
   "execution_count": 97,
   "metadata": {
    "scrolled": true
   },
   "outputs": [
    {
     "name": "stdout",
     "output_type": "stream",
     "text": [
      "Original:   Arizona Attorney General Mark Brnovich told CNBC on Friday he is prepared to go after big tech companies.\n",
      "Cleaned:  arizona attorney general mark brnovich tell cnbc friday prepare go big tech company\n",
      "---\n",
      "Original:  And he's not alone.\n",
      "Cleaned:  -PRON- s alone\n",
      "---\n",
      "Original:  \"When you have these tech companies dominate the market share, they essentially are akin to the monopolies of old,\" Brnovich said on \"Closing Bell.\"\n",
      "Cleaned:  tech company dominate market share essentially akin monopoly old brnovich say close bell\n",
      "---\n",
      "Original:  \"We as state AGs we are taking a look at maybe whether we should do something and if so what should be done.\"\n",
      "Cleaned:  state ag take look maybe whether something do\n",
      "---\n",
      "Original:  Brnovich is one of several state attorneys general who spoke recently to the Washington Post about their willingness to take action against Facebook, Google and other tech giants, which they say have grown too powerful.\n",
      "Cleaned:  brnovich one several state attorney general speak recently washington post willingness take action facebook google tech giant say grow powerful\n",
      "---\n",
      "Original:  Brnovich said they are \"worried about this massive amount of data that is being collected, manipulated.\n",
      "Cleaned:  brnovich say worried massive amount datum collect manipulate\n",
      "---\n",
      "Original:  Sometimes it's misleading and maybe ends up maybe compromising some of our privacy rights.\"\n",
      "Cleaned:  sometimes mislead maybe end maybe compromise privacy right\n",
      "---\n",
      "Original:  The states are stepping up because the federal government isn't, said Brnovich.\n",
      "Cleaned:  state step federal government be not say brnovich\n",
      "---\n",
      "Original:  \"Washington D.C. has been — at least in the last decade — where good ideas go to die.\"\n",
      "Cleaned:  washington dc least last decade good idea go die\n",
      "---\n",
      "Original:  What's being seen is the \"inaction or inability of the bureaucrats in Washington D.C. to do anything about protecting individual Americans, their privacy rights, how they are being manipulated when it comes to news feeds and news coverage,\" he said.\n",
      "Cleaned:  what s see inaction inability bureaucrat washington dc anything protect individual american privacy right manipulate come news feed news coverage say\n",
      "---\n",
      "Original:  Facebook and Google did not immediately respond to CNBC's request for comment.\n",
      "Cleaned:  facebook google immediately respond cnbcs request comment\n",
      "---\n",
      "Original:  However, in a statement to the Washington Post, Facebook's vice president of state and local public policy, said the company has had \"productive conversations\" with state AGs.\n",
      "Cleaned:  however statement washington post facebook vice president state local public policy say company productive conversation state ag\n",
      "---\n",
      "Original:  \"Many officials have approached us in a constructive manner, focused on solutions that ensure all companies are protecting people's information, and we look forward to working with them,\" he said.\n",
      "Cleaned:  many official approach -PRON- constructive manner focused solution ensure company protect people information look forward work say\n",
      "---\n",
      "Original:  Google also gave the paper a statement that said, \"Privacy and security are built into all of our products, and we will continue to engage constructively with state attorneys general on policy issues.\"\n",
      "Cleaned:  google also give paper statement say privacy security build product continue engage constructively state attorney general policy issue\n",
      "---\n",
      "Original:  Brnovich wouldn't comment on individual companies.\n",
      "Cleaned:  brnovich would not comment individual company\n",
      "---\n",
      "Original:  \"I will assure you that no matter how big the company is that if they are violating the rights of Arizonians, we are going to take a look at them and we are going to come after them hard in the courtroom if that is appropriate.\"\n",
      "Cleaned:  assure matter big company violate right arizonian go take look go come hard courtroom appropriate\n",
      "---\n"
     ]
    }
   ],
   "source": [
    "for lemmatize_sentence, raw_sentence in zip(lemmatize_sentences, article_sentence_list):\n",
    "    print(\"Original: \", raw_sentence)\n",
    "    print(\"Cleaned: \", lemmatize_sentence)\n",
    "    print('---')"
   ]
  },
  {
   "cell_type": "markdown",
   "metadata": {},
   "source": [
    "#### Calculate Sentence Embeddings"
   ]
  },
  {
   "cell_type": "code",
   "execution_count": 98,
   "metadata": {},
   "outputs": [],
   "source": [
    "final_sentence = lemmatize_sentences\n",
    "empty_vector = np.zeros((100,))\n",
    "sentence_vectors = []\n",
    "for sentence in final_sentence:\n",
    "    if len(sentence) > 0:\n",
    "        word_list = sentence.split()\n",
    "        word_vector =  [word_embeddings.get(word, empty_vector) for word in word_list]\n",
    "        summed_vector = sum(word_vector)\n",
    "        normalized_vector = summed_vector/ (len(sentence.split()))\n",
    "    else:\n",
    "        normalized_vector = empty_vector\n",
    "    sentence_vectors.append(normalized_vector)"
   ]
  },
  {
   "cell_type": "markdown",
   "metadata": {},
   "source": [
    "#### Create Similarity Matrix between Sentences"
   ]
  },
  {
   "cell_type": "code",
   "execution_count": 24,
   "metadata": {},
   "outputs": [],
   "source": [
    "sim_mat = np.zeros([len(article_sentence_list), len(article_sentence_list)])\n",
    "\n",
    "for i in range(len(article_sentence_list)):\n",
    "    for j in range(len(article_sentence_list)):\n",
    "        if i != j:\n",
    "            sim_mat[i][j] = cosine_similarity(sentence_vectors[i].reshape(1,100), \n",
    "                                              sentence_vectors[j].reshape(1,100))[0,0]"
   ]
  },
  {
   "cell_type": "markdown",
   "metadata": {},
   "source": [
    "#### Impliment PageRank Algo"
   ]
  },
  {
   "cell_type": "code",
   "execution_count": 99,
   "metadata": {},
   "outputs": [],
   "source": [
    "nx_graph = nx.from_numpy_array(sim_mat)\n",
    "scores = nx.pagerank(nx_graph)"
   ]
  },
  {
   "cell_type": "code",
   "execution_count": 100,
   "metadata": {},
   "outputs": [],
   "source": [
    "ranked_sentences = sorted((\n",
    "        (scores[i], sentence, article_sentence_list[i]) \n",
    "        for i,sentence in enumerate(final_sentence))\n",
    "        , reverse=True)"
   ]
  },
  {
   "cell_type": "code",
   "execution_count": 101,
   "metadata": {},
   "outputs": [],
   "source": [
    "N_SENTENCES = 3\n",
    "generated_summary = [ranked_sentence[2] for ranked_sentence in ranked_sentences[0:N_SENTENCES]]"
   ]
  },
  {
   "cell_type": "code",
   "execution_count": 102,
   "metadata": {},
   "outputs": [
    {
     "data": {
      "text/plain": [
       "['Brnovich is one of several state attorneys general who spoke recently to the Washington Post about their willingness to take action against Facebook, Google and other tech giants, which they say have grown too powerful.',\n",
       " 'What\\'s being seen is the \"inaction or inability of the bureaucrats in Washington D.C. to do anything about protecting individual Americans, their privacy rights, how they are being manipulated when it comes to news feeds and news coverage,\" he said.',\n",
       " 'Google also gave the paper a statement that said, \"Privacy and security are built into all of our products, and we will continue to engage constructively with state attorneys general on policy issues.\"']"
      ]
     },
     "execution_count": 102,
     "metadata": {},
     "output_type": "execute_result"
    }
   ],
   "source": [
    "generated_summary "
   ]
  },
  {
   "cell_type": "markdown",
   "metadata": {},
   "source": [
    "### Topic Modeling"
   ]
  },
  {
   "cell_type": "code",
   "execution_count": 103,
   "metadata": {},
   "outputs": [],
   "source": [
    "tokenized_sentences = [nltk.tokenize.word_tokenize(sentence) for sentence in final_sentence]"
   ]
  },
  {
   "cell_type": "code",
   "execution_count": 104,
   "metadata": {},
   "outputs": [],
   "source": [
    "article_dictionary = gensim.corpora.Dictionary(tokenized_sentences)  # This needs describing!\n",
    "article_corpus = [article_dictionary.doc2bow(text) for text in tokenized_sentences] # This needs describing!"
   ]
  },
  {
   "cell_type": "code",
   "execution_count": 105,
   "metadata": {},
   "outputs": [],
   "source": [
    "NUM_TOPICS = 5\n",
    "\n",
    "article_ldamodel = gensim.models.ldamodel.LdaModel(article_corpus, \n",
    "                                                   num_topics = NUM_TOPICS, \n",
    "                                                   id2word=article_dictionary, \n",
    "                                                   passes=15)\n",
    "topics = article_ldamodel.print_topics(num_words=5)"
   ]
  },
  {
   "cell_type": "code",
   "execution_count": 106,
   "metadata": {},
   "outputs": [
    {
     "data": {
      "text/plain": [
       "[(0,\n",
       "  '0.054*\"maybe\" + 0.030*\"privacy\" + 0.030*\"facebook\" + 0.030*\"right\" + 0.030*\"google\"'),\n",
       " (1,\n",
       "  '0.042*\"company\" + 0.029*\"brnovich\" + 0.029*\"look\" + 0.029*\"tech\" + 0.029*\"say\"'),\n",
       " (2,\n",
       "  '0.049*\"state\" + 0.049*\"say\" + 0.026*\"washington\" + 0.026*\"statement\" + 0.026*\"brnovich\"'),\n",
       " (3,\n",
       "  '0.035*\"not\" + 0.035*\"individual\" + 0.035*\"brnovich\" + 0.035*\"s\" + 0.035*\"comment\"'),\n",
       " (4,\n",
       "  '0.027*\"go\" + 0.027*\"take\" + 0.027*\"say\" + 0.027*\"washington\" + 0.027*\"right\"')]"
      ]
     },
     "execution_count": 106,
     "metadata": {},
     "output_type": "execute_result"
    }
   ],
   "source": [
    "topics"
   ]
  },
  {
   "cell_type": "code",
   "execution_count": null,
   "metadata": {},
   "outputs": [],
   "source": []
  }
 ],
 "metadata": {
  "kernelspec": {
   "display_name": "nlp_demo",
   "language": "python",
   "name": "nlp_demo"
  },
  "language_info": {
   "codemirror_mode": {
    "name": "ipython",
    "version": 3
   },
   "file_extension": ".py",
   "mimetype": "text/x-python",
   "name": "python",
   "nbconvert_exporter": "python",
   "pygments_lexer": "ipython3",
   "version": "3.7.2"
  }
 },
 "nbformat": 4,
 "nbformat_minor": 2
}
