{
 "cells": [
  {
   "cell_type": "code",
   "execution_count": 58,
   "metadata": {},
   "outputs": [],
   "source": [
    "import re\n",
    "import urllib \n",
    "import random\n",
    "import pickle\n",
    "\n",
    "import pandas as pd\n",
    "import numpy as np\n",
    "from bs4 import BeautifulSoup\n",
    "import spacy\n",
    "from spacy.lang.en import English\n",
    "import nltk\n",
    "from nltk.tokenize import sent_tokenize\n",
    "from nltk.corpus import stopwords\n",
    "from nltk.corpus import wordnet as wn\n",
    "from nltk.stem.wordnet import WordNetLemmatizer\n",
    "import gensim\n",
    "from gensim import corpora\n",
    "from sklearn.metrics.pairwise import cosine_similarity\n",
    "import networkx as nx\n",
    "\n",
    "from src.utils import extract_cnbc_article_info"
   ]
  },
  {
   "cell_type": "code",
   "execution_count": 27,
   "metadata": {},
   "outputs": [],
   "source": [
    "nlp = spacy.load('en_core_web_lg')"
   ]
  },
  {
   "cell_type": "code",
   "execution_count": 33,
   "metadata": {},
   "outputs": [],
   "source": [
    "stop_words = stopwords.words('english')"
   ]
  },
  {
   "cell_type": "code",
   "execution_count": 112,
   "metadata": {},
   "outputs": [],
   "source": [
    "tesla_page = 'https://www.cnbc.com/2019/03/15/'\\\n",
    "             'tesla-shares-fall-5-percent-after-company-unveils-model-y'\\\n",
    "             '.html'\n",
    "\n",
    "netflix_page = 'https://www.cnbc.com/2019/03/15/'\\\n",
    "               'spielberg-and-netflixs-sarandos-meet'\\\n",
    "               '-sparking-hope-for-oscars-truce.html'\n",
    "\n",
    "google_page = 'https://www.cnbc.com/2019/03/15/arizona'\\\n",
    "              '-will-go-after-big-tech-if-necessary-says-'\\\n",
    "              'attorney-general.html'\n",
    "\n",
    "facebook_page = 'https://www.cnbc.com/2019/03/15/facebook-stocks-falls-'\\\n",
    "            'after-cox-exit-outage-threats-from-washington.html?&'\\\n",
    "            'qsearchterm=facebook'\n",
    "\n",
    "resturant_page = 'https://www.cnbc.com/2019/02/24/kraft-heinz-reviews-options-for-maxwell-house-coffee-including-sale.html'\n",
    "\n",
    "amazon_page = 'https://www.cnbc.com/2019/03/08/jeff-bezos-to-end-secrecy'\\\n",
    "              '-over-amazons-role-in-carbon-emissions.html'\n",
    "\n",
    "vw_page = 'https://www.cnbc.com/2019/03/15/dieselgate-sec-says-volkswagen-'\\\n",
    "          'perpetrated-fraud-lied-to-investors.html'"
   ]
  },
  {
   "cell_type": "code",
   "execution_count": 28,
   "metadata": {},
   "outputs": [],
   "source": [
    "def tokenize(text):\n",
    "    lda_tokens = []\n",
    "    tokens = parser(text)\n",
    "    for token in tokens:\n",
    "        if token.orth_.isspace():\n",
    "            continue\n",
    "        elif token.like_url:\n",
    "            lda_tokens.append('URL')\n",
    "        elif token.orth_.startswith('@'):\n",
    "            lda_tokens.append('SCREEN_NAME')\n",
    "        else:\n",
    "            lda_tokens.append(token.lower_)\n",
    "    return lda_tokens"
   ]
  },
  {
   "cell_type": "code",
   "execution_count": 30,
   "metadata": {},
   "outputs": [],
   "source": [
    "def get_lemma(word):\n",
    "    lemma = wn.morphy(word)\n",
    "    if lemma is None:\n",
    "        return word\n",
    "    else:\n",
    "        return lemma"
   ]
  },
  {
   "cell_type": "code",
   "execution_count": 32,
   "metadata": {},
   "outputs": [],
   "source": [
    "def get_lemma2(word):\n",
    "    return WordNetLemmatizer().lemmatize(word)"
   ]
  },
  {
   "cell_type": "code",
   "execution_count": 40,
   "metadata": {},
   "outputs": [],
   "source": [
    "def prepare_text_for_lda(text):\n",
    "    tokens = tokenize(text)\n",
    "    tokens = [token for token in tokens if len(token) > 4]\n",
    "    tokens = [token for token in tokens if token not in stop_words]\n",
    "    tokens = [get_lemma(token) for token in tokens]\n",
    "    return tokens"
   ]
  },
  {
   "cell_type": "markdown",
   "metadata": {},
   "source": [
    "### Extract Article Content"
   ]
  },
  {
   "cell_type": "code",
   "execution_count": 90,
   "metadata": {},
   "outputs": [],
   "source": [
    "article_dict = extract_cnbc_article_info(facebook_page)"
   ]
  },
  {
   "cell_type": "code",
   "execution_count": 91,
   "metadata": {},
   "outputs": [],
   "source": [
    "nlp_data = nlp(article_dict['article'])"
   ]
  },
  {
   "cell_type": "markdown",
   "metadata": {},
   "source": [
    "### Identify Organizations"
   ]
  },
  {
   "cell_type": "code",
   "execution_count": 92,
   "metadata": {},
   "outputs": [
    {
     "name": "stdout",
     "output_type": "stream",
     "text": [
      "{'', 'Facebook', 'FCC', 'FAANG', 'the Department of Justice', 'Netflix', 'Google', 'Apple', 'WhatsApp', 'YouTube', 'Amazon', 'CNBC', 'the New York Times'}\n"
     ]
    }
   ],
   "source": [
    "print(set([ent.text.replace('\\n','') for ent in nlp_data.ents if ent.label_ == 'ORG']))\n",
    "# print(set([ent.text.replace('\\n','') for ent in nlp_data.ents if ent.label_ == 'PERSON']))"
   ]
  },
  {
   "cell_type": "code",
   "execution_count": 93,
   "metadata": {},
   "outputs": [],
   "source": [
    "# [(ent.text, ent.label_ ) for ent in nlp_data.ents]"
   ]
  },
  {
   "cell_type": "markdown",
   "metadata": {},
   "source": [
    "### Document Summarization"
   ]
  },
  {
   "cell_type": "code",
   "execution_count": 94,
   "metadata": {},
   "outputs": [],
   "source": [
    "article_sentences = sent_tokenize(article_dict['article'])\n",
    "clean_sentences = pd.Series(article_sentences).str.replace(\"[^a-zA-Z]\", \" \")\n",
    "lower_sentences = [s.lower() for s in clean_sentences]\n"
   ]
  },
  {
   "cell_type": "code",
   "execution_count": 95,
   "metadata": {},
   "outputs": [],
   "source": [
    "removed_stopwords = [remove_stopwords(sentence) for sentence in lower_sentences]"
   ]
  },
  {
   "cell_type": "code",
   "execution_count": 96,
   "metadata": {},
   "outputs": [],
   "source": [
    "def remove_stopwords(sentence):\n",
    "    word_list = sentence.split()\n",
    "    cleaned_words = \" \".join([word for word in word_list if word not in stop_words])\n",
    "    return cleaned_words"
   ]
  },
  {
   "cell_type": "code",
   "execution_count": 97,
   "metadata": {},
   "outputs": [],
   "source": [
    "# Extract word vectors\n",
    "word_embeddings = {}\n",
    "f = open('glove.6B.100d.txt', encoding='utf-8')\n",
    "for line in f:\n",
    "    values = line.split()\n",
    "    word = values[0]\n",
    "    coefs = np.asarray(values[1:], dtype='float32')\n",
    "    word_embeddings[word] = coefs\n",
    "f.close()"
   ]
  },
  {
   "cell_type": "code",
   "execution_count": 98,
   "metadata": {},
   "outputs": [],
   "source": [
    "sentence_vectors = []\n",
    "for i in removed_stopwords:\n",
    "  if len(i) != 0:\n",
    "    v = sum([word_embeddings.get(w, np.zeros((100,))) for w in i.split()])/(len(i.split())+0.001)\n",
    "  else:\n",
    "    v = np.zeros((100,))\n",
    "  sentence_vectors.append(v)"
   ]
  },
  {
   "cell_type": "code",
   "execution_count": 99,
   "metadata": {},
   "outputs": [],
   "source": [
    "sim_mat = np.zeros([len(article_sentences), len(article_sentences)])\n"
   ]
  },
  {
   "cell_type": "code",
   "execution_count": 100,
   "metadata": {},
   "outputs": [],
   "source": [
    "for i in range(len(article_sentences)):\n",
    "  for j in range(len(article_sentences)):\n",
    "    if i != j:\n",
    "      sim_mat[i][j] = cosine_similarity(sentence_vectors[i].reshape(1,100), sentence_vectors[j].reshape(1,100))[0,0]"
   ]
  },
  {
   "cell_type": "code",
   "execution_count": 101,
   "metadata": {},
   "outputs": [],
   "source": [
    "nx_graph = nx.from_numpy_array(sim_mat)\n",
    "scores = nx.pagerank(nx_graph)"
   ]
  },
  {
   "cell_type": "code",
   "execution_count": 102,
   "metadata": {},
   "outputs": [],
   "source": [
    "ranked_sentences = sorted(((scores[i],s) for i,s in enumerate(article_sentences)), reverse=True)"
   ]
  },
  {
   "cell_type": "code",
   "execution_count": 103,
   "metadata": {},
   "outputs": [
    {
     "name": "stdout",
     "output_type": "stream",
     "text": [
      "0 \n",
      "Facebook stock fell Friday, the day after Chief Product Officer Chris Cox announced he was leaving the company in light of its recent pivot to privacy.\n",
      "1 Meanwhile, federal prosecutors are probing Facebook's data-sharing partnerships with device makers, according to a report by the New York Times published Wednesday night.\n",
      "2 The company was alerted to the post by New Zealand police and said it has been taking down re-postings of the video and messages praising the shooter as it becomes aware of them.\n",
      "3 He was among the earlier employees and reported directly to CEO Mark Zuckerberg.\n",
      "4 Separately Friday, Facebook drew criticism related to a terrorist incident in New Zealand in which a shooter live-streamed his attack on Facebook.\n",
      "5 \"It has already been reported that there are ongoing federal investigations, including by the Department of Justice,\" a spokesperson for Facebook said in a statement to CNBC.\n",
      "6 The service was reinstated Thursday after a widespread outage that last nearly a day.\n",
      "7 In a statement Thursday, the company blamed a \"server configuration change that triggered a cascading series of issues\" for the outage.\n",
      "8 Friday's stock losses cap a rough week for the company.\n",
      "9 His departure hangs uncertainty on Facebook's recent announcement to integrate its family of apps and prioritize private communication.\n"
     ]
    }
   ],
   "source": [
    "# Extract top 10 sentences as the summary\n",
    "for i in range(min(10, len(ranked_sentences))):\n",
    "  print(i, ranked_sentences[i][1])"
   ]
  },
  {
   "cell_type": "markdown",
   "metadata": {},
   "source": [
    "### Topic Modeling"
   ]
  },
  {
   "cell_type": "code",
   "execution_count": 104,
   "metadata": {},
   "outputs": [
    {
     "name": "stdout",
     "output_type": "stream",
     "text": [
      "['facebook', 'stock', 'friday', 'chief', 'product', 'officer', 'chris', 'announce', 'leaving', 'company', 'light', 'recent', 'pivot', 'privacy']\n",
      "['share', 'percent', 'early', 'trading', 'sinking', 'lowest', 'point']\n",
      "['stock', 'ease', 'morning', 'end', 'percent']\n",
      "['insider', 'heart', 'facebook']\n",
      "['among', 'earlier', 'employee', 'report', 'directly', 'zuckerberg']\n",
      "['departure', 'hang', 'uncertainty', 'facebook', 'recent', 'announcement', 'integrate', 'family', 'prioritize', 'private', 'communication']\n",
      "['separately', 'friday', 'facebook', 'criticism', 'relate', 'terrorist', 'incident', 'zealand', 'shooter', 'stream', 'attack', 'facebook']\n",
      "['shooting', 'claim', 'least', 'life']\n",
      "['company', 'alert', 'zealand', 'police', 'taking', 'posting', 'video', 'message', 'praise', 'shooter', 'become', 'aware']\n",
      "['facebook', 'suffer', 'long', 'outage']\n",
      "['service', 'reinstate', 'thursday', 'widespread', 'outage', 'nearly']\n",
      "['statement', 'thursday', 'company', 'blame', 'server', 'configuration', 'change', 'trigger', 'cascade', 'series', 'issue', 'outage']\n",
      "['stock', 'percent', 'trading', 'thursday']\n",
      "['friday', 'stock', 'losses', 'rough', 'company']\n",
      "['proposal', 'massachusetts', 'senator', 'presidential', 'candidate', 'elizabeth', 'warren', 'break', 'continue', 'garner', 'headline', 'raise', 'concern', 'investor', 'community']\n",
      "['warren', 'proposal', 'would', 'facebook', 'divest', 'major', 'acquisition', 'whatsapp', 'instagram']\n",
      "['call', 'faang', 'stocks', 'facebook', 'apple', 'amazon', 'netflix', 'google', 'analyst', 'favor', 'netflix', 'sheer', 'default']\n",
      "['meanwhile', 'federal', 'prosecutor', 'probe', 'facebook', 'sharing', 'partnership', 'device', 'maker', 'accord', 'report', 'times', 'publish', 'wednesday', 'night']\n",
      "['already', 'report', 'ongoing', 'federal', 'investigation', 'include', 'department', 'justice', 'spokesperson', 'facebook', 'statement']\n",
      "['provide', 'public', 'testimony', 'answer', 'question', 'pledge', 'continue']\n",
      "['watch', 'former', 'chairman', 'obama', 'weigh', 'privacy', 'regulation', 'subscribe', 'youtube']\n"
     ]
    }
   ],
   "source": [
    "text_data = []\n",
    "for sentence in article_sentences:\n",
    "    tokens = prepare_text_for_lda(sentence)\n",
    "    if random.random() > .09:\n",
    "        print(tokens)\n",
    "        text_data.append(tokens)\n"
   ]
  },
  {
   "cell_type": "code",
   "execution_count": 105,
   "metadata": {},
   "outputs": [],
   "source": [
    "dictionary = corpora.Dictionary(text_data)\n",
    "corpus = [dictionary.doc2bow(text) for text in text_data]"
   ]
  },
  {
   "cell_type": "code",
   "execution_count": 106,
   "metadata": {},
   "outputs": [],
   "source": [
    "pickle.dump(corpus, open('corpus.pkl', 'wb'))\n",
    "dictionary.save('dictionary.gensim')"
   ]
  },
  {
   "cell_type": "code",
   "execution_count": 109,
   "metadata": {},
   "outputs": [
    {
     "name": "stdout",
     "output_type": "stream",
     "text": [
      "(0, '0.037*\"outage\" + 0.037*\"would\" + 0.037*\"major\" + 0.037*\"instagram\" + 0.037*\"whatsapp\"')\n",
      "(1, '0.007*\"facebook\" + 0.007*\"stock\" + 0.007*\"outage\" + 0.007*\"percent\" + 0.007*\"thursday\"')\n",
      "(2, '0.048*\"percent\" + 0.048*\"trading\" + 0.048*\"thursday\" + 0.025*\"outage\" + 0.025*\"lowest\"')\n",
      "(3, '0.032*\"facebook\" + 0.032*\"report\" + 0.032*\"federal\" + 0.017*\"company\" + 0.017*\"privacy\"')\n",
      "(4, '0.007*\"facebook\" + 0.007*\"stock\" + 0.007*\"percent\" + 0.007*\"thursday\" + 0.007*\"company\"')\n",
      "(5, '0.066*\"facebook\" + 0.066*\"friday\" + 0.035*\"company\" + 0.035*\"stock\" + 0.035*\"shooter\"')\n",
      "(6, '0.044*\"answer\" + 0.044*\"provide\" + 0.044*\"question\" + 0.044*\"testimony\" + 0.044*\"pledge\"')\n",
      "(7, '0.068*\"facebook\" + 0.046*\"netflix\" + 0.024*\"default\" + 0.024*\"apple\" + 0.024*\"favor\"')\n",
      "(8, '0.032*\"stock\" + 0.032*\"proposal\" + 0.032*\"warren\" + 0.032*\"continue\" + 0.032*\"raise\"')\n",
      "(9, '0.043*\"facebook\" + 0.043*\"recent\" + 0.043*\"announcement\" + 0.043*\"integrate\" + 0.043*\"departure\"')\n"
     ]
    }
   ],
   "source": [
    "NUM_TOPICS = 10\n",
    "ldamodel = gensim.models.ldamodel.LdaModel(corpus, num_topics = NUM_TOPICS, id2word=dictionary, passes=15)\n",
    "ldamodel.save('model5.gensim')\n",
    "topics = ldamodel.print_topics(num_words=5)\n",
    "for topic in topics:\n",
    "    print(topic)\n"
   ]
  },
  {
   "cell_type": "code",
   "execution_count": 111,
   "metadata": {},
   "outputs": [
    {
     "name": "stderr",
     "output_type": "stream",
     "text": [
      "/Users/lianne/Projects/nlp_demo/env/lib/python3.7/site-packages/pyLDAvis/_prepare.py:257: FutureWarning: Sorting because non-concatenation axis is not aligned. A future version\n",
      "of pandas will change to not sort by default.\n",
      "\n",
      "To accept the future behavior, pass 'sort=False'.\n",
      "\n",
      "To retain the current behavior and silence the warning, pass 'sort=True'.\n",
      "\n",
      "  return pd.concat([default_term_info] + list(topic_dfs))\n"
     ]
    },
    {
     "data": {
      "text/html": [
       "\n",
       "<link rel=\"stylesheet\" type=\"text/css\" href=\"https://cdn.rawgit.com/bmabey/pyLDAvis/files/ldavis.v1.0.0.css\">\n",
       "\n",
       "\n",
       "<div id=\"ldavis_el92955624091529610784890\"></div>\n",
       "<script type=\"text/javascript\">\n",
       "\n",
       "var ldavis_el92955624091529610784890_data = {\"mdsDat\": {\"x\": [-0.1634797187210553, -0.02906604310584637, 0.12077214354438207, 0.10836408001795164, -0.044905874625769227, 0.04068455288326062, -0.020317695001615215, -0.008538344677367743, -0.001756553875202644, -0.0017565464387377903], \"y\": [-0.1164586198947817, 0.1618944685041636, -0.07547749330698078, -0.0246308524093973, 0.04849963407269385, 0.0041846315081710906, 0.02671441038273775, 0.006090041685602046, -0.01540810052901054, -0.015408120013198015], \"topics\": [1, 2, 3, 4, 5, 6, 7, 8, 9, 10], \"cluster\": [1, 1, 1, 1, 1, 1, 1, 1, 1, 1], \"Freq\": [26.285181045532227, 16.402254104614258, 14.884140014648438, 10.908265113830566, 9.285699844360352, 8.19831657409668, 6.481191635131836, 5.552721977233887, 1.00111722946167, 1.00111722946167]}, \"tinfo\": {\"Category\": [\"Default\", \"Default\", \"Default\", \"Default\", \"Default\", \"Default\", \"Default\", \"Default\", \"Default\", \"Default\", \"Default\", \"Default\", \"Default\", \"Default\", \"Default\", \"Default\", \"Default\", \"Default\", \"Default\", \"Default\", \"Default\", \"Default\", \"Default\", \"Default\", \"Default\", \"Default\", \"Default\", \"Default\", \"Default\", \"Default\", \"Topic1\", \"Topic1\", \"Topic1\", \"Topic1\", \"Topic1\", \"Topic1\", \"Topic1\", \"Topic1\", \"Topic1\", \"Topic1\", \"Topic1\", \"Topic1\", \"Topic1\", \"Topic1\", \"Topic1\", \"Topic1\", \"Topic1\", \"Topic1\", \"Topic1\", \"Topic1\", \"Topic1\", \"Topic1\", \"Topic1\", \"Topic1\", \"Topic1\", \"Topic1\", \"Topic1\", \"Topic1\", \"Topic1\", \"Topic1\", \"Topic1\", \"Topic1\", \"Topic1\", \"Topic1\", \"Topic1\", \"Topic2\", \"Topic2\", \"Topic2\", \"Topic2\", \"Topic2\", \"Topic2\", \"Topic2\", \"Topic2\", \"Topic2\", \"Topic2\", \"Topic2\", \"Topic2\", \"Topic2\", \"Topic2\", \"Topic2\", \"Topic2\", \"Topic2\", \"Topic2\", \"Topic2\", \"Topic2\", \"Topic2\", \"Topic2\", \"Topic2\", \"Topic2\", \"Topic2\", \"Topic2\", \"Topic2\", \"Topic2\", \"Topic2\", \"Topic2\", \"Topic2\", \"Topic2\", \"Topic2\", \"Topic2\", \"Topic2\", \"Topic2\", \"Topic3\", \"Topic3\", \"Topic3\", \"Topic3\", \"Topic3\", \"Topic3\", \"Topic3\", \"Topic3\", \"Topic3\", \"Topic3\", \"Topic3\", \"Topic3\", \"Topic3\", \"Topic3\", \"Topic3\", \"Topic3\", \"Topic3\", \"Topic3\", \"Topic3\", \"Topic3\", \"Topic3\", \"Topic3\", \"Topic3\", \"Topic3\", \"Topic3\", \"Topic3\", \"Topic3\", \"Topic3\", \"Topic3\", \"Topic3\", \"Topic3\", \"Topic3\", \"Topic3\", \"Topic3\", \"Topic3\", \"Topic4\", \"Topic4\", \"Topic4\", \"Topic4\", \"Topic4\", \"Topic4\", \"Topic4\", \"Topic4\", \"Topic4\", \"Topic4\", \"Topic4\", \"Topic4\", \"Topic4\", \"Topic4\", \"Topic4\", \"Topic4\", \"Topic4\", \"Topic4\", \"Topic4\", \"Topic4\", \"Topic4\", \"Topic4\", \"Topic4\", \"Topic4\", \"Topic4\", \"Topic4\", \"Topic4\", \"Topic4\", \"Topic4\", \"Topic4\", \"Topic4\", \"Topic4\", \"Topic4\", \"Topic4\", \"Topic4\", \"Topic4\", \"Topic4\", \"Topic4\", \"Topic4\", \"Topic4\", \"Topic4\", \"Topic4\", \"Topic4\", \"Topic4\", \"Topic4\", \"Topic4\", \"Topic4\", \"Topic5\", \"Topic5\", \"Topic5\", \"Topic5\", \"Topic5\", \"Topic5\", \"Topic5\", \"Topic5\", \"Topic5\", \"Topic5\", \"Topic5\", \"Topic5\", \"Topic5\", \"Topic5\", \"Topic5\", \"Topic5\", \"Topic5\", \"Topic5\", \"Topic5\", \"Topic5\", \"Topic5\", \"Topic5\", \"Topic5\", \"Topic5\", \"Topic5\", \"Topic5\", \"Topic5\", \"Topic5\", \"Topic5\", \"Topic5\", \"Topic5\", \"Topic5\", \"Topic5\", \"Topic5\", \"Topic5\", \"Topic5\", \"Topic5\", \"Topic5\", \"Topic5\", \"Topic5\", \"Topic5\", \"Topic5\", \"Topic5\", \"Topic5\", \"Topic5\", \"Topic5\", \"Topic5\", \"Topic6\", \"Topic6\", \"Topic6\", \"Topic6\", \"Topic6\", \"Topic6\", \"Topic6\", \"Topic6\", \"Topic6\", \"Topic6\", \"Topic6\", \"Topic6\", \"Topic6\", \"Topic6\", \"Topic6\", \"Topic6\", \"Topic6\", \"Topic6\", \"Topic6\", \"Topic6\", \"Topic6\", \"Topic6\", \"Topic6\", \"Topic6\", \"Topic6\", \"Topic6\", \"Topic6\", \"Topic6\", \"Topic6\", \"Topic6\", \"Topic6\", \"Topic6\", \"Topic6\", \"Topic6\", \"Topic6\", \"Topic6\", \"Topic6\", \"Topic6\", \"Topic6\", \"Topic6\", \"Topic6\", \"Topic6\", \"Topic6\", \"Topic6\", \"Topic6\", \"Topic7\", \"Topic7\", \"Topic7\", \"Topic7\", \"Topic7\", \"Topic7\", \"Topic7\", \"Topic7\", \"Topic7\", \"Topic7\", \"Topic7\", \"Topic7\", \"Topic7\", \"Topic7\", \"Topic7\", \"Topic7\", \"Topic7\", \"Topic7\", \"Topic7\", \"Topic7\", \"Topic7\", \"Topic7\", \"Topic7\", \"Topic7\", \"Topic7\", \"Topic7\", \"Topic7\", \"Topic7\", \"Topic7\", \"Topic7\", \"Topic7\", \"Topic7\", \"Topic7\", \"Topic7\", \"Topic7\", \"Topic7\", \"Topic7\", \"Topic7\", \"Topic7\", \"Topic7\", \"Topic7\", \"Topic7\", \"Topic7\", \"Topic7\", \"Topic7\", \"Topic7\", \"Topic7\", \"Topic8\", \"Topic8\", \"Topic8\", \"Topic8\", \"Topic8\", \"Topic8\", \"Topic8\", \"Topic8\", \"Topic8\", \"Topic8\", \"Topic8\", \"Topic8\", \"Topic8\", \"Topic8\", \"Topic8\", \"Topic8\", \"Topic8\", \"Topic8\", \"Topic8\", \"Topic8\", \"Topic8\", \"Topic8\", \"Topic8\", \"Topic8\", \"Topic8\", \"Topic8\", \"Topic8\", \"Topic8\", \"Topic8\", \"Topic8\", \"Topic8\", \"Topic8\", \"Topic8\", \"Topic8\", \"Topic8\", \"Topic8\", \"Topic8\", \"Topic8\", \"Topic8\", \"Topic8\", \"Topic8\", \"Topic8\", \"Topic8\", \"Topic8\", \"Topic8\", \"Topic8\", \"Topic8\", \"Topic8\", \"Topic8\", \"Topic8\", \"Topic8\", \"Topic9\", \"Topic9\", \"Topic9\", \"Topic9\", \"Topic9\", \"Topic9\", \"Topic9\", \"Topic9\", \"Topic9\", \"Topic9\", \"Topic9\", \"Topic9\", \"Topic9\", \"Topic9\", \"Topic9\", \"Topic9\", \"Topic9\", \"Topic9\", \"Topic9\", \"Topic9\", \"Topic9\", \"Topic9\", \"Topic9\", \"Topic9\", \"Topic9\", \"Topic9\", \"Topic9\", \"Topic9\", \"Topic9\", \"Topic9\", \"Topic9\", \"Topic9\", \"Topic9\", \"Topic9\", \"Topic9\", \"Topic9\", \"Topic9\", \"Topic9\", \"Topic9\", \"Topic9\", \"Topic9\", \"Topic9\", \"Topic9\", \"Topic9\", \"Topic9\", \"Topic9\", \"Topic9\", \"Topic9\", \"Topic9\", \"Topic9\", \"Topic9\", \"Topic9\", \"Topic9\", \"Topic9\", \"Topic9\", \"Topic9\", \"Topic9\", \"Topic10\", \"Topic10\", \"Topic10\", \"Topic10\", \"Topic10\", \"Topic10\", \"Topic10\", \"Topic10\", \"Topic10\", \"Topic10\", \"Topic10\", \"Topic10\", \"Topic10\", \"Topic10\", \"Topic10\", \"Topic10\", \"Topic10\", \"Topic10\", \"Topic10\", \"Topic10\", \"Topic10\", \"Topic10\", \"Topic10\", \"Topic10\", \"Topic10\", \"Topic10\", \"Topic10\", \"Topic10\", \"Topic10\", \"Topic10\", \"Topic10\", \"Topic10\", \"Topic10\", \"Topic10\", \"Topic10\", \"Topic10\", \"Topic10\", \"Topic10\", \"Topic10\", \"Topic10\", \"Topic10\", \"Topic10\", \"Topic10\", \"Topic10\", \"Topic10\", \"Topic10\", \"Topic10\", \"Topic10\", \"Topic10\", \"Topic10\", \"Topic10\", \"Topic10\", \"Topic10\", \"Topic10\", \"Topic10\", \"Topic10\", \"Topic10\"], \"Freq\": [6.0, 2.0, 2.0, 2.0, 1.0, 1.0, 1.0, 1.0, 1.0, 1.0, 2.0, 2.0, 0.0, 0.0, 0.0, 0.0, 0.0, 0.0, 0.0, 0.0, 0.0, 0.0, 0.0, 0.0, 0.0, 0.0, 0.0, 0.0, 0.0, 1.0, 1.5433623790740967, 0.8084226846694946, 0.8084226846694946, 0.8084226846694946, 0.8084226846694946, 0.8084226846694946, 0.8084226846694946, 0.8084226846694946, 0.8084226846694946, 0.8084226846694946, 0.8084226846694946, 0.8084225058555603, 0.8084224462509155, 0.8084226250648499, 0.8084225058555603, 0.8084226250648499, 0.8084225058555603, 0.8084225058555603, 0.8084225058555603, 0.8084225058555603, 0.8084225058555603, 0.8084224462509155, 0.8084224462509155, 0.8084225058555603, 0.8084224462509155, 0.8084224462509155, 0.8084224462509155, 0.8084225058555603, 0.8084224462509155, 0.808422327041626, 0.8084222674369812, 1.5433666706085205, 1.5438134670257568, 0.8090230226516724, 0.8089562058448792, 1.3840659856796265, 0.7249836325645447, 0.7249836325645447, 0.7249836325645447, 0.7249836325645447, 0.7249836325645447, 0.7249836325645447, 0.7249836325645447, 0.7249836325645447, 0.7249836325645447, 0.7249835133552551, 0.7249826192855835, 0.724982500076294, 0.7246560454368591, 0.7246408462524414, 0.7246241569519043, 0.7246043086051941, 0.7245875000953674, 0.7245654463768005, 0.7245631814002991, 0.7245179414749146, 0.7246620059013367, 0.7245047092437744, 0.7245040535926819, 2.042750835418701, 0.7249724268913269, 0.7247056365013123, 0.7244430780410767, 0.06590814888477325, 0.06590814888477325, 0.06590814143419266, 0.06590814143419266, 0.06590814143419266, 0.06590814143419266, 0.06590814888477325, 0.06590814888477325, 1.31307053565979, 0.6877956986427307, 0.6877956986427307, 0.6877956986427307, 0.6877956986427307, 0.6877957582473755, 0.6877957582473755, 0.6877957582473755, 0.6877957582473755, 0.6877957582473755, 0.6877955794334412, 0.6877935528755188, 0.6877931356430054, 0.6877927780151367, 0.6877923011779785, 0.6877923011779785, 0.6877915263175964, 0.6877909302711487, 0.6877909302711487, 1.313069224357605, 1.3130744695663452, 0.6877942085266113, 0.6877968311309814, 0.6877921223640442, 0.6877841353416443, 0.687793493270874, 0.06252742558717728, 0.06252742558717728, 0.06252741813659668, 0.06252741813659668, 0.06252741813659668, 0.06252741813659668, 0.06252742558717728, 0.06252742558717728, 0.06252744048833847, 0.6344334483146667, 0.6344334483146667, 0.6344334483146667, 0.6344334483146667, 0.6344334483146667, 0.6344334483146667, 0.6344334483146667, 0.6344334483146667, 0.6344334483146667, 0.6344334483146667, 0.6344334483146667, 0.6344334483146667, 0.6344329118728638, 0.6344329118728638, 0.6344329118728638, 0.6344336867332458, 0.6344337463378906, 0.6344337463378906, 0.6344293355941772, 0.6344342231750488, 0.05767614394426346, 0.05767613276839256, 0.057676129043102264, 0.057676129043102264, 0.057676129043102264, 0.057676129043102264, 0.057676129043102264, 0.057676129043102264, 0.057676129043102264, 0.057676129043102264, 0.057676129043102264, 0.057676129043102264, 0.057676125317811966, 0.057676129043102264, 0.057676129043102264, 0.057676129043102264, 0.057676129043102264, 0.05767616257071495, 0.057676129043102264, 0.057676129043102264, 0.057676129043102264, 0.057676129043102264, 0.057676125317811966, 0.057676129043102264, 0.057676129043102264, 0.05767613276839256, 0.057676129043102264, 0.5910101532936096, 0.5910101532936096, 0.5910101532936096, 0.5910101532936096, 0.5910101532936096, 0.5910101532936096, 0.5910101532936096, 0.5910097360610962, 0.5910097360610962, 1.1282984018325806, 0.5910123586654663, 0.5910123586654663, 0.5910133123397827, 0.591013491153717, 1.128317952156067, 0.053728509694337845, 0.05372851341962814, 0.053728509694337845, 0.053728505969047546, 0.053728505969047546, 0.053728505969047546, 0.053728505969047546, 0.053728505969047546, 0.053728505969047546, 0.053728505969047546, 0.053728505969047546, 0.053728505969047546, 0.05372850224375725, 0.053728505969047546, 0.053728505969047546, 0.053728505969047546, 0.053728505969047546, 0.05373291298747063, 0.053732920438051224, 0.053732454776763916, 0.05373179912567139, 0.05373178794980049, 0.05373145267367363, 0.05373129993677139, 0.053731195628643036, 0.05373118072748184, 0.053731076419353485, 0.053730692714452744, 0.053728509694337845, 0.053728509694337845, 0.053728509694337845, 0.053728505969047546, 0.5568237900733948, 0.5568236708641052, 0.5568237900733948, 0.5568237900733948, 0.5568237900733948, 0.5568237900733948, 0.5568236708641052, 0.5568236708641052, 0.5568237900733948, 0.5568236112594604, 0.5568234920501709, 0.5568234324455261, 0.5568224191665649, 0.5568284392356873, 0.5568210482597351, 0.050620630383491516, 0.050620630383491516, 0.05062062665820122, 0.05062062665820122, 0.05062062665820122, 0.05062062665820122, 0.05062062665820122, 0.05062062665820122, 0.05062062665820122, 0.05062062665820122, 0.05062062665820122, 0.05062062665820122, 0.05062062665820122, 0.05062062665820122, 0.05062062665820122, 0.05062062665820122, 0.05062062293291092, 0.050620630383491516, 0.050620630383491516, 0.050620630383491516, 0.050620630383491516, 0.050620630383491516, 0.050620630383491516, 0.050620630383491516, 0.050620634108781815, 0.05062064155936241, 0.050620634108781815, 0.050620630383491516, 0.05062063783407211, 0.050620634108781815, 0.5084454417228699, 0.5084453821182251, 0.5084454417228699, 0.5084454417228699, 0.5084454417228699, 0.5084453821182251, 0.5084454417228699, 0.5084454417228699, 0.5084454417228699, 0.5084465146064758, 0.5084493160247803, 0.04622253403067589, 0.04622253403067589, 0.04622253403067589, 0.04622253030538559, 0.04622253030538559, 0.04622253030538559, 0.04622253030538559, 0.04622253030538559, 0.04622253403067589, 0.04622253030538559, 0.04622253030538559, 0.04622253030538559, 0.04622253030538559, 0.04622253030538559, 0.04622253030538559, 0.04622253030538559, 0.04622253030538559, 0.04622253030538559, 0.04622253403067589, 0.04622253030538559, 0.04622253030538559, 0.04622253403067589, 0.04622253403067589, 0.04622253403067589, 0.046222541481256485, 0.046222537755966187, 0.04622253403067589, 0.04622253403067589, 0.046222537755966187, 0.04622253403067589, 0.046222541481256485, 0.04622254520654678, 0.04622254520654678, 0.046222537755966187, 0.046222537755966187, 0.04622253403067589, 0.4531734883785248, 0.4531734883785248, 0.4531734883785248, 0.4531734883785248, 0.4531734883785248, 0.4531734883785248, 0.45317310094833374, 0.45317313075065613, 0.4531734585762024, 0.4531500041484833, 0.041197795420885086, 0.041197795420885086, 0.041197795420885086, 0.041197795420885086, 0.041197795420885086, 0.041197795420885086, 0.041197795420885086, 0.04119779169559479, 0.04119779169559479, 0.041197795420885086, 0.041197795420885086, 0.041197795420885086, 0.041197795420885086, 0.041197795420885086, 0.041197795420885086, 0.041197795420885086, 0.041197795420885086, 0.041197795420885086, 0.041197795420885086, 0.041197795420885086, 0.041197795420885086, 0.04119779169559479, 0.041197795420885086, 0.041197799146175385, 0.041197799146175385, 0.04119780659675598, 0.04119781032204628, 0.041197799146175385, 0.04119780659675598, 0.041197799146175385, 0.041197795420885086, 0.041197795420885086, 0.041197795420885086, 0.041197795420885086, 0.04119779169559479, 0.041197795420885086, 0.041197795420885086, 0.041197795420885086, 0.041197795420885086, 0.041197795420885086, 0.041197795420885086, 0.012446322478353977, 0.012446321547031403, 0.012446320615708828, 0.012446320615708828, 0.012446320615708828, 0.012446320615708828, 0.012446320615708828, 0.012446320615708828, 0.012446320615708828, 0.012446320615708828, 0.012446320615708828, 0.012446320615708828, 0.012446320615708828, 0.012446320615708828, 0.012446320615708828, 0.012446320615708828, 0.012446319684386253, 0.012446320615708828, 0.012446320615708828, 0.012446320615708828, 0.012446320615708828, 0.012446320615708828, 0.012446320615708828, 0.012446320615708828, 0.012446320615708828, 0.012446320615708828, 0.012446319684386253, 0.012446321547031403, 0.012446320615708828, 0.012446320615708828, 0.012446320615708828, 0.012446319684386253, 0.012446320615708828, 0.012446320615708828, 0.012446328997612, 0.012446323409676552, 0.012446324340999126, 0.012446324340999126, 0.012446325272321701, 0.012446320615708828, 0.012446321547031403, 0.012446321547031403, 0.012446321547031403, 0.012446321547031403, 0.012446320615708828, 0.012446320615708828, 0.012446320615708828, 0.012446320615708828, 0.012446320615708828, 0.012446320615708828, 0.012446320615708828, 0.012446320615708828, 0.012446320615708828, 0.012446320615708828, 0.012446320615708828, 0.012446320615708828, 0.012446320615708828, 0.012446322478353977, 0.012446321547031403, 0.012446320615708828, 0.012446320615708828, 0.012446320615708828, 0.012446320615708828, 0.012446320615708828, 0.012446320615708828, 0.012446320615708828, 0.012446320615708828, 0.012446320615708828, 0.012446320615708828, 0.012446320615708828, 0.012446320615708828, 0.012446320615708828, 0.012446320615708828, 0.012446319684386253, 0.012446320615708828, 0.012446320615708828, 0.012446320615708828, 0.012446320615708828, 0.012446320615708828, 0.012446320615708828, 0.012446320615708828, 0.012446320615708828, 0.012446320615708828, 0.012446320615708828, 0.012446320615708828, 0.012446320615708828, 0.012446320615708828, 0.012446320615708828, 0.012446319684386253, 0.012446320615708828, 0.012446320615708828, 0.012446328997612, 0.012446323409676552, 0.012446323409676552, 0.01244632713496685, 0.012446322478353977, 0.012446321547031403, 0.012446321547031403, 0.012446321547031403, 0.012446320615708828, 0.012446320615708828, 0.012446320615708828, 0.012446320615708828, 0.012446320615708828, 0.012446320615708828, 0.012446320615708828, 0.012446320615708828, 0.012446320615708828, 0.012446320615708828, 0.012446320615708828, 0.012446320615708828, 0.012446320615708828, 0.012446320615708828, 0.012446321547031403], \"Term\": [\"facebook\", \"friday\", \"thursday\", \"percent\", \"continue\", \"recent\", \"trading\", \"netflix\", \"warren\", \"proposal\", \"outage\", \"stock\", \"pledge\", \"answer\", \"public\", \"question\", \"testimony\", \"provide\", \"heart\", \"insider\", \"family\", \"integrate\", \"prioritize\", \"uncertainty\", \"announcement\", \"hang\", \"departure\", \"private\", \"communication\", \"shooter\", \"federal\", \"wednesday\", \"times\", \"maker\", \"meanwhile\", \"night\", \"partnership\", \"prosecutor\", \"publish\", \"sharing\", \"accord\", \"message\", \"already\", \"device\", \"video\", \"probe\", \"taking\", \"praise\", \"posting\", \"alert\", \"police\", \"department\", \"include\", \"become\", \"justice\", \"ongoing\", \"spokesperson\", \"aware\", \"investigation\", \"weigh\", \"youtube\", \"report\", \"facebook\", \"company\", \"privacy\", \"netflix\", \"faang\", \"call\", \"sheer\", \"google\", \"favor\", \"default\", \"apple\", \"analyst\", \"amazon\", \"stocks\", \"long\", \"suffer\", \"chris\", \"officer\", \"product\", \"chief\", \"announce\", \"leaving\", \"pivot\", \"light\", \"recent\", \"privacy\", \"friday\", \"facebook\", \"outage\", \"stock\", \"company\", \"insider\", \"heart\", \"public\", \"pledge\", \"testimony\", \"question\", \"ease\", \"claim\", \"trading\", \"zuckerberg\", \"among\", \"earlier\", \"employee\", \"sinking\", \"share\", \"point\", \"lowest\", \"early\", \"directly\", \"issue\", \"trigger\", \"series\", \"blame\", \"configuration\", \"server\", \"cascade\", \"change\", \"thursday\", \"percent\", \"statement\", \"outage\", \"report\", \"stock\", \"company\", \"heart\", \"insider\", \"public\", \"answer\", \"question\", \"pledge\", \"claim\", \"suffer\", \"facebook\", \"break\", \"presidential\", \"massachusetts\", \"investor\", \"headline\", \"garner\", \"elizabeth\", \"concern\", \"community\", \"candidate\", \"senator\", \"raise\", \"ease\", \"end\", \"morning\", \"continue\", \"proposal\", \"warren\", \"percent\", \"stock\", \"heart\", \"insider\", \"question\", \"pledge\", \"provide\", \"public\", \"testimony\", \"answer\", \"hang\", \"private\", \"prioritize\", \"communication\", \"departure\", \"uncertainty\", \"family\", \"integrate\", \"announcement\", \"facebook\", \"zealand\", \"terrorist\", \"stream\", \"shooter\", \"separately\", \"youtube\", \"incident\", \"claim\", \"least\", \"stream\", \"attack\", \"relate\", \"terrorist\", \"separately\", \"criticism\", \"incident\", \"rough\", \"losses\", \"friday\", \"shooter\", \"zealand\", \"stock\", \"company\", \"facebook\", \"heart\", \"insider\", \"answer\", \"pledge\", \"testimony\", \"provide\", \"public\", \"question\", \"communication\", \"private\", \"integrate\", \"prioritize\", \"hang\", \"uncertainty\", \"departure\", \"family\", \"announcement\", \"cascade\", \"change\", \"server\", \"configuration\", \"blame\", \"statement\", \"series\", \"thursday\", \"outage\", \"trigger\", \"issue\", \"long\", \"life\", \"shooting\", \"alert\", \"would\", \"nearly\", \"major\", \"instagram\", \"divest\", \"acquisition\", \"widespread\", \"service\", \"whatsapp\", \"reinstate\", \"warren\", \"proposal\", \"thursday\", \"outage\", \"facebook\", \"heart\", \"insider\", \"public\", \"question\", \"testimony\", \"answer\", \"pledge\", \"provide\", \"hang\", \"private\", \"communication\", \"departure\", \"integrate\", \"prioritize\", \"family\", \"uncertainty\", \"announcement\", \"zuckerberg\", \"directly\", \"continue\", \"report\", \"suffer\", \"claim\", \"shooter\", \"friday\", \"company\", \"shooting\", \"life\", \"percent\", \"trading\", \"hang\", \"communication\", \"family\", \"uncertainty\", \"integrate\", \"private\", \"announcement\", \"prioritize\", \"departure\", \"recent\", \"facebook\", \"heart\", \"insider\", \"answer\", \"provide\", \"public\", \"question\", \"testimony\", \"pledge\", \"service\", \"widespread\", \"reinstate\", \"nearly\", \"acquisition\", \"major\", \"would\", \"whatsapp\", \"divest\", \"instagram\", \"losses\", \"rough\", \"terrorist\", \"directly\", \"report\", \"shooting\", \"trading\", \"life\", \"least\", \"claim\", \"ease\", \"continue\", \"outage\", \"thursday\", \"percent\", \"company\", \"friday\", \"long\", \"pledge\", \"answer\", \"testimony\", \"question\", \"public\", \"provide\", \"heart\", \"insider\", \"continue\", \"facebook\", \"communication\", \"private\", \"hang\", \"uncertainty\", \"integrate\", \"family\", \"prioritize\", \"departure\", \"announcement\", \"service\", \"widespread\", \"reinstate\", \"nearly\", \"would\", \"major\", \"whatsapp\", \"acquisition\", \"divest\", \"instagram\", \"rough\", \"losses\", \"stream\", \"terrorist\", \"report\", \"thursday\", \"percent\", \"stock\", \"outage\", \"company\", \"trading\", \"claim\", \"zealand\", \"relate\", \"shooter\", \"separately\", \"life\", \"incident\", \"criticism\", \"attack\", \"least\", \"youtube\", \"heart\", \"insider\", \"testimony\", \"answer\", \"pledge\", \"public\", \"question\", \"provide\", \"hang\", \"communication\", \"private\", \"family\", \"integrate\", \"departure\", \"announcement\", \"prioritize\", \"uncertainty\", \"reinstate\", \"nearly\", \"widespread\", \"service\", \"would\", \"divest\", \"whatsapp\", \"instagram\", \"acquisition\", \"major\", \"losses\", \"rough\", \"relate\", \"terrorist\", \"attack\", \"stream\", \"separately\", \"facebook\", \"company\", \"thursday\", \"percent\", \"stock\", \"youtube\", \"shooting\", \"life\", \"least\", \"claim\", \"zealand\", \"shooter\", \"aware\", \"incident\", \"criticism\", \"alert\", \"police\", \"become\", \"message\", \"posting\", \"praise\", \"taking\", \"video\", \"heart\", \"insider\", \"testimony\", \"answer\", \"pledge\", \"public\", \"question\", \"provide\", \"hang\", \"communication\", \"private\", \"family\", \"integrate\", \"departure\", \"announcement\", \"prioritize\", \"uncertainty\", \"reinstate\", \"nearly\", \"widespread\", \"service\", \"would\", \"divest\", \"whatsapp\", \"major\", \"instagram\", \"acquisition\", \"rough\", \"losses\", \"relate\", \"terrorist\", \"attack\", \"stream\", \"separately\", \"facebook\", \"outage\", \"percent\", \"stock\", \"shooting\", \"life\", \"least\", \"claim\", \"zealand\", \"youtube\", \"aware\", \"shooter\", \"incident\", \"criticism\", \"alert\", \"message\", \"become\", \"police\", \"posting\", \"praise\", \"taking\", \"video\", \"long\"], \"Total\": [6.0, 2.0, 2.0, 2.0, 1.0, 1.0, 1.0, 1.0, 1.0, 1.0, 2.0, 2.0, 0.0, 0.0, 0.0, 0.0, 0.0, 0.0, 0.0, 0.0, 0.0, 0.0, 0.0, 0.0, 0.0, 0.0, 0.0, 0.0, 0.0, 1.0, 1.9461361169815063, 1.2111964225769043, 1.2111964225769043, 1.2111964225769043, 1.2111964225769043, 1.2111964225769043, 1.2111964225769043, 1.2111964225769043, 1.2111964225769043, 1.2111964225769043, 1.2111964225769043, 1.2111963033676147, 1.2111961841583252, 1.2111964225769043, 1.2111963033676147, 1.2111964225769043, 1.2111963033676147, 1.2111963033676147, 1.2111963033676147, 1.2111963033676147, 1.2111963033676147, 1.2111961841583252, 1.2111961841583252, 1.2111963033676147, 1.2111961841583252, 1.2111961841583252, 1.2111961841583252, 1.2111963033676147, 1.2111961841583252, 1.2111960649490356, 1.2111960649490356, 2.5714051723480225, 6.378398895263672, 3.0328826904296875, 1.8703263998031616, 1.794425368309021, 1.135343074798584, 1.135343074798584, 1.135343074798584, 1.135343074798584, 1.135343074798584, 1.135343074798584, 1.135343074798584, 1.135343074798584, 1.135343074798584, 1.1353429555892944, 1.1353421211242676, 1.135342001914978, 1.135380744934082, 1.1353824138641357, 1.1353843212127686, 1.1353867053985596, 1.1353886127471924, 1.135391116142273, 1.135391354560852, 1.1353965997695923, 1.597602128982544, 1.8703263998031616, 2.2099640369415283, 6.378398895263672, 2.2668118476867676, 2.874681234359741, 3.0328826904296875, 0.8882430791854858, 0.8882430791854858, 0.8882433772087097, 0.8882433772087097, 0.8882433772087097, 0.8882433772087097, 1.0530242919921875, 1.2111947536468506, 1.7268108129501343, 1.1015357971191406, 1.1015357971191406, 1.1015357971191406, 1.1015357971191406, 1.1015359163284302, 1.1015359163284302, 1.1015359163284302, 1.1015359163284302, 1.1015359163284302, 1.101535677909851, 1.1015357971191406, 1.1015357971191406, 1.101535677909851, 1.101535677909851, 1.101535677909851, 1.1015355587005615, 1.101535439491272, 1.101535439491272, 2.2330141067504883, 2.303568124771118, 1.8364640474319458, 2.2668118476867676, 2.5714051723480225, 2.874681234359741, 3.0328826904296875, 0.8882430791854858, 0.8882430791854858, 0.8882433772087097, 0.8882433772087097, 0.8882433772087097, 0.8882433772087097, 1.2111947536468506, 1.135342001914978, 6.378398895263672, 1.0530248880386353, 1.0530248880386353, 1.0530248880386353, 1.0530248880386353, 1.0530248880386353, 1.0530248880386353, 1.0530248880386353, 1.0530248880386353, 1.0530248880386353, 1.0530248880386353, 1.0530248880386353, 1.0530248880386353, 1.0530242919921875, 1.0530242919921875, 1.0530242919921875, 1.4650007486343384, 1.5592280626296997, 1.5592280626296997, 2.303568124771118, 2.874681234359741, 0.8882430791854858, 0.8882430791854858, 0.8882433772087097, 0.8882433772087097, 0.8882433772087097, 0.8882433772087097, 0.8882433772087097, 0.8882433772087097, 0.9384905099868774, 0.9384905099868774, 0.9384905695915222, 0.9384905099868774, 0.9384905695915222, 0.9384905695915222, 0.9384905695915222, 0.9384905695915222, 0.9384905695915222, 6.378398895263672, 1.7484771013259888, 1.0135492086410522, 1.0135490894317627, 1.7484771013259888, 1.0135492086410522, 1.2111960649490356, 1.0135492086410522, 1.2111947536468506, 1.2111947536468506, 1.0135490894317627, 1.0135490894317627, 1.0135490894317627, 1.0135492086410522, 1.0135492086410522, 1.0135492086410522, 1.0135492086410522, 1.013548731803894, 1.013548731803894, 2.2099640369415283, 1.7484771013259888, 1.7484771013259888, 2.874681234359741, 3.0328826904296875, 6.378398895263672, 0.8882430791854858, 0.8882430791854858, 0.8882433772087097, 0.8882433772087097, 0.8882433772087097, 0.8882433772087097, 0.8882433772087097, 0.8882433772087097, 0.9384905099868774, 0.9384905099868774, 0.9384905695915222, 0.9384905695915222, 0.9384905099868774, 0.9384905695915222, 0.9384905695915222, 0.9384905695915222, 0.9384905695915222, 1.101535439491272, 1.101535439491272, 1.1015355587005615, 1.101535677909851, 1.101535677909851, 1.8364640474319458, 1.101535677909851, 2.2330141067504883, 2.2668118476867676, 1.1015357971191406, 1.1015357971191406, 1.1353421211242676, 1.211194634437561, 1.211194634437561, 1.2111963033676147, 0.9824708104133606, 0.982470691204071, 0.9824708104133606, 0.9824708104133606, 0.9824708104133606, 0.9824708104133606, 0.982470691204071, 0.982470691204071, 0.9824708104133606, 0.9824706315994263, 1.5592280626296997, 1.5592280626296997, 2.2330141067504883, 2.2668118476867676, 6.378398895263672, 0.8882430791854858, 0.8882430791854858, 0.8882433772087097, 0.8882433772087097, 0.8882433772087097, 0.8882433772087097, 0.8882433772087097, 0.8882433772087097, 0.9384905099868774, 0.9384905099868774, 0.9384905099868774, 0.9384905695915222, 0.9384905695915222, 0.9384905695915222, 0.9384905695915222, 0.9384905695915222, 0.9384905695915222, 1.1015357971191406, 1.101535677909851, 1.4650007486343384, 2.5714051723480225, 1.135342001914978, 1.2111947536468506, 1.7484771013259888, 2.2099640369415283, 3.0328826904296875, 1.211194634437561, 1.211194634437561, 2.303568124771118, 1.7268108129501343, 0.9384905099868774, 0.9384905099868774, 0.9384905695915222, 0.9384905695915222, 0.9384905695915222, 0.9384905099868774, 0.9384905695915222, 0.9384905695915222, 0.9384905695915222, 1.597602128982544, 6.378398895263672, 0.8882430791854858, 0.8882430791854858, 0.8882433772087097, 0.8882433772087097, 0.8882433772087097, 0.8882433772087097, 0.8882433772087097, 0.8882433772087097, 0.982470691204071, 0.982470691204071, 0.9824706315994263, 0.982470691204071, 0.9824708104133606, 0.9824708104133606, 0.9824708104133606, 0.9824708104133606, 0.9824708104133606, 0.9824708104133606, 1.013548731803894, 1.013548731803894, 1.0135492086410522, 1.101535677909851, 2.5714051723480225, 1.211194634437561, 1.7268108129501343, 1.211194634437561, 1.2111947536468506, 1.2111947536468506, 1.0530242919921875, 1.4650007486343384, 2.2668118476867676, 2.2330141067504883, 2.303568124771118, 3.0328826904296875, 2.2099640369415283, 1.1353421211242676, 0.8882433772087097, 0.8882433772087097, 0.8882433772087097, 0.8882433772087097, 0.8882433772087097, 0.8882433772087097, 0.8882430791854858, 0.8882430791854858, 1.4650007486343384, 6.378398895263672, 0.9384905099868774, 0.9384905099868774, 0.9384905099868774, 0.9384905695915222, 0.9384905695915222, 0.9384905695915222, 0.9384905695915222, 0.9384905695915222, 0.9384905695915222, 0.982470691204071, 0.982470691204071, 0.9824706315994263, 0.982470691204071, 0.9824708104133606, 0.9824708104133606, 0.9824708104133606, 0.9824708104133606, 0.9824708104133606, 0.9824708104133606, 1.013548731803894, 1.013548731803894, 1.0135490894317627, 1.0135492086410522, 2.5714051723480225, 2.2330141067504883, 2.303568124771118, 2.874681234359741, 2.2668118476867676, 3.0328826904296875, 1.7268108129501343, 1.2111947536468506, 1.7484771013259888, 1.0135490894317627, 1.7484771013259888, 1.0135492086410522, 1.211194634437561, 1.0135492086410522, 1.0135492086410522, 1.0135490894317627, 1.2111947536468506, 1.2111960649490356, 0.8882430791854858, 0.8882430791854858, 0.8882433772087097, 0.8882433772087097, 0.8882433772087097, 0.8882433772087097, 0.8882433772087097, 0.8882433772087097, 0.9384905099868774, 0.9384905099868774, 0.9384905099868774, 0.9384905695915222, 0.9384905695915222, 0.9384905695915222, 0.9384905695915222, 0.9384905695915222, 0.9384905695915222, 0.9824706315994263, 0.982470691204071, 0.982470691204071, 0.982470691204071, 0.9824708104133606, 0.9824708104133606, 0.9824708104133606, 0.9824708104133606, 0.9824708104133606, 0.9824708104133606, 1.013548731803894, 1.013548731803894, 1.0135490894317627, 1.0135492086410522, 1.0135490894317627, 1.0135490894317627, 1.0135492086410522, 6.378398895263672, 3.0328826904296875, 2.2330141067504883, 2.303568124771118, 2.874681234359741, 1.2111960649490356, 1.211194634437561, 1.211194634437561, 1.2111947536468506, 1.2111947536468506, 1.7484771013259888, 1.7484771013259888, 1.2111963033676147, 1.0135492086410522, 1.0135492086410522, 1.2111963033676147, 1.2111963033676147, 1.2111963033676147, 1.2111963033676147, 1.2111963033676147, 1.2111963033676147, 1.2111963033676147, 1.2111963033676147, 0.8882430791854858, 0.8882430791854858, 0.8882433772087097, 0.8882433772087097, 0.8882433772087097, 0.8882433772087097, 0.8882433772087097, 0.8882433772087097, 0.9384905099868774, 0.9384905099868774, 0.9384905099868774, 0.9384905695915222, 0.9384905695915222, 0.9384905695915222, 0.9384905695915222, 0.9384905695915222, 0.9384905695915222, 0.9824706315994263, 0.982470691204071, 0.982470691204071, 0.982470691204071, 0.9824708104133606, 0.9824708104133606, 0.9824708104133606, 0.9824708104133606, 0.9824708104133606, 0.9824708104133606, 1.013548731803894, 1.013548731803894, 1.0135490894317627, 1.0135492086410522, 1.0135490894317627, 1.0135490894317627, 1.0135492086410522, 6.378398895263672, 2.2668118476867676, 2.303568124771118, 2.874681234359741, 1.211194634437561, 1.211194634437561, 1.2111947536468506, 1.2111947536468506, 1.7484771013259888, 1.2111960649490356, 1.2111963033676147, 1.7484771013259888, 1.0135492086410522, 1.0135492086410522, 1.2111963033676147, 1.2111963033676147, 1.2111963033676147, 1.2111963033676147, 1.2111963033676147, 1.2111963033676147, 1.2111963033676147, 1.2111963033676147, 1.1353421211242676], \"loglift\": [30.0, 29.0, 28.0, 27.0, 26.0, 25.0, 24.0, 23.0, 22.0, 21.0, 20.0, 19.0, 18.0, 17.0, 16.0, 15.0, 14.0, 13.0, 12.0, 11.0, 10.0, 9.0, 8.0, 7.0, 6.0, 5.0, 4.0, 3.0, 2.0, 1.0, 1.1043000221252441, 0.9319000244140625, 0.9319000244140625, 0.9319000244140625, 0.9319000244140625, 0.9319000244140625, 0.9319000244140625, 0.9319000244140625, 0.9319000244140625, 0.9319000244140625, 0.9319000244140625, 0.9319000244140625, 0.9319000244140625, 0.9319000244140625, 0.9319000244140625, 0.9319000244140625, 0.9319000244140625, 0.9319000244140625, 0.9319000244140625, 0.9319000244140625, 0.9319000244140625, 0.9319000244140625, 0.9319000244140625, 0.9319000244140625, 0.9319000244140625, 0.9319000244140625, 0.9319000244140625, 0.9319000244140625, 0.9319000244140625, 0.9319000244140625, 0.9319000244140625, 0.8256999850273132, -0.08250000327825546, 0.014700000174343586, 0.49799999594688416, 1.5480999946594238, 1.3592000007629395, 1.3592000007629395, 1.3592000007629395, 1.3592000007629395, 1.3592000007629395, 1.3592000007629395, 1.3592000007629395, 1.3592000007629395, 1.3592000007629395, 1.3592000007629395, 1.3592000007629395, 1.3592000007629395, 1.3587000370025635, 1.3587000370025635, 1.3587000370025635, 1.3586000204086304, 1.3586000204086304, 1.3586000204086304, 1.3586000204086304, 1.3585000038146973, 1.017199993133545, 0.8593999743461609, 0.6924999952316284, 0.6690999865531921, 0.6678000092506409, 0.42980000376701355, 0.375900000333786, -0.7932000160217285, -0.7932000160217285, -0.7932000160217285, -0.7932000160217285, -0.7932000160217285, -0.7932000160217285, -0.9634000062942505, -1.1032999753952026, 1.63100004196167, 1.433899998664856, 1.433899998664856, 1.433899998664856, 1.433899998664856, 1.433899998664856, 1.433899998664856, 1.433899998664856, 1.433899998664856, 1.433899998664856, 1.433899998664856, 1.433899998664856, 1.433899998664856, 1.433899998664856, 1.433899998664856, 1.433899998664856, 1.433899998664856, 1.433899998664856, 1.433899998664856, 1.373900055885315, 1.3428000211715698, 0.9228000044822693, 0.7121999859809875, 0.5861999988555908, 0.474700003862381, 0.421099990606308, -0.7487999796867371, -0.7487999796867371, -0.7487999796867371, -0.7487999796867371, -0.7487999796867371, -0.7487999796867371, -1.058899998664856, -0.9941999912261963, -2.7202000617980957, 1.7089999914169312, 1.7089999914169312, 1.7089999914169312, 1.7089999914169312, 1.7089999914169312, 1.7089999914169312, 1.7089999914169312, 1.7089999914169312, 1.7089999914169312, 1.7089999914169312, 1.7089999914169312, 1.7089999914169312, 1.7089999914169312, 1.7089999914169312, 1.7089999914169312, 1.3788000345230103, 1.3164000511169434, 1.3164000511169434, 0.9261999726295471, 0.7046999931335449, -0.5188000202178955, -0.5188000202178955, -0.5188000202178955, -0.5188000202178955, -0.5188000202178955, -0.5188000202178955, -0.5188000202178955, -0.5188000202178955, -0.5738000273704529, -0.5738000273704529, -0.5738000273704529, -0.5738000273704529, -0.5738000273704529, -0.5738000273704529, -0.5738000273704529, -0.5738000273704529, -0.5738000273704529, -2.4902000427246094, -1.1959999799728394, -0.6506999731063843, -0.6506999731063843, -1.1959999799728394, -0.6506999731063843, -0.8288999795913696, -0.6506999731063843, -0.8288999795913696, -0.8288999795913696, 1.8372999429702759, 1.8372999429702759, 1.8372999429702759, 1.8372999429702759, 1.8372999429702759, 1.8372999429702759, 1.8372999429702759, 1.8372999429702759, 1.8372999429702759, 1.7043999433517456, 1.2920000553131104, 1.2920000553131104, 0.7947999835014343, 0.7412999868392944, 0.6445000171661377, -0.428600013256073, -0.428600013256073, -0.428600013256073, -0.428600013256073, -0.428600013256073, -0.428600013256073, -0.428600013256073, -0.428600013256073, -0.483599990606308, -0.483599990606308, -0.483599990606308, -0.483599990606308, -0.483599990606308, -0.483599990606308, -0.483599990606308, -0.483599990606308, -0.483599990606308, -0.6437000036239624, -0.6437000036239624, -0.6437000036239624, -0.6438000202178955, -0.6438000202178955, -1.1548999547958374, -0.6438000202178955, -1.3503999710083008, -1.365399956703186, -0.6438000202178955, -0.6438000202178955, -0.6740999817848206, -0.7386999726295471, -0.7386999726295471, -0.7386999726295471, 1.93340003490448, 1.93340003490448, 1.93340003490448, 1.93340003490448, 1.93340003490448, 1.93340003490448, 1.93340003490448, 1.93340003490448, 1.93340003490448, 1.93340003490448, 1.471500039100647, 1.471500039100647, 1.1124000549316406, 1.0973999500274658, 0.06279999762773514, -0.3635999858379364, -0.3635999858379364, -0.3635999858379364, -0.3635999858379364, -0.3635999858379364, -0.3635999858379364, -0.3635999858379364, -0.3635999858379364, -0.4187000095844269, -0.4187000095844269, -0.4187000095844269, -0.4187000095844269, -0.4187000095844269, -0.4187000095844269, -0.4187000095844269, -0.4187000095844269, -0.4187000095844269, -0.5788999795913696, -0.5788999795913696, -0.8640000224113464, -1.4265999794006348, -0.6090999841690063, -0.673799991607666, -1.0408999919891357, -1.2750999927520752, -1.5916999578475952, -0.673799991607666, -0.673799991607666, -1.31659996509552, -1.02839994430542, 2.1233999729156494, 2.1233999729156494, 2.1233999729156494, 2.1233999729156494, 2.1233999729156494, 2.1233999729156494, 2.1233999729156494, 2.1233999729156494, 2.1233999729156494, 1.5914000272750854, 0.2070000022649765, -0.21950000524520874, -0.21950000524520874, -0.21950000524520874, -0.21950000524520874, -0.21950000524520874, -0.21950000524520874, -0.21950000524520874, -0.21950000524520874, -0.32030001282691956, -0.32030001282691956, -0.32030001282691956, -0.32030001282691956, -0.32030001282691956, -0.32030001282691956, -0.32030001282691956, -0.32030001282691956, -0.32030001282691956, -0.32030001282691956, -0.351500004529953, -0.351500004529953, -0.351500004529953, -0.43470001220703125, -1.2825000286102295, -0.5296000242233276, -0.8842999935150146, -0.5296000242233276, -0.5296000242233276, -0.5296000242233276, -0.3896999955177307, -0.7199000120162964, -1.1563999652862549, -1.1413999795913696, -1.1725000143051147, -1.4474999904632568, -1.13100004196167, -0.4650000035762787, 2.217900037765503, 2.217900037765503, 2.217900037765503, 2.217900037765503, 2.217900037765503, 2.217900037765503, 2.217900037765503, 2.217900037765503, 1.7174999713897705, 0.24639999866485596, -0.23499999940395355, -0.23499999940395355, -0.23499999940395355, -0.23499999940395355, -0.23499999940395355, -0.23499999940395355, -0.23499999940395355, -0.23499999940395355, -0.23499999940395355, -0.2808000147342682, -0.2808000147342682, -0.2808000147342682, -0.2808000147342682, -0.2808000147342682, -0.2808000147342682, -0.2808000147342682, -0.2808000147342682, -0.2808000147342682, -0.2808000147342682, -0.31189998984336853, -0.31189998984336853, -0.31189998984336853, -0.31189998984336853, -1.242900013923645, -1.1017999649047852, -1.1328999996185303, -1.3544000387191772, -1.1168999671936035, -1.4079999923706055, -0.8447999954223633, -0.4900999963283539, -0.857200026512146, -0.31189998984336853, -0.857200026512146, -0.31189998984336853, -0.4900999963283539, -0.31189998984336853, -0.31189998984336853, -0.31189998984336853, -0.4900999963283539, -0.4900999963283539, 0.3361999988555908, 0.3361999988555908, 0.3361999988555908, 0.3361999988555908, 0.3361999988555908, 0.3361999988555908, 0.3361999988555908, 0.3361999988555908, 0.28119999170303345, 0.28119999170303345, 0.28119999170303345, 0.28119999170303345, 0.28119999170303345, 0.28119999170303345, 0.28119999170303345, 0.28119999170303345, 0.28119999170303345, 0.2354000061750412, 0.2354000061750412, 0.2354000061750412, 0.2354000061750412, 0.2354000061750412, 0.2354000061750412, 0.2354000061750412, 0.2354000061750412, 0.2354000061750412, 0.2354000061750412, 0.20430000126361847, 0.20430000126361847, 0.20430000126361847, 0.20430000126361847, 0.20430000126361847, 0.20430000126361847, 0.20430000126361847, -1.635200023651123, -0.8917999863624573, -0.5856000185012817, -0.6166999936103821, -0.8381999731063843, 0.026100000366568565, 0.026100000366568565, 0.026100000366568565, 0.026100000366568565, 0.026100000366568565, -0.3409999907016754, -0.3409999907016754, 0.026100000366568565, 0.20430000126361847, 0.20430000126361847, 0.026100000366568565, 0.026100000366568565, 0.026100000366568565, 0.026100000366568565, 0.026100000366568565, 0.026100000366568565, 0.026100000366568565, 0.026100000366568565, 0.3361999988555908, 0.3361999988555908, 0.3361999988555908, 0.3361999988555908, 0.3361999988555908, 0.3361999988555908, 0.3361999988555908, 0.3361999988555908, 0.28119999170303345, 0.28119999170303345, 0.28119999170303345, 0.28119999170303345, 0.28119999170303345, 0.28119999170303345, 0.28119999170303345, 0.28119999170303345, 0.28119999170303345, 0.2354000061750412, 0.2354000061750412, 0.2354000061750412, 0.2354000061750412, 0.2354000061750412, 0.2354000061750412, 0.2354000061750412, 0.2354000061750412, 0.2354000061750412, 0.2354000061750412, 0.20430000126361847, 0.20430000126361847, 0.20430000126361847, 0.20430000126361847, 0.20430000126361847, 0.20430000126361847, 0.20430000126361847, -1.635200023651123, -0.6007000207901001, -0.6166999936103821, -0.8381999731063843, 0.026100000366568565, 0.026100000366568565, 0.026100000366568565, 0.026100000366568565, -0.3409999907016754, 0.026100000366568565, 0.026100000366568565, -0.3409999907016754, 0.20430000126361847, 0.20430000126361847, 0.026100000366568565, 0.026100000366568565, 0.026100000366568565, 0.026100000366568565, 0.026100000366568565, 0.026100000366568565, 0.026100000366568565, 0.026100000366568565, 0.09080000221729279], \"logprob\": [30.0, 29.0, 28.0, 27.0, 26.0, 25.0, 24.0, 23.0, 22.0, 21.0, 20.0, 19.0, 18.0, 17.0, 16.0, 15.0, 14.0, 13.0, 12.0, 11.0, 10.0, 9.0, 8.0, 7.0, 6.0, 5.0, 4.0, 3.0, 2.0, 1.0, -3.4447999000549316, -4.091400146484375, -4.091400146484375, -4.091400146484375, -4.091400146484375, -4.091400146484375, -4.091400146484375, -4.091400146484375, -4.091400146484375, -4.091400146484375, -4.091400146484375, -4.091400146484375, -4.091400146484375, -4.091400146484375, -4.091400146484375, -4.091400146484375, -4.091400146484375, -4.091400146484375, -4.091400146484375, -4.091400146484375, -4.091400146484375, -4.091400146484375, -4.091400146484375, -4.091400146484375, -4.091400146484375, -4.091400146484375, -4.091400146484375, -4.091400146484375, -4.091400146484375, -4.091400146484375, -4.091400146484375, -3.4447999000549316, -3.444499969482422, -4.090700149536133, -4.090799808502197, -3.082200050354004, -3.728800058364868, -3.728800058364868, -3.728800058364868, -3.728800058364868, -3.728800058364868, -3.728800058364868, -3.728800058364868, -3.728800058364868, -3.728800058364868, -3.728800058364868, -3.728800058364868, -3.728800058364868, -3.7291998863220215, -3.729300022125244, -3.729300022125244, -3.729300022125244, -3.729300022125244, -3.7293999195098877, -3.7293999195098877, -3.7293999195098877, -3.7291998863220215, -3.7295000553131104, -3.7295000553131104, -2.6928999423980713, -3.728800058364868, -3.7291998863220215, -3.7295000553131104, -6.126699924468994, -6.126699924468994, -6.126699924468994, -6.126699924468994, -6.126699924468994, -6.126699924468994, -6.126699924468994, -6.126699924468994, -3.0376999378204346, -3.684299945831299, -3.684299945831299, -3.684299945831299, -3.684299945831299, -3.684299945831299, -3.684299945831299, -3.684299945831299, -3.684299945831299, -3.684299945831299, -3.684299945831299, -3.684299945831299, -3.684299945831299, -3.684299945831299, -3.684299945831299, -3.684299945831299, -3.684299945831299, -3.684299945831299, -3.684299945831299, -3.0376999378204346, -3.0376999378204346, -3.684299945831299, -3.684299945831299, -3.684299945831299, -3.684299945831299, -3.684299945831299, -6.082200050354004, -6.082200050354004, -6.082200050354004, -6.082200050354004, -6.082200050354004, -6.082200050354004, -6.082200050354004, -6.082200050354004, -6.082200050354004, -3.4542999267578125, -3.4542999267578125, -3.4542999267578125, -3.4542999267578125, -3.4542999267578125, -3.4542999267578125, -3.4542999267578125, -3.4542999267578125, -3.4542999267578125, -3.4542999267578125, -3.4542999267578125, -3.4542999267578125, -3.4542999267578125, -3.4542999267578125, -3.4542999267578125, -3.4542999267578125, -3.4542999267578125, -3.4542999267578125, -3.4542999267578125, -3.4542999267578125, -5.852200031280518, -5.852200031280518, -5.852200031280518, -5.852200031280518, -5.852200031280518, -5.852200031280518, -5.852200031280518, -5.852200031280518, -5.852200031280518, -5.852200031280518, -5.852200031280518, -5.852200031280518, -5.852200031280518, -5.852200031280518, -5.852200031280518, -5.852200031280518, -5.852200031280518, -5.852200031280518, -5.852200031280518, -5.852200031280518, -5.852200031280518, -5.852200031280518, -5.852200031280518, -5.852200031280518, -5.852200031280518, -5.852200031280518, -5.852200031280518, -3.3642001152038574, -3.3642001152038574, -3.3642001152038574, -3.3642001152038574, -3.3642001152038574, -3.3642001152038574, -3.3642001152038574, -3.3642001152038574, -3.3642001152038574, -2.7174999713897705, -3.3642001152038574, -3.3642001152038574, -3.3642001152038574, -3.3642001152038574, -2.7174999713897705, -5.7621002197265625, -5.7621002197265625, -5.7621002197265625, -5.7621002197265625, -5.7621002197265625, -5.7621002197265625, -5.7621002197265625, -5.7621002197265625, -5.7621002197265625, -5.7621002197265625, -5.7621002197265625, -5.7621002197265625, -5.7621002197265625, -5.7621002197265625, -5.7621002197265625, -5.7621002197265625, -5.7621002197265625, -5.76200008392334, -5.76200008392334, -5.76200008392334, -5.76200008392334, -5.76200008392334, -5.76200008392334, -5.76200008392334, -5.76200008392334, -5.76200008392334, -5.76200008392334, -5.76200008392334, -5.7621002197265625, -5.7621002197265625, -5.7621002197265625, -5.7621002197265625, -3.2992000579833984, -3.2992000579833984, -3.2992000579833984, -3.2992000579833984, -3.2992000579833984, -3.2992000579833984, -3.2992000579833984, -3.2992000579833984, -3.2992000579833984, -3.2992000579833984, -3.2992000579833984, -3.2992000579833984, -3.2992000579833984, -3.2992000579833984, -3.2992000579833984, -5.6971001625061035, -5.6971001625061035, -5.6971001625061035, -5.6971001625061035, -5.6971001625061035, -5.6971001625061035, -5.6971001625061035, -5.6971001625061035, -5.6971001625061035, -5.6971001625061035, -5.6971001625061035, -5.6971001625061035, -5.6971001625061035, -5.6971001625061035, -5.6971001625061035, -5.6971001625061035, -5.6971001625061035, -5.6971001625061035, -5.6971001625061035, -5.6971001625061035, -5.6971001625061035, -5.6971001625061035, -5.6971001625061035, -5.6971001625061035, -5.6971001625061035, -5.6971001625061035, -5.6971001625061035, -5.6971001625061035, -5.6971001625061035, -5.6971001625061035, -3.155100107192993, -3.155100107192993, -3.155100107192993, -3.155100107192993, -3.155100107192993, -3.155100107192993, -3.155100107192993, -3.155100107192993, -3.155100107192993, -3.155100107192993, -3.155100107192993, -5.552999973297119, -5.552999973297119, -5.552999973297119, -5.552999973297119, -5.552999973297119, -5.552999973297119, -5.552999973297119, -5.552999973297119, -5.552999973297119, -5.552999973297119, -5.552999973297119, -5.552999973297119, -5.552999973297119, -5.552999973297119, -5.552999973297119, -5.552999973297119, -5.552999973297119, -5.552999973297119, -5.552999973297119, -5.552999973297119, -5.552999973297119, -5.552999973297119, -5.552999973297119, -5.552999973297119, -5.552999973297119, -5.552999973297119, -5.552999973297119, -5.552999973297119, -5.552999973297119, -5.552999973297119, -5.552999973297119, -5.552999973297119, -5.552999973297119, -5.552999973297119, -5.552999973297119, -5.552999973297119, -3.115499973297119, -3.115499973297119, -3.115499973297119, -3.115499973297119, -3.115499973297119, -3.115499973297119, -3.115499973297119, -3.115499973297119, -3.115499973297119, -3.115600109100342, -5.513400077819824, -5.513400077819824, -5.513400077819824, -5.513400077819824, -5.513400077819824, -5.513400077819824, -5.513400077819824, -5.513400077819824, -5.513400077819824, -5.513400077819824, -5.513400077819824, -5.513400077819824, -5.513400077819824, -5.513400077819824, -5.513400077819824, -5.513400077819824, -5.513400077819824, -5.513400077819824, -5.513400077819824, -5.513400077819824, -5.513400077819824, -5.513400077819824, -5.513400077819824, -5.513400077819824, -5.513400077819824, -5.513400077819824, -5.513400077819824, -5.513400077819824, -5.513400077819824, -5.513400077819824, -5.513400077819824, -5.513400077819824, -5.513400077819824, -5.513400077819824, -5.513400077819824, -5.513400077819824, -5.513400077819824, -5.513400077819824, -5.513400077819824, -5.513400077819824, -5.513400077819824, -4.997200012207031, -4.997200012207031, -4.997200012207031, -4.997200012207031, -4.997200012207031, -4.997200012207031, -4.997200012207031, -4.997200012207031, -4.997200012207031, -4.997200012207031, -4.997200012207031, -4.997200012207031, -4.997200012207031, -4.997200012207031, -4.997200012207031, -4.997200012207031, -4.997200012207031, -4.997200012207031, -4.997200012207031, -4.997200012207031, -4.997200012207031, -4.997200012207031, -4.997200012207031, -4.997200012207031, -4.997200012207031, -4.997200012207031, -4.997200012207031, -4.997200012207031, -4.997200012207031, -4.997200012207031, -4.997200012207031, -4.997200012207031, -4.997200012207031, -4.997200012207031, -4.997200012207031, -4.997200012207031, -4.997200012207031, -4.997200012207031, -4.997200012207031, -4.997200012207031, -4.997200012207031, -4.997200012207031, -4.997200012207031, -4.997200012207031, -4.997200012207031, -4.997200012207031, -4.997200012207031, -4.997200012207031, -4.997200012207031, -4.997200012207031, -4.997200012207031, -4.997200012207031, -4.997200012207031, -4.997200012207031, -4.997200012207031, -4.997200012207031, -4.997200012207031, -4.997200012207031, -4.997200012207031, -4.997200012207031, -4.997200012207031, -4.997200012207031, -4.997200012207031, -4.997200012207031, -4.997200012207031, -4.997200012207031, -4.997200012207031, -4.997200012207031, -4.997200012207031, -4.997200012207031, -4.997200012207031, -4.997200012207031, -4.997200012207031, -4.997200012207031, -4.997200012207031, -4.997200012207031, -4.997200012207031, -4.997200012207031, -4.997200012207031, -4.997200012207031, -4.997200012207031, -4.997200012207031, -4.997200012207031, -4.997200012207031, -4.997200012207031, -4.997200012207031, -4.997200012207031, -4.997200012207031, -4.997200012207031, -4.997200012207031, -4.997200012207031, -4.997200012207031, -4.997200012207031, -4.997200012207031, -4.997200012207031, -4.997200012207031, -4.997200012207031, -4.997200012207031, -4.997200012207031, -4.997200012207031, -4.997200012207031, -4.997200012207031, -4.997200012207031, -4.997200012207031, -4.997200012207031, -4.997200012207031, -4.997200012207031, -4.997200012207031, -4.997200012207031, -4.997200012207031, -4.997200012207031, -4.997200012207031, -4.997200012207031, -4.997200012207031]}, \"token.table\": {\"Topic\": [1, 6, 1, 1, 2, 3, 2, 2, 7, 2, 5, 1, 1, 3, 4, 2, 4, 3, 3, 2, 2, 1, 7, 4, 1, 2, 3, 5, 4, 3, 4, 5, 2, 1, 7, 1, 3, 6, 3, 3, 4, 4, 3, 4, 2, 1, 2, 5, 6, 7, 7, 2, 1, 2, 5, 4, 2, 7, 4, 5, 1, 6, 7, 1, 4, 3, 1, 1, 2, 1, 2, 2, 5, 3, 6, 1, 4, 1, 1, 4, 6, 2, 1, 2, 1, 2, 3, 6, 1, 3, 4, 2, 3, 1, 1, 1, 4, 7, 1, 2, 7, 1, 2, 4, 6, 1, 1, 4, 2, 7, 6, 5, 1, 3, 5, 4, 5, 3, 3, 6, 3, 1, 2, 1, 5, 1, 3, 1, 1, 3, 2, 3, 4, 5, 2, 5, 2, 1, 5, 3, 6, 1, 3, 3, 7, 1, 4, 6, 1, 1, 6, 6, 6, 1, 1, 5, 3], \"Freq\": [0.8256298899650574, 1.0178419351577759, 0.8256300091743469, 0.8256300687789917, 0.8807910084724426, 0.9078234434127808, 0.8807910084724426, 0.8807557225227356, 1.0655407905578613, 0.8807910084724426, 0.9866320490837097, 0.8256300091743469, 0.8256300091743469, 0.9078235030174255, 0.9496451616287231, 0.8807910084724426, 0.9496451616287231, 0.9078237414360046, 0.9078237414360046, 0.880757212638855, 0.8807618021965027, 0.8256310820579529, 1.0655409097671509, 0.9496451616287231, 0.32971930503845215, 0.32971930503845215, 0.32971930503845215, 0.32971930503845215, 0.9496451616287231, 0.9078235030174255, 0.6825935244560242, 0.9866319298744202, 0.8807910084724426, 0.8256300687789917, 1.0655407905578613, 0.8256298899650574, 0.9078235030174255, 1.0178419351577759, 0.9078234434127808, 0.9078233242034912, 0.9496456980705261, 0.9496451616287231, 0.9078234434127808, 0.9496456980705261, 0.8807910084724426, 0.31355831027030945, 0.31355831027030945, 0.15677915513515472, 0.15677915513515472, 0.15677915513515472, 1.0655407905578613, 0.8807910084724426, 1.027677297592163, 0.4524960517883301, 0.4524960517883301, 0.9496451616287231, 0.8807910084724426, 1.0655409097671509, 0.9496451616287231, 0.9866319298744202, 0.8256300687789917, 1.0178419351577759, 1.0655407905578613, 0.8256300687789917, 0.9496451616287231, 0.9078234434127808, 0.8256300687789917, 0.8256310820579529, 0.880753755569458, 0.8256311416625977, 0.880749523639679, 0.8807917833328247, 0.9866324067115784, 0.9078233242034912, 1.0178419351577759, 0.8256298899650574, 0.9496451616287231, 0.8256298899650574, 0.8256300091743469, 0.9496456980705261, 1.0178420543670654, 0.557281494140625, 0.8256298899650574, 0.8807604908943176, 0.8256300687789917, 0.44114822149276733, 0.44114822149276733, 0.44114822149276733, 0.8256298899650574, 0.4341091513633728, 0.4341091513633728, 0.8807535767555237, 0.9078233242034912, 0.8256300091743469, 0.8256300091743469, 0.8256300091743469, 0.9496451616287231, 1.0655407905578613, 0.5346660614013672, 0.5346660614013672, 1.0655409097671509, 0.8256298899650574, 0.880759060382843, 0.6413429975509644, 0.6413429975509644, 0.8256298899650574, 0.8256298899650574, 0.9496451616287231, 0.6259380578994751, 0.6259380578994751, 1.017842173576355, 0.9866320490837097, 0.7777848839759827, 0.38889244198799133, 0.9866324067115784, 0.9496451616287231, 0.9866319298744202, 0.9078235030174255, 0.9078236222267151, 1.0178420543670654, 0.9078233242034912, 0.8256298899650574, 0.8807910084724426, 0.5719262957572937, 0.5719262957572937, 0.8256311416625977, 0.9078233242034912, 0.8256300687789917, 0.5445246696472168, 0.5445246696472168, 0.34786465764045715, 0.34786465764045715, 0.34786465764045715, 0.34786465764045715, 0.8807911276817322, 0.9866320490837097, 0.8807918429374695, 0.8256300091743469, 0.9866319298744202, 0.44782519340515137, 0.44782519340515137, 0.8256298899650574, 0.5791022181510925, 0.9078234434127808, 1.0655407905578613, 0.8256300091743469, 0.6413429975509644, 0.6413429975509644, 0.8256298899650574, 0.8256301879882812, 1.0178419351577759, 1.0178420543670654, 1.0178419351577759, 0.8256301879882812, 0.5719262957572937, 0.5719262957572937, 0.9078234434127808], \"Term\": [\"accord\", \"acquisition\", \"alert\", \"already\", \"amazon\", \"among\", \"analyst\", \"announce\", \"announcement\", \"apple\", \"attack\", \"aware\", \"become\", \"blame\", \"break\", \"call\", \"candidate\", \"cascade\", \"change\", \"chief\", \"chris\", \"claim\", \"communication\", \"community\", \"company\", \"company\", \"company\", \"company\", \"concern\", \"configuration\", \"continue\", \"criticism\", \"default\", \"department\", \"departure\", \"device\", \"directly\", \"divest\", \"earlier\", \"early\", \"ease\", \"elizabeth\", \"employee\", \"end\", \"faang\", \"facebook\", \"facebook\", \"facebook\", \"facebook\", \"facebook\", \"family\", \"favor\", \"federal\", \"friday\", \"friday\", \"garner\", \"google\", \"hang\", \"headline\", \"incident\", \"include\", \"instagram\", \"integrate\", \"investigation\", \"investor\", \"issue\", \"justice\", \"least\", \"leaving\", \"life\", \"light\", \"long\", \"losses\", \"lowest\", \"major\", \"maker\", \"massachusetts\", \"meanwhile\", \"message\", \"morning\", \"nearly\", \"netflix\", \"night\", \"officer\", \"ongoing\", \"outage\", \"outage\", \"outage\", \"partnership\", \"percent\", \"percent\", \"pivot\", \"point\", \"police\", \"posting\", \"praise\", \"presidential\", \"prioritize\", \"privacy\", \"privacy\", \"private\", \"probe\", \"product\", \"proposal\", \"proposal\", \"prosecutor\", \"publish\", \"raise\", \"recent\", \"recent\", \"reinstate\", \"relate\", \"report\", \"report\", \"rough\", \"senator\", \"separately\", \"series\", \"server\", \"service\", \"share\", \"sharing\", \"sheer\", \"shooter\", \"shooter\", \"shooting\", \"sinking\", \"spokesperson\", \"statement\", \"statement\", \"stock\", \"stock\", \"stock\", \"stock\", \"stocks\", \"stream\", \"suffer\", \"taking\", \"terrorist\", \"thursday\", \"thursday\", \"times\", \"trading\", \"trigger\", \"uncertainty\", \"video\", \"warren\", \"warren\", \"wednesday\", \"weigh\", \"whatsapp\", \"widespread\", \"would\", \"youtube\", \"zealand\", \"zealand\", \"zuckerberg\"]}, \"R\": 30, \"lambda.step\": 0.01, \"plot.opts\": {\"xlab\": \"PC1\", \"ylab\": \"PC2\"}, \"topic.order\": [4, 8, 3, 9, 6, 1, 10, 7, 5, 2]};\n",
       "\n",
       "function LDAvis_load_lib(url, callback){\n",
       "  var s = document.createElement('script');\n",
       "  s.src = url;\n",
       "  s.async = true;\n",
       "  s.onreadystatechange = s.onload = callback;\n",
       "  s.onerror = function(){console.warn(\"failed to load library \" + url);};\n",
       "  document.getElementsByTagName(\"head\")[0].appendChild(s);\n",
       "}\n",
       "\n",
       "if(typeof(LDAvis) !== \"undefined\"){\n",
       "   // already loaded: just create the visualization\n",
       "   !function(LDAvis){\n",
       "       new LDAvis(\"#\" + \"ldavis_el92955624091529610784890\", ldavis_el92955624091529610784890_data);\n",
       "   }(LDAvis);\n",
       "}else if(typeof define === \"function\" && define.amd){\n",
       "   // require.js is available: use it to load d3/LDAvis\n",
       "   require.config({paths: {d3: \"https://cdnjs.cloudflare.com/ajax/libs/d3/3.5.5/d3.min\"}});\n",
       "   require([\"d3\"], function(d3){\n",
       "      window.d3 = d3;\n",
       "      LDAvis_load_lib(\"https://cdn.rawgit.com/bmabey/pyLDAvis/files/ldavis.v1.0.0.js\", function(){\n",
       "        new LDAvis(\"#\" + \"ldavis_el92955624091529610784890\", ldavis_el92955624091529610784890_data);\n",
       "      });\n",
       "    });\n",
       "}else{\n",
       "    // require.js not available: dynamically load d3 & LDAvis\n",
       "    LDAvis_load_lib(\"https://cdnjs.cloudflare.com/ajax/libs/d3/3.5.5/d3.min.js\", function(){\n",
       "         LDAvis_load_lib(\"https://cdn.rawgit.com/bmabey/pyLDAvis/files/ldavis.v1.0.0.js\", function(){\n",
       "                 new LDAvis(\"#\" + \"ldavis_el92955624091529610784890\", ldavis_el92955624091529610784890_data);\n",
       "            })\n",
       "         });\n",
       "}\n",
       "</script>"
      ],
      "text/plain": [
       "<IPython.core.display.HTML object>"
      ]
     },
     "execution_count": 111,
     "metadata": {},
     "output_type": "execute_result"
    }
   ],
   "source": [
    "dictionary = gensim.corpora.Dictionary.load('dictionary.gensim')\n",
    "corpus = pickle.load(open('corpus.pkl', 'rb'))\n",
    "lda = gensim.models.ldamodel.LdaModel.load('model5.gensim')\n",
    "import pyLDAvis.gensim\n",
    "lda_display = pyLDAvis.gensim.prepare(lda, corpus, dictionary, sort_topics=True)\n",
    "pyLDAvis.display(lda_display)"
   ]
  },
  {
   "cell_type": "markdown",
   "metadata": {},
   "source": [
    "### Connect Organizations with Securities"
   ]
  },
  {
   "cell_type": "code",
   "execution_count": null,
   "metadata": {},
   "outputs": [],
   "source": []
  },
  {
   "cell_type": "code",
   "execution_count": null,
   "metadata": {},
   "outputs": [],
   "source": []
  },
  {
   "cell_type": "code",
   "execution_count": null,
   "metadata": {},
   "outputs": [],
   "source": []
  }
 ],
 "metadata": {
  "kernelspec": {
   "display_name": "Python 3",
   "language": "python",
   "name": "python3"
  },
  "language_info": {
   "codemirror_mode": {
    "name": "ipython",
    "version": 3
   },
   "file_extension": ".py",
   "mimetype": "text/x-python",
   "name": "python",
   "nbconvert_exporter": "python",
   "pygments_lexer": "ipython3",
   "version": "3.7.2"
  }
 },
 "nbformat": 4,
 "nbformat_minor": 2
}
