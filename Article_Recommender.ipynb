{
 "cells": [
  {
   "cell_type": "code",
   "execution_count": 2,
   "metadata": {},
   "outputs": [],
   "source": [
    "import os\n",
    "\n",
    "from IPython.display import display, Markdown\n",
    "from pprint import pprint\n",
    "import pandas as pd\n",
    "from fuzzywuzzy import fuzz\n",
    "\n",
    "from src.urls import cbc_urls\n",
    "from src.scraping import extract_cbc_article_info\n",
    "from src.nlp import nlp_analysis"
   ]
  },
  {
   "cell_type": "code",
   "execution_count": 3,
   "metadata": {},
   "outputs": [
    {
     "data": {
      "text/plain": [
       "['https://www.cbc.ca/news/business/starbucks-greener-cup-1.5063861',\n",
       " 'https://www.cbc.ca/news/business/rogers-media-magazines-1.5064054',\n",
       " 'https://www.cbc.ca/news/business/budget-cmhc-home-buyers-1.5063204',\n",
       " 'https://www.cbc.ca/news/business/eu-regulators-fine-google-online-ads-1.5063806',\n",
       " 'https://www.cbc.ca/news/canada/nova-scotia/air-canada-max-8s-grounded-july-1-1.5062354',\n",
       " 'https://www.cbc.ca/news/business/shoppers-drug-mart-superstore-self-checkout-loblaw-1.5056800',\n",
       " 'https://www.cbc.ca/news/business/volkswagen-charged-with-defrauding-investors-1.5058925',\n",
       " 'https://www.cbc.ca/news/technology/facebook-instagram-outage-cause-1.5056807']"
      ]
     },
     "execution_count": 3,
     "metadata": {},
     "output_type": "execute_result"
    }
   ],
   "source": [
    "cbc_urls"
   ]
  },
  {
   "cell_type": "markdown",
   "metadata": {},
   "source": [
    "### Scrape CBC Website for Articles and Perform NLP"
   ]
  },
  {
   "cell_type": "code",
   "execution_count": 4,
   "metadata": {},
   "outputs": [],
   "source": [
    "articles = []\n",
    "for article_id, article_url in enumerate(cbc_urls):\n",
    "    article_text = extract_cbc_article_info(article_url)\n",
    "    article_nlp = nlp_analysis(article_text)\n",
    "\n",
    "    articles.append({\n",
    "        'article_id': article_id,\n",
    "        **article_text, \n",
    "        **article_nlp, \n",
    "    })\n"
   ]
  },
  {
   "cell_type": "code",
   "execution_count": 5,
   "metadata": {},
   "outputs": [
    {
     "name": "stdout",
     "output_type": "stream",
     "text": [
      "[{'article': ' Starbucks\\xa0announced Wednesday\\xa0it will pilot\\xa0new '\n",
      "             'greener to-go cups\\xa0this year in Vancouver that will be both '\n",
      "             'recyclable and compostable.\\xa0 . Vancouver will join New York, '\n",
      "             'San Francisco, Seattle and London to trial different cup options '\n",
      "             'that will be\\xa0chosen from the NextGen Cup Challenge winners '\n",
      "             'that were announced earlier this month. . \"We know how important '\n",
      "             'this issue is to Canadians,\" said Michael Conway, executive vice '\n",
      "             'president and president of Starbucks Canada in a media release. '\n",
      "             '\"We\\'re committed to being a part of the solution.\\xa0I\\'m '\n",
      "             'excited and proud that our customers in Vancouver will be among '\n",
      "             'the first to sip coffee from a greener to-go cup.\" . In addition '\n",
      "             'to the greener cups, the coffee company will roll out new '\n",
      "             'recyclable strawless lids to stores across North America '\n",
      "             'beginning in Toronto. Customers may have already seen strawless '\n",
      "             'lids at select locations but the new lid has been redesigned to '\n",
      "             'be more lightweight.  . This new lid will have nine per cent '\n",
      "             'less plastic than the current lid and straw. Straws will '\n",
      "             'continue to be available to customers upon request.\\xa0 . '\n",
      "             'Progress plans for both initiatives will be revealed at the '\n",
      "             \"company's annual shareholders meeting Wednesday.\\xa0 . Starbucks \"\n",
      "             'initiated the NextGen Consortium managed by Closed Loop Partners '\n",
      "             'last spring to launch the NextGen Cup Challenge\\xa0— a challenge '\n",
      "             'to redesign the paper\\xa0to-go cup to make packaging more '\n",
      "             'environmentally sustainable. . The 12\\xa0\\xa0winners of the '\n",
      "             'challenge were chosen at the end of last month. One of the '\n",
      "             'categories of the competition was to create innovative cup '\n",
      "             'liners so that\\xa0coffee to-go cups can in fact be compostable '\n",
      "             'and recyclable.\\xa0 . \"Directionally they\\'re moving in the '\n",
      "             \"right spot. But it's easy to confuse consumers saying that this \"\n",
      "             'is good enough,\" Calvin Lakhan, a research scientist at York '\n",
      "             'University said. \"There\\'s still a lot more room to grow.\" . '\n",
      "             'Current coffee to-go cups are made with paper but are lined with '\n",
      "             'polyethylene plastic or wax making them\\xa0difficult to recycle '\n",
      "             'in most jurisdictions. . Footprint\\xa0is a sustainable packaging '\n",
      "             'company in the U.S. and one of the 12 winners of the challenge. '\n",
      "             'According to Starbucks\\xa0who announced the winners on their '\n",
      "             'website last month, Footprint\\xa0\"creates cups, lids and straws '\n",
      "             'that are fully-formed fiber based solutions, with an '\n",
      "             'aqueous-based coating that is recyclable and compostable.\"\\xa0 . '\n",
      "             'In addition to Starbucks, Mcdonalds is also one of the lead '\n",
      "             'partners of the consortium including the Coca Cola Company, Yum! '\n",
      "             \"Brands, Nestle and Wendy's as supporting partners.\\xa0The \"\n",
      "             \"challenge is part of the consortium's $10 million commitment to \"\n",
      "             \"advance food packaging design.\\xa0 . Starbucks isn't the first \"\n",
      "             'company to announce changes to their cups in efforts to reduce '\n",
      "             'its ecological footprint. . Tim Hortons announced last year that '\n",
      "             'certain locations have begun piloting environmentally friendly '\n",
      "             'lids that are also designed to prevent leaking. . Lakhan said '\n",
      "             'companies and consumers should be looking at more reusable '\n",
      "             'options. He suggests that instead of consumers buying a new cup '\n",
      "             'every single day, they should bring a reusable cup. . Starbucks '\n",
      "             'Canada currently offers customers a 10-cent discount to any '\n",
      "             'customer who brings a reusable cup or tumbler to a company-owned '\n",
      "             'store. . \"If you can bring in your cups that\\'s ten times better '\n",
      "             'for the environment than buying something that has made a '\n",
      "             'marginal change in its composition,\" Lakhan said.\\xa0\"Reuse '\n",
      "             \"should always be what we're aiming for when it comes to \"\n",
      "             'sustainable coffee.\" .',\n",
      "  'article_id': 0,\n",
      "  'organizations': [('Starbucks', 5),\n",
      "                    ('Starbucks Canada', 2),\n",
      "                    ('the NextGen Consortium', 1),\n",
      "                    ('Closed Loop Partners', 1),\n",
      "                    ('Calvin Lakhan', 1),\n",
      "                    ('York University', 1),\n",
      "                    ('Mcdonalds', 1),\n",
      "                    ('the Coca Cola Company', 1),\n",
      "                    ('Yum!', 1),\n",
      "                    ('Nestle', 1)],\n",
      "  'pagerank_summary': [\"Starbucks isn't the first company to announce changes \"\n",
      "                       'to their cups in efforts to reduce its ecological '\n",
      "                       'footprint.',\n",
      "                       'He suggests that instead of consumers buying a new cup '\n",
      "                       'every single day, they should bring a reusable cup.',\n",
      "                       'Starbucks initiated the NextGen Consortium managed by '\n",
      "                       'Closed Loop Partners last spring to launch the NextGen '\n",
      "                       'Cup Challenge — a challenge to redesign the paper '\n",
      "                       'to-go cup to make packaging more environmentally '\n",
      "                       'sustainable.'],\n",
      "  'people': [('Michael Conway', 1), ('Tim Hortons', 1)],\n",
      "  'reporter': 'Melissa Bennardo',\n",
      "  'summary': 'Cup will launch in Vancouver this year, and lightweight '\n",
      "             'recyclable strawless lid will launch in Toronto',\n",
      "  'title': \"Starbucks pilots greener coffee cup that's recyclable and \"\n",
      "           'compostable\\xa0',\n",
      "  'topics': [(0,\n",
      "              '0.028*\"company\" + 0.020*\"one\" + 0.020*\"-PRON-\" + '\n",
      "              '0.020*\"sustainable\" + 0.011*\"consortium\"'),\n",
      "             (1,\n",
      "              '0.055*\"cup\" + 0.019*\"challenge\" + 0.019*\"make\" + '\n",
      "              '0.015*\"starbucks\" + 0.015*\"togo\"'),\n",
      "             (2,\n",
      "              '0.032*\"lid\" + 0.022*\"customer\" + 0.022*\"new\" + 0.021*\"cup\" + '\n",
      "              '0.017*\"say\"')],\n",
      "  'url': 'https://www.cbc.ca/news/business/starbucks-greener-cup-1.5063861'},\n",
      " {'article': ' Rogers Media has struck a deal with the company that publishes '\n",
      "             \"Toronto Life to sell the company's remaining\\xa0magazine brands \"\n",
      "             'for an undisclosed sum. . In a press release Wednesday, Rogers '\n",
      "             \"and\\xa0St. Joseph Communications say\\xa0Maclean's, the English \"\n",
      "             \"and French versions of Chatelaine,\\xa0Today's Parent,\\xa0HELLO! \"\n",
      "             'Canada, along with digital publications\\xa0FLARE\\xa0and\\xa0'\n",
      "             'Canadian Business, have been sold for an undisclosed sum. . \"All '\n",
      "             'current Rogers Media Publishing employees will be offered '\n",
      "             'employment\\xa0through the deal, which is\\xa0expected to close in '\n",
      "             'April 2019,\" the release said. . After buying the '\n",
      "             'Maclean-Hunter\\xa0media empire in 1994, Rogers Media grew '\n",
      "             'quickly in the magazine world, and soon became the biggest '\n",
      "             'magazine publisher in Canada by far. But\\xa0in recent years '\n",
      "             'Rogers has been slowly reducing its print footprint. In 2016\\xa0'\n",
      "             'when it phased back publication of some titles, and stopped '\n",
      "             'producing others altogether while laying off staff. . The '\n",
      "             'company has reportedly been in negotiations to get out of the '\n",
      "             'magazine business entirely for the past year or so, and last '\n",
      "             'fall they sold off the former print magazine and current digital '\n",
      "             'portal MoneySense\\xa0to fintech company Ratehub\\xa0Inc. . St '\n",
      "             \"Joseph's media calls itself Canada's biggest privately owned \"\n",
      "             'print, media and communications company, and their best known '\n",
      "             'product is likely the magazine Toronto Life. They also own\\xa0'\n",
      "             'FASHION Magazine, Weddingbells, MARIAGE Québec, Ottawa Magazine, '\n",
      "             'Quill &\\xa0Quire and other titles. According to its 2015 Media '\n",
      "             \"Kit, St. Joseph's claims every monthly issue of Toronto Life is \"\n",
      "             'read by 611,000 people. . The company says it plans to develop '\n",
      "             'and grow the magazine brands \"that Canadians have come to know '\n",
      "             'and love.\" . \"Our experience with brands such as\\xa0Toronto '\n",
      "             'Life, and the strategies applied and growth we have seen there, '\n",
      "             'gives us confidence that we can help transform these brands so '\n",
      "             'they may prosper in the quickly changing media landscape,\" '\n",
      "             'CEO\\xa0Tony Gagliano\\xa0said in a release. . Chris Waddell, a\\xa0'\n",
      "             'professor in the school of journalism and communication at '\n",
      "             'Carleton University in Ottawa, says the move could be some long '\n",
      "             'overdue good news for an industry in systemic crisis. . \"What\\'s '\n",
      "             'good about this is that the magazines have been sold to a '\n",
      "             'magazine company\\xa0…\\xa0that has extensive experience producing '\n",
      "             'magazines, which is a good sign for them and gives them a much '\n",
      "             'better chance of survival,\" he said. . \"There will no doubt be '\n",
      "             'changes in the future but generally it gives the magazines '\n",
      "             'probably the best prospects for a continued future that they '\n",
      "             'could hope for,\" Waddell said. .',\n",
      "  'article_id': 1,\n",
      "  'organizations': [('Toronto Life', 4),\n",
      "                    ('Rogers Media', 2),\n",
      "                    ('Rogers', 1),\n",
      "                    ('St. Joseph Communications', 1),\n",
      "                    (\"Maclean's\", 1),\n",
      "                    ('Rogers Media Publishing', 1),\n",
      "                    ('Maclean-Hunter', 1),\n",
      "                    ('MoneySense', 1),\n",
      "                    ('Ratehub Inc.', 1),\n",
      "                    ('FASHION Magazine', 1)],\n",
      "  'pagerank_summary': [\"St Joseph's media calls itself Canada's biggest \"\n",
      "                       'privately owned print, media and communications '\n",
      "                       'company, and their best known product is likely the '\n",
      "                       'magazine Toronto Life.',\n",
      "                       ' Rogers Media has struck a deal with the company that '\n",
      "                       \"publishes Toronto Life to sell the company's remaining \"\n",
      "                       'magazine brands for an undisclosed sum.',\n",
      "                       'The company says it plans to develop and grow the '\n",
      "                       'magazine brands \"that Canadians have come to know and '\n",
      "                       'love.\"'],\n",
      "  'people': [('Rogers', 1),\n",
      "             (\"St Joseph's\", 1),\n",
      "             ('Tony Gagliano', 1),\n",
      "             ('Chris Waddell', 1),\n",
      "             ('Waddell', 1)],\n",
      "  'reporter': 'Pete Evans',\n",
      "  'summary': 'Deal for undisclosed sum is expected to close in April',\n",
      "  'title': \"Rogers Media sells Maclean's, Chatelaine and other magazines to \"\n",
      "           'Toronto Life publisher',\n",
      "  'topics': [(0,\n",
      "              '0.028*\"communication\" + 0.020*\"st\" + 0.020*\"say\" + '\n",
      "              '0.020*\"medium\" + 0.011*\"roger\"'),\n",
      "             (1,\n",
      "              '0.036*\"magazine\" + 0.031*\"company\" + 0.025*\"medium\" + '\n",
      "              '0.019*\"brand\" + 0.019*\"sell\"'),\n",
      "             (2,\n",
      "              '0.052*\"magazine\" + 0.019*\"future\" + 0.019*\"grow\" + '\n",
      "              '0.019*\"title\" + 0.019*\"say\"')],\n",
      "  'url': 'https://www.cbc.ca/news/business/rogers-media-magazines-1.5064054'},\n",
      " {'article': ' The 2019 federal budget includes a tantalizing pitch for '\n",
      "             \"prospective first-time homebuyers — one that could see Canada's \"\n",
      "             'housing agency contribute up to 10 per cent of the purchase '\n",
      "             'price of a home and bring down the mortgage load for borrowers. '\n",
      "             '. The budget offers the program, known as the First Time Home '\n",
      "             'Buyer Incentive, as a way to help with housing affordability. '\n",
      "             'The government is earmarking $1.25 billion over three years for '\n",
      "             'something its\\xa0\"shared equity mortgage.\" . Functionally, it\\'s '\n",
      "             'more like an almost interest-free loan — one where the repayment '\n",
      "             \"plan doesn't require any payback until years in the future. In \"\n",
      "             'order to qualify, an applicant must have a household income of '\n",
      "             'less than $120,000 per year and be able to come up with a '\n",
      "             'five\\xa0per cent down payment — the minimum requirement for an '\n",
      "             'insured mortgage with the Canada Mortgage and Housing '\n",
      "             'Corporation (CMHC). . CMHC is the Crown corporation that '\n",
      "             \"backstops the vast majority of Canada's housing market by \"\n",
      "             'insuring the loans that finance it. This new program will make '\n",
      "             'its role in the market even larger than it already is. . In '\n",
      "             'addition to those stipulations, the program caps out at four '\n",
      "             \"times the applicant's annual income, which means it can only \"\n",
      "             'help homeowners looking to buy properties where the mortgage '\n",
      "             \"value plus the CMHC loan don't exceed $480,000. . But if a \"\n",
      "             'would-be buyer meets the conditions described above, under the '\n",
      "             'program,\\xa0the CMHC would kick in up to 10 per cent of the '\n",
      "             'value of a newly built home, or five\\xa0per cent of the value of '\n",
      "             'a resale. . The CMHC would contribute that much to the home '\n",
      "             'purchase in exchange for a corresponding equity stake in the '\n",
      "             'home. That has the effect of bringing down the size of the '\n",
      "             \"homeowner's mortgage — but comes with a bill to be paid down the \"\n",
      "             \"line. . Precise details of how the program works won't come out \"\n",
      "             'until later in the fall, but today the government provided a '\n",
      "             'rough breakdown of how it might work for a prospective buyer. If '\n",
      "             'a first-time buyer wants to get a home that costs $400,000, '\n",
      "             \"they'd have to come up with a $20,000 down payment, under both \"\n",
      "             \"the new rules and the old ones. . Normally, they'd have to take \"\n",
      "             'out a loan for $380,000 to cover the rest of the purchase price '\n",
      "             \"— but under the new program (if it's a newly constructed home), \"\n",
      "             'CMHC could kick in $40,000 toward the purchase price, in '\n",
      "             'exchange for a 10 per cent stake in the home. . That brings the '\n",
      "             \"buyer's mortgage down to just $340,000 for the home, instead of \"\n",
      "             '$380,000. On a standard mortgage at 3.5 per cent interest, that '\n",
      "             'translates into a monthly mortgage payment more than $200 lower '\n",
      "             \"than it would have been for the 25-year life of the loan. That's \"\n",
      "             'more than $2,700 a year in potential savings. . The catch is '\n",
      "             \"that the homeowner eventually has to pay back the CMHC's stake \"\n",
      "             'in the property — but not\\xa0until they sell (or sooner, but '\n",
      "             'only if they want to). . The budget is far from clear on how '\n",
      "             'much the buyer would owe; is it the same dollar amount the CMHC '\n",
      "             'provided up front, or does the bill go up based on how much the '\n",
      "             'house has appreciated in value? . Government officials say '\n",
      "             'details of the plan will be hashed out in the coming months. '\n",
      "             'Craig Alexander, chief economist with accounting consultancy '\n",
      "             'Deloitte, calls the program a \"clever idea\" and says the '\n",
      "             'benefits should outweigh the downsides. . \"You want to be '\n",
      "             \"mindful that the government doesn't put in policies that end up \"\n",
      "             'bidding up prices,\" he said, adding that, on the whole, the plan '\n",
      "             'could help more Canadians start climbing the housing ladder. . '\n",
      "             'The government is estimating the plan could create about 100,000 '\n",
      "             'new first-time buyers over the next three years. . But not '\n",
      "             \"everyone agrees there's nothing but upside. Craig Wright, chief \"\n",
      "             'economist with the Royal Bank of Canada, calls the program \"a '\n",
      "             'solution looking for a problem.\" . He cites research from the '\n",
      "             'most recent government census in 2016: roughly 67.8 per cent of '\n",
      "             \"Canadians owned their own homes that year. . That's higher than \"\n",
      "             'ownership rates in other countries — including the U.S., where '\n",
      "             'the rate is 63.4 per cent and falling swiftly. Other world '\n",
      "             'capitals such as Paris (33 per cent home ownership rate), Berlin '\n",
      "             '(37 per cent) and London (47 per cent) stand in stark contrast '\n",
      "             'to Canadian cities like Calgary (73 per cent) and Toronto (66 '\n",
      "             'per cent). . Even rent-happy Montreal has an ownership rate of '\n",
      "             \"55 per cent, which is why Wright said he's not convinced Canada \"\n",
      "             'has a home ownership problem. . Which is why he thinks\\xa0the '\n",
      "             'program \"is more about politics than policy.\" . Worse still, he '\n",
      "             \"says if it's done poorly Wright said the program has the \"\n",
      "             'potential to undo some of the sensible market cooling measures '\n",
      "             'Ottawa has implemented in recent years: capping loan terms, '\n",
      "             'setting minimum down payment levels and introducing mortgage '\n",
      "             '\\'stress tests\\' last year. . \"Demand will show up now, while '\n",
      "             'supply will show up later,\" he said. \"And in the near term '\n",
      "             'prices could move higher so ... you may make it less affordable '\n",
      "             'to own a home.\" . Economist David MacDonald,\\xa0with the '\n",
      "             'Canadian Centre for Policy Alternatives, also says the plan '\n",
      "             \"doesn't really do much to help people buy a home more \"\n",
      "             'affordably. . \"Taking out new loans from CMHC or retirement '\n",
      "             'savings doesn\\'t make housing more affordable,\" he said. \"It\\xa0'\n",
      "             'just allows for another source of debt financing that must be '\n",
      "             'repaid.\" . The government says program details will be hashed '\n",
      "             'out later but, for buyers, the repayment terms are the real wild '\n",
      "             'card. Exactly how much\\xa0will they have to repay CMHC? And\\xa0'\n",
      "             'will that sum be affected by changes in the home\\'s value? . \"If '\n",
      "             'your house goes up 20 per cent, does what you pay them go up?\" '\n",
      "             'Wright asks. \"On the flip side, what if it goes down — do you '\n",
      "             'have to make them whole?\" . Wright says he suspects the CMHC '\n",
      "             \"will have a stake both on the upside and the down, but that's \"\n",
      "             'the million-dollar question for home owners that federal '\n",
      "             \"officials weren't answering today. . On top of the CMHC program, \"\n",
      "             'the budget\\xa0pledges\\xa0$100 million per year, for five years, '\n",
      "             'to help fund non-profit groups that are already offering this '\n",
      "             'type of shared equity mortgage product. . That could include '\n",
      "             'Toronto-based\\xa0non-profit developer Options For Homes, which '\n",
      "             'is working on more than 600\\xa0units in the Greater Toronto '\n",
      "             'Area\\xa0on a similar funding model.\\xa0The company works with '\n",
      "             'would-be buyers to fill the gap in the purchase price by kicking '\n",
      "             'in up to 15 per cent,\\xa0for a stake in the equity, CEO Heather '\n",
      "             \"Tremain said in an interview. . It's not free money. Any \"\n",
      "             'prospective buyer has to get approved for a mortgage just as '\n",
      "             'they normally would, and has to come up with the minimum down '\n",
      "             'payment level that the CMHC requires. And of course, buyers pay '\n",
      "             'back what they owe, plus a corresponding share in any gains, '\n",
      "             'down the line. . But Tremain\\xa0says shared equity mortgages are '\n",
      "             'a winning formula that can work for all sides without driving up '\n",
      "             'prices or increasing risk. . \"It\\'s a new idea for a lot of '\n",
      "             'people today ... but we\\'ve been doing it for 25 years,\" she '\n",
      "             'said, adding that the company has funded 3,000 units over the '\n",
      "             'years and only experiencing five\\xa0defaults in that time. \"Any '\n",
      "             'bank would love that stat,\" she said. . The new mortgage '\n",
      "             \"money\\xa0wasn't the only housing-related announcement in the \"\n",
      "             'budget. . The government also is increasing the amount that a '\n",
      "             'first-time buyer can withdraw from an RRSP, without penalty — '\n",
      "             '$35,000, up from the current level of $25,000 where it has been '\n",
      "             'for the last decade. And Ottawa also will amend the RRSP '\n",
      "             'withdrawal rules to help people who have been through family '\n",
      "             'crises. . Starting this year, Canadians who have seen their '\n",
      "             'marriages or common law partnerships break down will be able to '\n",
      "             \"participate in the Home Buyer's Plan, even if they don't meet \"\n",
      "             \"the technical requirement of being a first-time buyer. . There's \"\n",
      "             'something in the budget for renters, too. . The government says '\n",
      "             'it will expand a program it launched in 2017 to fund '\n",
      "             'construction of rental units with low-cost loans. Last year, it '\n",
      "             'beefed up the Rental Construction Financing Initiative to add '\n",
      "             \"14,000 more units to the program, and this year's budget will \"\n",
      "             'add nine years of funding to the program. . For an added\\xa0cost '\n",
      "             'of $10 billion on the existing program, the government says '\n",
      "             \"42,500 new rental units will be added to Canada's housing stock \"\n",
      "             'by 2028. . And the government also is cracking down on what it '\n",
      "             'calls financial crime in the housing sector. . Recent increases '\n",
      "             'to the budgets of tax and other regulatory agencies have '\n",
      "             'uncovered $100 million worth of addition taxes assessed due to '\n",
      "             'increasingly complicated home sales\\xa0— something that has '\n",
      "             'convinced the government to keep digging for more. . Ottawa will '\n",
      "             'give the Canada Revenue Agency another $50 million over five '\n",
      "             'years to root out tax avoidance in matters such as: . The '\n",
      "             'government says those crackdowns are expected to pay for '\n",
      "             'themselves and then some, bringing in $68 million worth of '\n",
      "             'revenue over the next half decade. .',\n",
      "  'article_id': 2,\n",
      "  'organizations': [('CMHC', 13),\n",
      "                    ('RRSP', 2),\n",
      "                    ('the First Time Home Buyer Incentive', 1),\n",
      "                    ('the Canada Mortgage and Housing Corporation', 1),\n",
      "                    ('Crown', 1),\n",
      "                    ('Deloitte', 1),\n",
      "                    ('the Royal Bank of Canada', 1),\n",
      "                    ('the Canadian Centre for Policy Alternatives', 1),\n",
      "                    ('Options For Homes', 1),\n",
      "                    (\"the Home Buyer's Plan\", 1)],\n",
      "  'pagerank_summary': [\"Worse still, he says if it's done poorly Wright said \"\n",
      "                       'the program has the potential to undo some of the '\n",
      "                       'sensible market cooling measures Ottawa has '\n",
      "                       'implemented in recent years: capping loan terms, '\n",
      "                       'setting minimum down payment levels and introducing '\n",
      "                       \"mortgage 'stress tests' last year.\",\n",
      "                       'The budget is far from clear on how much the buyer '\n",
      "                       'would owe; is it the same dollar amount the CMHC '\n",
      "                       'provided up front, or does the bill go up based on how '\n",
      "                       'much the house has appreciated in value?',\n",
      "                       'In addition to those stipulations, the program caps '\n",
      "                       \"out at four times the applicant's annual income, which \"\n",
      "                       'means it can only help homeowners looking to buy '\n",
      "                       'properties where the mortgage value plus the CMHC loan '\n",
      "                       \"don't exceed $480,000.\"],\n",
      "  'people': [('Wright', 4),\n",
      "             ('Craig Alexander', 1),\n",
      "             ('Craig Wright', 1),\n",
      "             ('David MacDonald', 1),\n",
      "             ('Heather Tremain', 1),\n",
      "             ('Tremain', 1)],\n",
      "  'reporter': 'Pete Evans',\n",
      "  'summary': 'The government is earmarking $1.25B over 3 years for something '\n",
      "             \"it's calling a 'shared equity mortgage'\",\n",
      "  'title': 'Buying a home? CMHC could soon kick in 10% of the cost — for a '\n",
      "           'price',\n",
      "  'topics': [(0,\n",
      "              '0.014*\"year\" + 0.010*\"purchase\" + 0.010*\"price\" + 0.010*\"level\" '\n",
      "              '+ 0.010*\"firsttime\"'),\n",
      "             (1,\n",
      "              '0.018*\"government\" + 0.016*\"say\" + 0.013*\"pay\" + 0.011*\"come\" + '\n",
      "              '0.011*\"not\"'),\n",
      "             (2,\n",
      "              '0.026*\"per\" + 0.023*\"cent\" + 0.023*\"home\" + 0.020*\"year\" + '\n",
      "              '0.017*\"program\"')],\n",
      "  'url': 'https://www.cbc.ca/news/business/budget-cmhc-home-buyers-1.5063204'},\n",
      " {'article': ' European Union regulators hit Google with a $1.68-billion US\\xa0'\n",
      "             'fine on Wednesday for abusing its dominant role in online '\n",
      "             \"advertising. . It's the third time the commission has slapped \"\n",
      "             'Google with an antitrust penalty, following multibillion-dollar '\n",
      "             'fines resulting from separate probes into two other parts of the '\n",
      "             \"Silicon Valley giant's business. . The EU's competition \"\n",
      "             'commissioner, Margrethe Vestager, announced the results of the '\n",
      "             \"long-running probe of Google's AdSense advertising business at a \"\n",
      "             'news conference in Brussels on Wednesday. . \"Today\\'s decision '\n",
      "             'is about how Google abused its dominance to stop websites using '\n",
      "             'brokers other than the AdSense platform,\" Vestager said. . The '\n",
      "             'commission found Google and its parent company, Alphabet, '\n",
      "             'breached EU antitrust rules by imposing restrictive clauses in '\n",
      "             'contracts with websites that used AdSense, preventing Google '\n",
      "             'rivals from placing their ads on these sites. . Google '\n",
      "             '\"prevented its rivals from having a chance to innovate and to '\n",
      "             'compete in the market on their merits,\" Vestager said. '\n",
      "             '\"Advertisers and website owners, they had less choice and likely '\n",
      "             'faced higher prices that would be passed on to consumers.\" . '\n",
      "             'AdSense is an older Google product that lets web publishers such '\n",
      "             'as bloggers place text ads on their websites, with the content '\n",
      "             'of the ads based on results from search functions on their '\n",
      "             'sites. . Microsoft filed an EU antitrust complaint about the '\n",
      "             'service in 2009 and the EU Commission formally launched its '\n",
      "             'probe in 2016, although it said at the time that Google had '\n",
      "             'already made some changes to allow affected customers more '\n",
      "             'freedom to show competing ads. . Last year, Vestager hit the '\n",
      "             'company with a record $5-billion\\xa0fine following an '\n",
      "             'investigation into its Android operating system. In 2017, she '\n",
      "             'fined Google\\xa0$2.75 billion in a case involving its online '\n",
      "             'shopping search results. .',\n",
      "  'article_id': 3,\n",
      "  'organizations': [('Google', 10),\n",
      "                    ('EU', 3),\n",
      "                    ('European Union', 1),\n",
      "                    ('Alphabet', 1),\n",
      "                    ('Microsoft', 1),\n",
      "                    ('the EU Commission', 1),\n",
      "                    ('Android', 1)],\n",
      "  'pagerank_summary': ['Microsoft filed an EU antitrust complaint about the '\n",
      "                       'service in 2009 and the EU Commission formally '\n",
      "                       'launched its probe in 2016, although it said at the '\n",
      "                       'time that Google had already made some changes to '\n",
      "                       'allow affected customers more freedom to show '\n",
      "                       'competing ads.',\n",
      "                       '\"Today\\'s decision is about how Google abused its '\n",
      "                       'dominance to stop websites using brokers other than '\n",
      "                       'the AdSense platform,\" Vestager said.',\n",
      "                       'The commission found Google and its parent company, '\n",
      "                       'Alphabet, breached EU antitrust rules by imposing '\n",
      "                       'restrictive clauses in contracts with websites that '\n",
      "                       'used AdSense, preventing Google rivals from placing '\n",
      "                       'their ads on these sites.'],\n",
      "  'people': [('Vestager', 2), ('Margrethe Vestager', 1)],\n",
      "  'reporter': 'The Associated Press',\n",
      "  'summary': 'Google previously hit with other multibillion-dollar fines from '\n",
      "             'competition commission',\n",
      "  'title': 'EU regulators fine Google $1.68B US for abusing online ads market',\n",
      "  'topics': [(0,\n",
      "              '0.038*\"google\" + 0.029*\"ad\" + 0.020*\"eu\" + 0.020*\"result\" + '\n",
      "              '0.020*\"online\"'),\n",
      "             (1,\n",
      "              '0.045*\"google\" + 0.028*\"website\" + 0.020*\"adsense\" + '\n",
      "              '0.020*\"commission\" + 0.020*\"antitrust\"'),\n",
      "             (2,\n",
      "              '0.032*\"vestager\" + 0.019*\"fine\" + 0.018*\"result\" + '\n",
      "              '0.018*\"wednesday\" + 0.018*\"probe\"')],\n",
      "  'url': 'https://www.cbc.ca/news/business/eu-regulators-fine-google-online-ads-1.5063806'},\n",
      " {'article': ' Air Canada has grounded its Boeing 737 Max 8 jets until at '\n",
      "             'least July 1. . The airline says the move is intended to provide '\n",
      "             'customers with certainty as they book flights and travel in the '\n",
      "             'coming months. . Some routes are being suspended entirely, '\n",
      "             \"including some flights out of St. John's, Halifax, Calgary and \"\n",
      "             'Vancouver, as the airline substitutes other aircraft on routes '\n",
      "             'that normally use Max 8s. . The changes come on the heels of '\n",
      "             \"Transport Canada's decision to close Canadian airspace to the \"\n",
      "             'aircraft after a Max 8 jet operated by Ethiopian Airlines '\n",
      "             'crashed on March 10, killing all 157 people on board, including '\n",
      "             '18 Canadians. Previously, a Max 8 plane crashed off Indonesia in '\n",
      "             'October, killing 189 people. . Air Canada announced Tuesday it '\n",
      "             'has adjusted its schedule through to April 30 and is working on '\n",
      "             'updating its May schedules to accommodate affected customers. . '\n",
      "             'Some routes have been suspended until further notice, including '\n",
      "             \"flights from Halifax and St. John's to London's Heathrow airport \"\n",
      "             'and seasonal flights from Vancouver to Kona, Hawaii, and Lihue, '\n",
      "             'Hawaii,\\xa0as well as Calgary to Palm Springs, Calif. Customers '\n",
      "             'booked to fly on those routes will now be scheduled to fly '\n",
      "             'through other hubs. . Air Canada has been substituting other '\n",
      "             'planes for its Max 8s, including extending leases for some '\n",
      "             'aircraft it had planned to stop using. The company is also '\n",
      "             'speeding up acquisition of new planes and has hired other '\n",
      "             'carriers such as Air Transat\\xa0to operate some flights between '\n",
      "             'Vancouver and Montreal and from Montreal to Cancun, Mexico. . '\n",
      "             'The grounding of the Max 8 jets has also meant some route '\n",
      "             'frequencies have been reduced, as larger aircraft are called in '\n",
      "             'to replace smaller planes. . Air Canada has suspended its '\n",
      "             'acquisition of six new Max airplanes, which it had expected to '\n",
      "             'receive in March and April. . The airline says customers whose '\n",
      "             'flight times or numbers have changed will receive an email\\xa0'\n",
      "             'with an updated itinerary. The company has also implemented a '\n",
      "             'flexible rebooking policy that offers fee waivers or refunds for '\n",
      "             'affected customers. . Ann de Ste Croix\\xa0of Dartmouth, N.S., '\n",
      "             'said her April 29 direct flight from Halifax to London was '\n",
      "             'originally scheduled to be on a Max 8. . A nervous flyer, de Ste '\n",
      "             'Croix called Air Canada as soon as she heard the concerns about '\n",
      "             \"the aircraft. Originally, she was told she'd have to pay a fee \"\n",
      "             'to change her flight, but after the planes were grounded, she '\n",
      "             'was offered the change for free, though her flight will now '\n",
      "             'include a stopover in Toronto. . She said Air Canada has not '\n",
      "             'been forthcoming with information or available options. . \"It\\'s '\n",
      "             'on me to get in contact with them,\" de Ste Croix said.\\xa0\"So if '\n",
      "             \"I hadn't been looking into my flights and paying attention to \"\n",
      "             \"what was going on in the news, I wouldn't have known. They \"\n",
      "             'didn\\'t notify us in any way.\" . WestJet said that as of March '\n",
      "             '25, its flight schedules will reflect the removal of Max 8 '\n",
      "             'aircraft from its fleet through to the end of April. . The '\n",
      "             'airline has seasonal flights from Halifax to London and Paris '\n",
      "             'that are scheduled to begin in late April. A WestJet '\n",
      "             'spokesperson said the company currently has no scheduled changes '\n",
      "             'to its transatlantic flights. . So far, WestJet has accommodated '\n",
      "             'the groundings by replacing Max planes with its other aircraft. '\n",
      "             '. On Tuesday, Transport Canada said it would send a team to '\n",
      "             'assist the U.S. Federal Aviation\\xa0Administration in evaluating '\n",
      "             'proposed design changes to update\\xa0the software on the '\n",
      "             'grounded\\xa0Max\\xa0jets. . The software has been suspected as a '\n",
      "             'contributing factor in the crashes in both Ethiopia and '\n",
      "             'Indonesia. . The team would also help determine if any \"changes '\n",
      "             'to the\\xa0design or procedures are necessary,\" a spokeswoman for '\n",
      "             'Transport Canada said by email. . Transport Minister Marc '\n",
      "             'Garneau said on Monday the\\xa0agency is re-examining the '\n",
      "             'validation it gave the 737 Max\\xa08 following reports of a U.S. '\n",
      "             \"probe into the aircraft's certification by the FAA. . Canada \"\n",
      "             \"accepted the FAA's March 2017 certification of the\\xa0Max\\xa0\"\n",
      "             'under a deal where such approvals by the U.S. are\\xa0accepted by '\n",
      "             'Canada and vice versa. . \"We may not change anything, but we\\'ve '\n",
      "             \"decided it's a good\\xa0idea for us to review the validation of \"\n",
      "             'the type certificate\\xa0that was given for the Max\\xa08,\"\\xa0'\n",
      "             'Garneau said. . Garneau added that Transport Canada would do its '\n",
      "             'own\\xa0certification of a software change being prepared by '\n",
      "             'Boeing\\xa0within the next few weeks \"even if it\\'s certified by '\n",
      "             'the FAA.\" . The FAA declined to comment. . MORE TOP STORIES .',\n",
      "  'article_id': 4,\n",
      "  'organizations': [('Air Canada', 6),\n",
      "                    ('FAA', 4),\n",
      "                    ('WestJet', 3),\n",
      "                    ('Transport Canada', 3),\n",
      "                    ('Boeing', 2),\n",
      "                    (\"Transport Canada's\", 1),\n",
      "                    ('Ethiopian Airlines', 1),\n",
      "                    ('Calif. Customers', 1),\n",
      "                    ('Air Transat', 1),\n",
      "                    ('Ann de Ste Croix', 1)],\n",
      "  'pagerank_summary': ['On Tuesday, Transport Canada said it would send a team '\n",
      "                       'to assist the U.S. Federal Aviation Administration in '\n",
      "                       'evaluating proposed design changes to update the '\n",
      "                       'software on the grounded Max jets.',\n",
      "                       \"Originally, she was told she'd have to pay a fee to \"\n",
      "                       'change her flight, but after the planes were grounded, '\n",
      "                       'she was offered the change for free, though her flight '\n",
      "                       'will now include a stopover in Toronto.',\n",
      "                       \"The changes come on the heels of Transport Canada's \"\n",
      "                       'decision to close Canadian airspace to the aircraft '\n",
      "                       'after a Max 8 jet operated by Ethiopian Airlines '\n",
      "                       'crashed on March 10, killing all 157 people on board, '\n",
      "                       'including 18 Canadians.'],\n",
      "  'people': [('Max', 7),\n",
      "             ('Max 8s', 2),\n",
      "             ('Garneau', 2),\n",
      "             ('Max 8 aircraft', 1),\n",
      "             ('Marc Garneau', 1)],\n",
      "  'reporter': 'CBC News',\n",
      "  'summary': \"Some routes out of St. John's, Halifax, Calgary, Vancouver have \"\n",
      "             'been suspended',\n",
      "  'title': 'Air Canada grounds Boeing Max 8s until at least July 1',\n",
      "  'topics': [(0,\n",
      "              '0.032*\"max\" + 0.027*\"8\" + 0.024*\"aircraft\" + 0.017*\"plane\" + '\n",
      "              '0.017*\"include\"'),\n",
      "             (1,\n",
      "              '0.025*\"-PRON-\" + 0.025*\"say\" + 0.019*\"customer\" + 0.019*\"max\" + '\n",
      "              '0.019*\"airline\"'),\n",
      "             (2,\n",
      "              '0.028*\"flight\" + 0.028*\"canada\" + 0.021*\"change\" + 0.021*\"air\" '\n",
      "              '+ 0.018*\"schedule\"')],\n",
      "  'url': 'https://www.cbc.ca/news/canada/nova-scotia/air-canada-max-8s-grounded-july-1-1.5062354'},\n",
      " {'article': ' Marvin Kaye said he was taken aback when, last weekend, he was '\n",
      "             \"told he'd have to use self-checkout\\xa0at a Shoppers Drug Mart \"\n",
      "             'in Ajax, Ont.  . \"Everybody is being funnelled, herded through '\n",
      "             'this self-checkout.\" . After protesting, Kaye said he was told '\n",
      "             'he could go to a cashier — if he paid cash. He had none, so that '\n",
      "             'option was out.  . \"I find it distasteful that I can\\'t even get '\n",
      "             'that basic level of customer service,\" said Kaye, who grudgingly '\n",
      "             'used the self-checkout machine to pay for his purchase.\\xa0 . '\n",
      "             '\"If I wasn\\'t with my daughter, I might have just dropped my '\n",
      "             'stuff on the floor and walked out.\" . Many large retailers are '\n",
      "             \"adding self-checkout machines to stores, claiming they're \"\n",
      "             'offering more choice. But several Shoppers Drug Mart and Real '\n",
      "             'Canadian Superstore customers complained to CBC News that they '\n",
      "             'were recently given only one choice: self-checkout. . well, it '\n",
      "             \"wasn't tonight. I asked for the regular cash and was told unless \"\n",
      "             'I was paying cash I had to use the self check-out. If what you '\n",
      "             'stated is your policy, the employees at the Shoppers I was at '\n",
      "             'need a policy review. . Each Shoppers Drug Mart customer relayed '\n",
      "             'the same experience: because they were paying with debit or '\n",
      "             'credit, they were ordered to use the self-checkout machine — '\n",
      "             'which accepts cards but not cash. . \"They\\'re forcing me to use '\n",
      "             'it and I don\\'t think that\\'s fair,\" said Linda Chaikowski,\\xa0'\n",
      "             'who was directed to self-checkout last week at a Shoppers in '\n",
      "             'Winnipeg. . \"I use a cane to walk with. To use this machine, I '\n",
      "             'have to put my cane down, I have to find a place to put my '\n",
      "             'purse, I have to pack the stuff.\\xa0It\\'s just too much.\" . '\n",
      "             'Nancy McCurdy said she was also forced to use the machines this '\n",
      "             'week at a Shoppers in London, Ont.  . \"I hate these new blasted '\n",
      "             \"self-checkouts, because they talk to you and I can't figure out \"\n",
      "             'what they\\'re saying,\" said McCurdy, who is hard of hearing.\\xa0 '\n",
      "             '. Marvin\\xa0Kaye, the Shoppers customer in Ajax, Ont.,\\xa0'\n",
      "             'suspects the retailer is pushing self-checkout as a way to save '\n",
      "             'on labour costs\\xa0— a saving\\xa0he suggests should be passed on '\n",
      "             'to customers. . \"If I\\'m going to go through, pay me for the 10 '\n",
      "             'minutes that I have to stand there and figure out which button '\n",
      "             'to push.\" . Loblaw Co., which owns Real Canadian Superstore and '\n",
      "             'Shoppers Drug Mart,\\xa0said it expects stores to always give '\n",
      "             'customers the option of checking out with a cashier.  . \"We\\'ve '\n",
      "             'now heard from a few customers that some [Shoppers] stores are '\n",
      "             'encouraging those using credit or debit to use self-checkout,\" '\n",
      "             'said spokesperson\\xa0Catherine Thomas in an email.  . \"It is not '\n",
      "             'our intention that customers feel they do not have a choice, and '\n",
      "             'we have reminded all stores of this expectation.\" . Customers '\n",
      "             'have also complained they were not offered a cashier option at '\n",
      "             'grocer, Superstore.\\xa0 . Kerri-Lynn Parker said that around 10 '\n",
      "             'p.m. last Sunday, there were no cashiers open at her Superstore '\n",
      "             'in Edmonton, so she was told to use a machine.  . \"[An employee] '\n",
      "             \"said, 'We will help you.' And I said, 'Nope,' and I dropped my \"\n",
      "             'basket and I walked out,\" said Parker.  . \"The more people '\n",
      "             \"accept it, the more it's going to happen. It's a slippery \"\n",
      "             'slope.\" . Jared Gossen said he also discovered no cashiers on '\n",
      "             'staff\\xa0early Friday morning, both this week and last,\\xa0at '\n",
      "             'the Superstore in Grande Prairie, Alta. On both occasions, '\n",
      "             'Gossen had a cartful of food for a weekly breakfast program he '\n",
      "             'runs at the St. Lawrence Centre drop-in shelter. . He said he '\n",
      "             'got help scanning his items at self-checkout, but was upset to '\n",
      "             'learn from an employee that the store would have no cashiers\\xa0'\n",
      "             'from 7\\xa0to 9 a.m. every day. . \"So, virtually now, I work for '\n",
      "             'Loblaws for free,\" said Gossen. . \"It\\'s this disturbing trend '\n",
      "             'of large corporations passing on labour to their customers.\" . '\n",
      "             'Loblaw said there should always be a cash lane open for '\n",
      "             'Superstore customers.  . \"We are sorry to hear about these '\n",
      "             'stories and have reached out to stores to clarify our '\n",
      "             'expectations,\" said spokesperson Catherine\\xa0Thomas.  . \"As a '\n",
      "             'customer-centric company, our goal is to make shopping more '\n",
      "             'convenient, not to mandate how customers check out their '\n",
      "             'purchases.\" . Shoppers and Superstore aren\\'t the first stores '\n",
      "             'to face accusations of mandatory self-checkout. In November, CBC '\n",
      "             'News interviewed two Walmart customers who complained that no '\n",
      "             'cashier lanes were open at their local store during\\xa0certain '\n",
      "             'hours. . Walmart Canada said\\xa0its goal is to have a cashier '\n",
      "             'available at all times.  . Toronto retail consultant\\xa0Bruce '\n",
      "             'Winder said retailers often experiment with different ways to '\n",
      "             'cut costs. But he believes mandatory self-checkout is one '\n",
      "             \"experiment that won't stick\\xa0because,\\xa0while some people \"\n",
      "             'love using the machines, other customers detest them.  . \"It\\'s '\n",
      "             'probably a little trial balloon to see if they can get away with '\n",
      "             'it,\" says Winder, co-founder of\\xa0the Retail Advisors Network. '\n",
      "             '\"But I\\'m certain that customers will revolt, and they\\'ll have '\n",
      "             'to reverse it.\" . The two Walmart customers said\\xa0their store '\n",
      "             'now appears to have backtracked on not providing\\xa0cashiers at '\n",
      "             'certain hours.  . And Linda Chaikowski, the Shoppers customer in '\n",
      "             'Winnipeg,\\xa0has reported that during her most recent visit this '\n",
      "             'week to the same store, she was allowed to pay at the cashier '\n",
      "             'using her debit card.  . \"I\\'m glad they\\'re changing it and '\n",
      "             'realizing that there\\'s an issue,\" she said. .',\n",
      "  'article_id': 5,\n",
      "  'organizations': [('Superstore', 5),\n",
      "                    ('Shoppers Drug Mart', 3),\n",
      "                    ('Real Canadian Superstore', 2),\n",
      "                    ('CBC News', 2),\n",
      "                    ('Walmart', 2),\n",
      "                    ('Loblaw Co.', 1),\n",
      "                    ('Loblaws', 1),\n",
      "                    ('Walmart Canada', 1),\n",
      "                    ('Winder', 1),\n",
      "                    ('the Retail Advisors Network', 1)],\n",
      "  'pagerank_summary': ['\"They\\'re forcing me to use it and I don\\'t think '\n",
      "                       'that\\'s fair,\" said Linda Chaikowski, who was directed '\n",
      "                       'to self-checkout last week at a Shoppers in Winnipeg.',\n",
      "                       '\"I find it distasteful that I can\\'t even get that '\n",
      "                       'basic level of customer service,\" said Kaye, who '\n",
      "                       'grudgingly used the self-checkout machine to pay for '\n",
      "                       'his purchase.',\n",
      "                       'The two Walmart customers said their store now appears '\n",
      "                       'to have backtracked on not providing cashiers at '\n",
      "                       'certain hours.'],\n",
      "  'people': [('Marvin Kaye', 2),\n",
      "             ('Kaye', 2),\n",
      "             ('Linda Chaikowski', 2),\n",
      "             ('Catherine Thomas', 2),\n",
      "             ('Gossen', 2),\n",
      "             ('Nancy McCurdy', 1),\n",
      "             ('McCurdy', 1),\n",
      "             ('Kerri-Lynn Parker', 1),\n",
      "             ('Parker', 1),\n",
      "             ('Jared Gossen', 1)],\n",
      "  'reporter': 'Sophia Harris',\n",
      "  'summary': 'Owner Loblaw says it expects its stores to always provide '\n",
      "             'cashier option',\n",
      "  'title': 'Superstore, Shoppers Drug Mart customers say they were forced to '\n",
      "           'use self-checkout',\n",
      "  'topics': [(0,\n",
      "              '0.033*\"customer\" + 0.019*\"not\" + 0.019*\"selfcheckout\" + '\n",
      "              '0.015*\"machine\" + 0.015*\"use\"'),\n",
      "             (1,\n",
      "              '0.048*\"say\" + 0.027*\"cashier\" + 0.027*\"superstore\" + '\n",
      "              '0.023*\"store\" + 0.020*\"customer\"'),\n",
      "             (2,\n",
      "              '0.035*\"say\" + 0.031*\"-PRON-\" + 0.031*\"use\" + 0.024*\"shopper\" + '\n",
      "              '0.021*\"be\"')],\n",
      "  'url': 'https://www.cbc.ca/news/business/shoppers-drug-mart-superstore-self-checkout-loblaw-1.5056800'},\n",
      " {'article': ' U.S. regulators charged Volkswagen and former CEO Martin '\n",
      "             'Winterkorn with defrauding investors during its massive diesel '\n",
      "             'emissions scandal. . The charges from the U.S. Securities and '\n",
      "             'Exchange Commission come two years after the German automaker '\n",
      "             'settled with the U.S. over criminal and civil charges, as the '\n",
      "             'company tries to distance itself from one if its darkest eras. . '\n",
      "             'The SEC said that between April 2014 and May 2015, Volkswagen '\n",
      "             'issued more than $13 billion US in bonds and asset-backed '\n",
      "             'securities in U.S. markets when senior executives knew that more '\n",
      "             'than 500,000 vehicles in the country grossly exceeded legal '\n",
      "             'vehicle emissions limits. . Volkswagen made false and misleading '\n",
      "             'statements to investors and underwriters about vehicle quality, '\n",
      "             \"environmental compliance, and the company's financial standing, \"\n",
      "             'which gave Volkswagen a financial benefit when it issued '\n",
      "             'securities at more attractive rates for the company, according '\n",
      "             'to the SEC. . \"Volkswagen hid its decade-long emissions scheme '\n",
      "             'while it was selling billions of dollars of its bonds to '\n",
      "             'investors at inflated prices,\" said Stephanie Avakian, '\n",
      "             \"co-director of the SEC's enforcement division. . In September \"\n",
      "             '2015 Volkswagen installed software on more than 475,000 cars '\n",
      "             'that enabled them to cheat on emissions tests, according to the '\n",
      "             'Environmental Protection Agency. The software reduced nitrogen '\n",
      "             'oxide emissions when the cars were placed on a test machine but '\n",
      "             'allowed higher emissions and improved engine performance during '\n",
      "             'normal driving. . In 2016 the Justice Department sued Volkswagen '\n",
      "             'over the emissions-cheating software and the Federal Trade '\n",
      "             'Commission sued the company, saying it made false claims in '\n",
      "             'commercials promoting its \"Clean Diesel\" vehicles as '\n",
      "             'environmentally friendly. . Winterkorn resigned saying he took '\n",
      "             'responsibility for the fraud, but insisted he personally did '\n",
      "             'nothing wrong. . Volkswagen said Friday that the SEC is simply '\n",
      "             'repeating unproven claims about Winterkorn. . \"Regrettably, more '\n",
      "             'than two years after Volkswagen entered into landmark, '\n",
      "             'multibillion-dollar settlements in the United States with the '\n",
      "             'Department of Justice, almost every state and nearly 600,000 '\n",
      "             'consumers, the SEC is now piling on to try to extract more from '\n",
      "             'the company,\" the company said in a prepared release. . The '\n",
      "             'company has paid some $20 billion in fines and civil '\n",
      "             'settlements. It has also pleaded guilty to criminal charges in '\n",
      "             'the United States and several managers, including Winterkorn, '\n",
      "             'were charged there. . The surprise charges from the SEC arrive '\n",
      "             'as the German company attempts to distance itself from the '\n",
      "             'scandal. On Tuesday the automaker said that it planned to ramp '\n",
      "             'up production of electric vehicles over the next ten years, to '\n",
      "             '22 million, and reduce its carbon footprint over vehicle life '\n",
      "             \"cycles by 30 per cent. . Volkswagen's pivot to electric vehicles \"\n",
      "             'comes as it seeks to comply with new limits on carbon dioxide '\n",
      "             'emissions in Europe, and a push by China for more low-emission '\n",
      "             \"vehicles. . The SEC's complaint, filed in the U.S. District \"\n",
      "             'Court for the Northern District of California, charges '\n",
      "             'Volkswagen AG, its subsidiaries Volkswagen Group of America '\n",
      "             'Finance, LLC and VW Credit, Inc., and Winterkorn with violating '\n",
      "             'the anti-fraud provisions of the federal securities laws. . The '\n",
      "             'SEC seeks permanent injunctions, disgorgement of ill-gotten '\n",
      "             'gains with prejudgment interest and civil penalties. It also '\n",
      "             'wants to bar Winterkorn from holding any corporate officer or '\n",
      "             'director positions. .',\n",
      "  'article_id': 6,\n",
      "  'organizations': [('Volkswagen', 10),\n",
      "                    ('SEC', 8),\n",
      "                    ('Winterkorn', 5),\n",
      "                    ('the U.S. Securities and Exchange Commission', 1),\n",
      "                    ('the Environmental Protection Agency', 1),\n",
      "                    ('the Justice Department', 1),\n",
      "                    ('the Federal Trade Commission', 1),\n",
      "                    ('the Department of Justice', 1),\n",
      "                    ('District Court', 1),\n",
      "                    ('Volkswagen AG', 1)],\n",
      "  'pagerank_summary': ['The charges from the U.S. Securities and Exchange '\n",
      "                       'Commission come two years after the German automaker '\n",
      "                       'settled with the U.S. over criminal and civil charges, '\n",
      "                       'as the company tries to distance itself from one if '\n",
      "                       'its darkest eras.',\n",
      "                       'In 2016 the Justice Department sued Volkswagen over '\n",
      "                       'the emissions-cheating software and the Federal Trade '\n",
      "                       'Commission sued the company, saying it made false '\n",
      "                       'claims in commercials promoting its \"Clean Diesel\" '\n",
      "                       'vehicles as environmentally friendly.',\n",
      "                       'The SEC said that between April 2014 and May 2015, '\n",
      "                       'Volkswagen issued more than $13 billion US in bonds '\n",
      "                       'and asset-backed securities in U.S. markets when '\n",
      "                       'senior executives knew that more than 500,000 vehicles '\n",
      "                       'in the country grossly exceeded legal vehicle '\n",
      "                       'emissions limits.'],\n",
      "  'people': [('Martin Winterkorn', 1), ('Stephanie Avakian', 1)],\n",
      "  'reporter': 'The Associated Press',\n",
      "  'summary': 'The charges from the SEC come two years after Volkswagen settled '\n",
      "             'with the U.S. over criminal and civil charges',\n",
      "  'title': 'U.S. regulators charge Volkswagen, former CEO with defrauding '\n",
      "           'investors',\n",
      "  'topics': [(0,\n",
      "              '0.031*\"volkswagen\" + 0.031*\"company\" + 0.025*\"more\" + '\n",
      "              '0.014*\"state\" + 0.014*\"investor\"'),\n",
      "             (1,\n",
      "              '0.030*\"vehicle\" + 0.025*\"emission\" + 0.021*\"say\" + 0.016*\"sec\" '\n",
      "              '+ 0.016*\"more\"'),\n",
      "             (2,\n",
      "              '0.027*\"charge\" + 0.027*\"volkswagen\" + 0.021*\"-PRON-\" + '\n",
      "              '0.021*\"sec\" + 0.021*\"company\"')],\n",
      "  'url': 'https://www.cbc.ca/news/business/volkswagen-charged-with-defrauding-investors-1.5058925'},\n",
      " {'article': ' Facebook Inc. said on Thursday it had restored service to its '\n",
      "             \"main app and Instagram, after the world's largest social network \"\n",
      "             'suffered a major outage that frustrated users across the globe '\n",
      "             'for about 24 hours. . The company blamed the outage on a server '\n",
      "             'configuration change. . Yesterday, as a result of a server '\n",
      "             'configuration change, many people had trouble accessing our apps '\n",
      "             \"and services. We've now resolved the issues and our systems are \"\n",
      "             'recovering. We’re very sorry for the inconvenience and '\n",
      "             'appreciate everyone’s patience. . It also said it was '\n",
      "             'considering whether to refund advertisers for lost exposure due '\n",
      "             'to the problems, which internet outage trackers showed affected '\n",
      "             'users in Europe, Japan, and North and South America. . '\n",
      "             '\"Yesterday, a server configuration issue made it difficult for '\n",
      "             'people to access our apps and services. We are 100 per cent back '\n",
      "             'up and running and apologize for any inconvenience,\" a Facebook '\n",
      "             'spokesperson said. . \"We are still investigating the overall '\n",
      "             'impact of this issue, including the possibility of refunds for '\n",
      "             'advertisers.\" . Facebook\\xa0makes tens of millions of dollars in '\n",
      "             'advertising revenue every day. . Media reports earlier said '\n",
      "             'millions of users were affected, and thousands took to Twitter '\n",
      "             'on Wednesday and Thursday to complain under the hashtag '\n",
      "             \"#facebookdown. . DownDetector website —\\xa0one of the internet's \"\n",
      "             'most used sources of numbers on outages —\\xa0showed the number '\n",
      "             'of complaints had peaked at more than 12,000, gradually falling '\n",
      "             'to about 180 as of 11 a.m. ET on Thursday. . The BBC and a '\n",
      "             \"handful of other media outlets said it was the platform's \"\n",
      "             'longest ever outage. Reuters was not immediately able to verify '\n",
      "             'those claims and the company declined to comment beyond the '\n",
      "             \"statement on resumption of services. . Facebook's shares fell \"\n",
      "             'nearly two\\xa0per cent in morning trading on Thursday. . '\n",
      "             'Separately, the New York Times reported on Wednesday that U.S. '\n",
      "             'federal prosecutors were conducting a criminal investigation '\n",
      "             'into data deals Facebook struck with more than 150 technology '\n",
      "             'companies such as Amazon.com Inc. and Apple Inc. . Facebook is '\n",
      "             'facing a slew of lawsuits and regulatory inquiries over its '\n",
      "             'privacy practices, including ongoing investigations by the U.S. '\n",
      "             'Federal Trade Commission, the Securities and Exchange Commission '\n",
      "             'and two state agencies in New York. . A spokesperson\\xa0for the '\n",
      "             'social network said the company was co-operating with '\n",
      "             'investigators in multiple federal probes, without addressing the '\n",
      "             'grand jury inquiry specifically. .',\n",
      "  'article_id': 7,\n",
      "  'organizations': [('Facebook', 5),\n",
      "                    ('Facebook Inc.', 1),\n",
      "                    ('Twitter', 1),\n",
      "                    ('DownDetector', 1),\n",
      "                    ('BBC', 1),\n",
      "                    ('Reuters', 1),\n",
      "                    ('the New York Times', 1),\n",
      "                    ('Amazon.com Inc.', 1),\n",
      "                    ('Apple Inc.', 1),\n",
      "                    ('the U.S. Federal Trade Commission', 1)],\n",
      "  'pagerank_summary': ['It also said it was considering whether to refund '\n",
      "                       'advertisers for lost exposure due to the problems, '\n",
      "                       'which internet outage trackers showed affected users '\n",
      "                       'in Europe, Japan, and North and South America.',\n",
      "                       ' Facebook Inc. said on Thursday it had restored '\n",
      "                       'service to its main app and Instagram, after the '\n",
      "                       \"world's largest social network suffered a major outage \"\n",
      "                       'that frustrated users across the globe for about 24 '\n",
      "                       'hours.',\n",
      "                       'Media reports earlier said millions of users were '\n",
      "                       'affected, and thousands took to Twitter on Wednesday '\n",
      "                       'and Thursday to complain under the hashtag '\n",
      "                       '#facebookdown.'],\n",
      "  'people': [],\n",
      "  'reporter': 'Thomson Reuters',\n",
      "  'summary': 'Facebook says it is considering whether to refund advertisers '\n",
      "             'for lost exposure',\n",
      "  'title': \"Facebook blames long outage on 'server configuration change'\",\n",
      "  'topics': [(0,\n",
      "              '0.026*\"service\" + 0.020*\"configuration\" + 0.020*\"server\" + '\n",
      "              '0.020*\"app\" + 0.014*\"thursday\"'),\n",
      "             (1,\n",
      "              '0.027*\"facebook\" + 0.015*\"outage\" + 0.015*\"inc\" + '\n",
      "              '0.015*\"number\" + 0.015*\"fall\"'),\n",
      "             (2,\n",
      "              '0.026*\"say\" + 0.015*\"company\" + 0.015*\"issue\" + '\n",
      "              '0.015*\"spokesperson\" + 0.015*\"federal\"')],\n",
      "  'url': 'https://www.cbc.ca/news/technology/facebook-instagram-outage-cause-1.5056807'}]\n"
     ]
    }
   ],
   "source": [
    "pprint(articles)"
   ]
  },
  {
   "cell_type": "markdown",
   "metadata": {},
   "source": [
    "### Correlate with IA Holdings"
   ]
  },
  {
   "cell_type": "code",
   "execution_count": 6,
   "metadata": {},
   "outputs": [],
   "source": [
    "investment_advisor_holdings = pd.read_csv(\n",
    "    os.path.join('data', 'internal', 'investment_advisor_holdings.csv'))"
   ]
  },
  {
   "cell_type": "code",
   "execution_count": 7,
   "metadata": {},
   "outputs": [
    {
     "data": {
      "text/html": [
       "<div>\n",
       "<style scoped>\n",
       "    .dataframe tbody tr th:only-of-type {\n",
       "        vertical-align: middle;\n",
       "    }\n",
       "\n",
       "    .dataframe tbody tr th {\n",
       "        vertical-align: top;\n",
       "    }\n",
       "\n",
       "    .dataframe thead th {\n",
       "        text-align: right;\n",
       "    }\n",
       "</style>\n",
       "<table border=\"1\" class=\"dataframe\">\n",
       "  <thead>\n",
       "    <tr style=\"text-align: right;\">\n",
       "      <th></th>\n",
       "      <th>investment_advisor</th>\n",
       "      <th>security_name</th>\n",
       "      <th>security_id</th>\n",
       "      <th>market_value</th>\n",
       "    </tr>\n",
       "  </thead>\n",
       "  <tbody>\n",
       "    <tr>\n",
       "      <th>0</th>\n",
       "      <td>Greg Warren</td>\n",
       "      <td>Alphabet Inc</td>\n",
       "      <td>GOOGL</td>\n",
       "      <td>1429000</td>\n",
       "    </tr>\n",
       "    <tr>\n",
       "      <th>1</th>\n",
       "      <td>Greg Warren</td>\n",
       "      <td>Netflix, Inc.</td>\n",
       "      <td>NFLX</td>\n",
       "      <td>2353000</td>\n",
       "    </tr>\n",
       "    <tr>\n",
       "      <th>2</th>\n",
       "      <td>Greg Warren</td>\n",
       "      <td>Air Canada</td>\n",
       "      <td>AC</td>\n",
       "      <td>154000</td>\n",
       "    </tr>\n",
       "    <tr>\n",
       "      <th>3</th>\n",
       "      <td>Greg Warren</td>\n",
       "      <td>Royal Bank of Canada</td>\n",
       "      <td>RY</td>\n",
       "      <td>4649000</td>\n",
       "    </tr>\n",
       "    <tr>\n",
       "      <th>4</th>\n",
       "      <td>Greg Warren</td>\n",
       "      <td>Suncor Energy Inc.</td>\n",
       "      <td>SU</td>\n",
       "      <td>1999000</td>\n",
       "    </tr>\n",
       "    <tr>\n",
       "      <th>5</th>\n",
       "      <td>Greg Warren</td>\n",
       "      <td>Volkswagen AG</td>\n",
       "      <td>VOW3</td>\n",
       "      <td>991000</td>\n",
       "    </tr>\n",
       "    <tr>\n",
       "      <th>6</th>\n",
       "      <td>Greg Warren</td>\n",
       "      <td>Amazon.com, Inc.</td>\n",
       "      <td>AMZN</td>\n",
       "      <td>743000</td>\n",
       "    </tr>\n",
       "    <tr>\n",
       "      <th>7</th>\n",
       "      <td>Greg Warren</td>\n",
       "      <td>Toronto-Dominion Bank</td>\n",
       "      <td>TD</td>\n",
       "      <td>3703000</td>\n",
       "    </tr>\n",
       "    <tr>\n",
       "      <th>8</th>\n",
       "      <td>Greg Warren</td>\n",
       "      <td>Kraft Heinz Co</td>\n",
       "      <td>KHC</td>\n",
       "      <td>4135000</td>\n",
       "    </tr>\n",
       "    <tr>\n",
       "      <th>9</th>\n",
       "      <td>Michelle Burns</td>\n",
       "      <td>Facebook, Inc.</td>\n",
       "      <td>FB</td>\n",
       "      <td>928000</td>\n",
       "    </tr>\n",
       "    <tr>\n",
       "      <th>10</th>\n",
       "      <td>Michelle Burns</td>\n",
       "      <td>Loblaw Companies Ltd</td>\n",
       "      <td>L</td>\n",
       "      <td>669000</td>\n",
       "    </tr>\n",
       "    <tr>\n",
       "      <th>11</th>\n",
       "      <td>Michelle Burns</td>\n",
       "      <td>Rogers Communications Inc</td>\n",
       "      <td>RCI</td>\n",
       "      <td>1924000</td>\n",
       "    </tr>\n",
       "    <tr>\n",
       "      <th>12</th>\n",
       "      <td>Michelle Burns</td>\n",
       "      <td>Freshii Inc</td>\n",
       "      <td>FRII</td>\n",
       "      <td>880000</td>\n",
       "    </tr>\n",
       "    <tr>\n",
       "      <th>13</th>\n",
       "      <td>Michelle Burns</td>\n",
       "      <td>Tesla Inc</td>\n",
       "      <td>TSLA</td>\n",
       "      <td>1816000</td>\n",
       "    </tr>\n",
       "    <tr>\n",
       "      <th>14</th>\n",
       "      <td>Michelle Burns</td>\n",
       "      <td>Restaurant Brands International Inc</td>\n",
       "      <td>QSR</td>\n",
       "      <td>946000</td>\n",
       "    </tr>\n",
       "    <tr>\n",
       "      <th>15</th>\n",
       "      <td>Michelle Burns</td>\n",
       "      <td>Volkswagen AG</td>\n",
       "      <td>VOW3</td>\n",
       "      <td>1411000</td>\n",
       "    </tr>\n",
       "  </tbody>\n",
       "</table>\n",
       "</div>"
      ],
      "text/plain": [
       "   investment_advisor                        security_name security_id  \\\n",
       "0         Greg Warren                         Alphabet Inc       GOOGL   \n",
       "1         Greg Warren                        Netflix, Inc.        NFLX   \n",
       "2         Greg Warren                           Air Canada          AC   \n",
       "3         Greg Warren                 Royal Bank of Canada          RY   \n",
       "4         Greg Warren                   Suncor Energy Inc.          SU   \n",
       "5         Greg Warren                        Volkswagen AG        VOW3   \n",
       "6         Greg Warren                     Amazon.com, Inc.        AMZN   \n",
       "7         Greg Warren                Toronto-Dominion Bank          TD   \n",
       "8         Greg Warren                       Kraft Heinz Co         KHC   \n",
       "9      Michelle Burns                      Facebook, Inc.           FB   \n",
       "10     Michelle Burns                 Loblaw Companies Ltd           L   \n",
       "11     Michelle Burns            Rogers Communications Inc         RCI   \n",
       "12     Michelle Burns                          Freshii Inc        FRII   \n",
       "13     Michelle Burns                            Tesla Inc        TSLA   \n",
       "14     Michelle Burns  Restaurant Brands International Inc         QSR   \n",
       "15     Michelle Burns                        Volkswagen AG        VOW3   \n",
       "\n",
       "    market_value  \n",
       "0        1429000  \n",
       "1        2353000  \n",
       "2         154000  \n",
       "3        4649000  \n",
       "4        1999000  \n",
       "5         991000  \n",
       "6         743000  \n",
       "7        3703000  \n",
       "8        4135000  \n",
       "9         928000  \n",
       "10        669000  \n",
       "11       1924000  \n",
       "12        880000  \n",
       "13       1816000  \n",
       "14        946000  \n",
       "15       1411000  "
      ]
     },
     "execution_count": 7,
     "metadata": {},
     "output_type": "execute_result"
    }
   ],
   "source": [
    "investment_advisor_holdings"
   ]
  },
  {
   "cell_type": "code",
   "execution_count": 8,
   "metadata": {},
   "outputs": [],
   "source": [
    "IA_articles = []\n",
    "\n",
    "investment_advisors = investment_advisor_holdings['investment_advisor'].unique()\n",
    "for ia in investment_advisors:\n",
    "    articles_matched = []\n",
    "    \n",
    "    ia_holdings = investment_advisor_holdings[\n",
    "        investment_advisor_holdings['investment_advisor']==ia]\n",
    "\n",
    "    for article in articles:\n",
    "        article_match = False\n",
    "        article_id = article['article_id']\n",
    "        organizations = [orgs[0] for orgs in article['organizations']]\n",
    "        for org in organizations:\n",
    "            for security_name in ia_holdings['security_name'].unique():\n",
    "                org_sim = fuzz.token_set_ratio(org, security_name)\n",
    "                if org_sim >= 80:\n",
    "                    articles_matched.append(article_id)\n",
    "                    article_match = True\n",
    "                    break\n",
    "            if article_match:\n",
    "                break\n",
    "    IA_articles.append({\n",
    "        'investment_advisor': ia,\n",
    "        'matched_articles': articles_matched\n",
    "    })"
   ]
  },
  {
   "cell_type": "code",
   "execution_count": 9,
   "metadata": {},
   "outputs": [
    {
     "data": {
      "text/plain": [
       "[{'investment_advisor': 'Greg Warren', 'matched_articles': [2, 3, 4, 6, 7]},\n",
       " {'investment_advisor': 'Michelle Burns', 'matched_articles': [1, 5, 6, 7]}]"
      ]
     },
     "execution_count": 9,
     "metadata": {},
     "output_type": "execute_result"
    }
   ],
   "source": [
    "IA_articles"
   ]
  },
  {
   "cell_type": "markdown",
   "metadata": {},
   "source": [
    "### Generate Markdown "
   ]
  },
  {
   "cell_type": "code",
   "execution_count": 10,
   "metadata": {
    "scrolled": false
   },
   "outputs": [
    {
     "data": {
      "text/markdown": [
       "# Daily recommended articles for Greg Warren"
      ],
      "text/plain": [
       "<IPython.core.display.Markdown object>"
      ]
     },
     "metadata": {},
     "output_type": "display_data"
    },
    {
     "data": {
      "text/markdown": [
       "**Holdings**: *Alphabet Inc, Netflix, Inc., Air Canada, Royal Bank of Canada, Suncor Energy Inc., Volkswagen AG, Amazon.com, Inc., Toronto-Dominion Bank, Kraft Heinz Co*"
      ],
      "text/plain": [
       "<IPython.core.display.Markdown object>"
      ]
     },
     "metadata": {},
     "output_type": "display_data"
    },
    {
     "data": {
      "text/markdown": [
       "### Buying a home? CMHC could soon kick in 10% of the cost — for a price"
      ],
      "text/plain": [
       "<IPython.core.display.Markdown object>"
      ]
     },
     "metadata": {},
     "output_type": "display_data"
    },
    {
     "data": {
      "text/markdown": [
       "**Summary**: Worse still, he says if it's done poorly Wright said the program has the potential to undo some of the sensible market cooling measures Ottawa has implemented in recent years: capping loan terms, setting minimum down payment levels and introducing mortgage 'stress tests' last year. The budget is far from clear on how much the buyer would owe; is it the same dollar amount the CMHC provided up front, or does the bill go up based on how much the house has appreciated in value? In addition to those stipulations, the program caps out at four times the applicant's annual income, which means it can only help homeowners looking to buy properties where the mortgage value plus the CMHC loan don't exceed $480,000."
      ],
      "text/plain": [
       "<IPython.core.display.Markdown object>"
      ]
     },
     "metadata": {},
     "output_type": "display_data"
    },
    {
     "data": {
      "text/markdown": [
       "**Organizations**: CMHC, RRSP, the First Time Home Buyer Incentive, the Canada Mortgage and Housing Corporation, Crown, Deloitte, the Royal Bank of Canada, the Canadian Centre for Policy Alternatives, Options For Homes, the Home Buyer's Plan"
      ],
      "text/plain": [
       "<IPython.core.display.Markdown object>"
      ]
     },
     "metadata": {},
     "output_type": "display_data"
    },
    {
     "data": {
      "text/markdown": [
       "**Read more**: https://www.cbc.ca/news/business/budget-cmhc-home-buyers-1.5063204"
      ],
      "text/plain": [
       "<IPython.core.display.Markdown object>"
      ]
     },
     "metadata": {},
     "output_type": "display_data"
    },
    {
     "data": {
      "text/markdown": [
       "### EU regulators fine Google $1.68B US for abusing online ads market"
      ],
      "text/plain": [
       "<IPython.core.display.Markdown object>"
      ]
     },
     "metadata": {},
     "output_type": "display_data"
    },
    {
     "data": {
      "text/markdown": [
       "**Summary**: Microsoft filed an EU antitrust complaint about the service in 2009 and the EU Commission formally launched its probe in 2016, although it said at the time that Google had already made some changes to allow affected customers more freedom to show competing ads. \"Today's decision is about how Google abused its dominance to stop websites using brokers other than the AdSense platform,\" Vestager said. The commission found Google and its parent company, Alphabet, breached EU antitrust rules by imposing restrictive clauses in contracts with websites that used AdSense, preventing Google rivals from placing their ads on these sites."
      ],
      "text/plain": [
       "<IPython.core.display.Markdown object>"
      ]
     },
     "metadata": {},
     "output_type": "display_data"
    },
    {
     "data": {
      "text/markdown": [
       "**Organizations**: Google, EU, European Union, Alphabet, Microsoft, the EU Commission, Android"
      ],
      "text/plain": [
       "<IPython.core.display.Markdown object>"
      ]
     },
     "metadata": {},
     "output_type": "display_data"
    },
    {
     "data": {
      "text/markdown": [
       "**Read more**: https://www.cbc.ca/news/business/eu-regulators-fine-google-online-ads-1.5063806"
      ],
      "text/plain": [
       "<IPython.core.display.Markdown object>"
      ]
     },
     "metadata": {},
     "output_type": "display_data"
    },
    {
     "data": {
      "text/markdown": [
       "### Air Canada grounds Boeing Max 8s until at least July 1"
      ],
      "text/plain": [
       "<IPython.core.display.Markdown object>"
      ]
     },
     "metadata": {},
     "output_type": "display_data"
    },
    {
     "data": {
      "text/markdown": [
       "**Summary**: On Tuesday, Transport Canada said it would send a team to assist the U.S. Federal Aviation Administration in evaluating proposed design changes to update the software on the grounded Max jets. Originally, she was told she'd have to pay a fee to change her flight, but after the planes were grounded, she was offered the change for free, though her flight will now include a stopover in Toronto. The changes come on the heels of Transport Canada's decision to close Canadian airspace to the aircraft after a Max 8 jet operated by Ethiopian Airlines crashed on March 10, killing all 157 people on board, including 18 Canadians."
      ],
      "text/plain": [
       "<IPython.core.display.Markdown object>"
      ]
     },
     "metadata": {},
     "output_type": "display_data"
    },
    {
     "data": {
      "text/markdown": [
       "**Organizations**: Air Canada, FAA, WestJet, Transport Canada, Boeing, Transport Canada's, Ethiopian Airlines, Calif. Customers, Air Transat, Ann de Ste Croix"
      ],
      "text/plain": [
       "<IPython.core.display.Markdown object>"
      ]
     },
     "metadata": {},
     "output_type": "display_data"
    },
    {
     "data": {
      "text/markdown": [
       "**Read more**: https://www.cbc.ca/news/canada/nova-scotia/air-canada-max-8s-grounded-july-1-1.5062354"
      ],
      "text/plain": [
       "<IPython.core.display.Markdown object>"
      ]
     },
     "metadata": {},
     "output_type": "display_data"
    },
    {
     "data": {
      "text/markdown": [
       "### U.S. regulators charge Volkswagen, former CEO with defrauding investors"
      ],
      "text/plain": [
       "<IPython.core.display.Markdown object>"
      ]
     },
     "metadata": {},
     "output_type": "display_data"
    },
    {
     "data": {
      "text/markdown": [
       "**Summary**: The charges from the U.S. Securities and Exchange Commission come two years after the German automaker settled with the U.S. over criminal and civil charges, as the company tries to distance itself from one if its darkest eras. In 2016 the Justice Department sued Volkswagen over the emissions-cheating software and the Federal Trade Commission sued the company, saying it made false claims in commercials promoting its \"Clean Diesel\" vehicles as environmentally friendly. The SEC said that between April 2014 and May 2015, Volkswagen issued more than $13 billion US in bonds and asset-backed securities in U.S. markets when senior executives knew that more than 500,000 vehicles in the country grossly exceeded legal vehicle emissions limits."
      ],
      "text/plain": [
       "<IPython.core.display.Markdown object>"
      ]
     },
     "metadata": {},
     "output_type": "display_data"
    },
    {
     "data": {
      "text/markdown": [
       "**Organizations**: Volkswagen, SEC, Winterkorn, the U.S. Securities and Exchange Commission, the Environmental Protection Agency, the Justice Department, the Federal Trade Commission, the Department of Justice, District Court, Volkswagen AG"
      ],
      "text/plain": [
       "<IPython.core.display.Markdown object>"
      ]
     },
     "metadata": {},
     "output_type": "display_data"
    },
    {
     "data": {
      "text/markdown": [
       "**Read more**: https://www.cbc.ca/news/business/volkswagen-charged-with-defrauding-investors-1.5058925"
      ],
      "text/plain": [
       "<IPython.core.display.Markdown object>"
      ]
     },
     "metadata": {},
     "output_type": "display_data"
    },
    {
     "data": {
      "text/markdown": [
       "### Facebook blames long outage on 'server configuration change'"
      ],
      "text/plain": [
       "<IPython.core.display.Markdown object>"
      ]
     },
     "metadata": {},
     "output_type": "display_data"
    },
    {
     "data": {
      "text/markdown": [
       "**Summary**: It also said it was considering whether to refund advertisers for lost exposure due to the problems, which internet outage trackers showed affected users in Europe, Japan, and North and South America.  Facebook Inc. said on Thursday it had restored service to its main app and Instagram, after the world's largest social network suffered a major outage that frustrated users across the globe for about 24 hours. Media reports earlier said millions of users were affected, and thousands took to Twitter on Wednesday and Thursday to complain under the hashtag #facebookdown."
      ],
      "text/plain": [
       "<IPython.core.display.Markdown object>"
      ]
     },
     "metadata": {},
     "output_type": "display_data"
    },
    {
     "data": {
      "text/markdown": [
       "**Organizations**: Facebook, Facebook Inc., Twitter, DownDetector, BBC, Reuters, the New York Times, Amazon.com Inc., Apple Inc., the U.S. Federal Trade Commission"
      ],
      "text/plain": [
       "<IPython.core.display.Markdown object>"
      ]
     },
     "metadata": {},
     "output_type": "display_data"
    },
    {
     "data": {
      "text/markdown": [
       "**Read more**: https://www.cbc.ca/news/technology/facebook-instagram-outage-cause-1.5056807"
      ],
      "text/plain": [
       "<IPython.core.display.Markdown object>"
      ]
     },
     "metadata": {},
     "output_type": "display_data"
    },
    {
     "data": {
      "text/markdown": [
       "# Daily recommended articles for Michelle Burns"
      ],
      "text/plain": [
       "<IPython.core.display.Markdown object>"
      ]
     },
     "metadata": {},
     "output_type": "display_data"
    },
    {
     "data": {
      "text/markdown": [
       "**Holdings**: *Facebook, Inc. , Loblaw Companies Ltd, Rogers Communications Inc, Freshii Inc, Tesla Inc, Restaurant Brands International Inc, Volkswagen AG*"
      ],
      "text/plain": [
       "<IPython.core.display.Markdown object>"
      ]
     },
     "metadata": {},
     "output_type": "display_data"
    },
    {
     "data": {
      "text/markdown": [
       "### Rogers Media sells Maclean's, Chatelaine and other magazines to Toronto Life publisher"
      ],
      "text/plain": [
       "<IPython.core.display.Markdown object>"
      ]
     },
     "metadata": {},
     "output_type": "display_data"
    },
    {
     "data": {
      "text/markdown": [
       "**Summary**: St Joseph's media calls itself Canada's biggest privately owned print, media and communications company, and their best known product is likely the magazine Toronto Life.  Rogers Media has struck a deal with the company that publishes Toronto Life to sell the company's remaining magazine brands for an undisclosed sum. The company says it plans to develop and grow the magazine brands \"that Canadians have come to know and love.\""
      ],
      "text/plain": [
       "<IPython.core.display.Markdown object>"
      ]
     },
     "metadata": {},
     "output_type": "display_data"
    },
    {
     "data": {
      "text/markdown": [
       "**Organizations**: Toronto Life, Rogers Media, Rogers, St. Joseph Communications, Maclean's, Rogers Media Publishing, Maclean-Hunter, MoneySense, Ratehub Inc., FASHION Magazine"
      ],
      "text/plain": [
       "<IPython.core.display.Markdown object>"
      ]
     },
     "metadata": {},
     "output_type": "display_data"
    },
    {
     "data": {
      "text/markdown": [
       "**Read more**: https://www.cbc.ca/news/business/rogers-media-magazines-1.5064054"
      ],
      "text/plain": [
       "<IPython.core.display.Markdown object>"
      ]
     },
     "metadata": {},
     "output_type": "display_data"
    },
    {
     "data": {
      "text/markdown": [
       "### Superstore, Shoppers Drug Mart customers say they were forced to use self-checkout"
      ],
      "text/plain": [
       "<IPython.core.display.Markdown object>"
      ]
     },
     "metadata": {},
     "output_type": "display_data"
    },
    {
     "data": {
      "text/markdown": [
       "**Summary**: \"They're forcing me to use it and I don't think that's fair,\" said Linda Chaikowski, who was directed to self-checkout last week at a Shoppers in Winnipeg. \"I find it distasteful that I can't even get that basic level of customer service,\" said Kaye, who grudgingly used the self-checkout machine to pay for his purchase. The two Walmart customers said their store now appears to have backtracked on not providing cashiers at certain hours."
      ],
      "text/plain": [
       "<IPython.core.display.Markdown object>"
      ]
     },
     "metadata": {},
     "output_type": "display_data"
    },
    {
     "data": {
      "text/markdown": [
       "**Organizations**: Superstore, Shoppers Drug Mart, Real Canadian Superstore, CBC News, Walmart, Loblaw Co., Loblaws, Walmart Canada, Winder, the Retail Advisors Network"
      ],
      "text/plain": [
       "<IPython.core.display.Markdown object>"
      ]
     },
     "metadata": {},
     "output_type": "display_data"
    },
    {
     "data": {
      "text/markdown": [
       "**Read more**: https://www.cbc.ca/news/business/shoppers-drug-mart-superstore-self-checkout-loblaw-1.5056800"
      ],
      "text/plain": [
       "<IPython.core.display.Markdown object>"
      ]
     },
     "metadata": {},
     "output_type": "display_data"
    },
    {
     "data": {
      "text/markdown": [
       "### U.S. regulators charge Volkswagen, former CEO with defrauding investors"
      ],
      "text/plain": [
       "<IPython.core.display.Markdown object>"
      ]
     },
     "metadata": {},
     "output_type": "display_data"
    },
    {
     "data": {
      "text/markdown": [
       "**Summary**: The charges from the U.S. Securities and Exchange Commission come two years after the German automaker settled with the U.S. over criminal and civil charges, as the company tries to distance itself from one if its darkest eras. In 2016 the Justice Department sued Volkswagen over the emissions-cheating software and the Federal Trade Commission sued the company, saying it made false claims in commercials promoting its \"Clean Diesel\" vehicles as environmentally friendly. The SEC said that between April 2014 and May 2015, Volkswagen issued more than $13 billion US in bonds and asset-backed securities in U.S. markets when senior executives knew that more than 500,000 vehicles in the country grossly exceeded legal vehicle emissions limits."
      ],
      "text/plain": [
       "<IPython.core.display.Markdown object>"
      ]
     },
     "metadata": {},
     "output_type": "display_data"
    },
    {
     "data": {
      "text/markdown": [
       "**Organizations**: Volkswagen, SEC, Winterkorn, the U.S. Securities and Exchange Commission, the Environmental Protection Agency, the Justice Department, the Federal Trade Commission, the Department of Justice, District Court, Volkswagen AG"
      ],
      "text/plain": [
       "<IPython.core.display.Markdown object>"
      ]
     },
     "metadata": {},
     "output_type": "display_data"
    },
    {
     "data": {
      "text/markdown": [
       "**Read more**: https://www.cbc.ca/news/business/volkswagen-charged-with-defrauding-investors-1.5058925"
      ],
      "text/plain": [
       "<IPython.core.display.Markdown object>"
      ]
     },
     "metadata": {},
     "output_type": "display_data"
    },
    {
     "data": {
      "text/markdown": [
       "### Facebook blames long outage on 'server configuration change'"
      ],
      "text/plain": [
       "<IPython.core.display.Markdown object>"
      ]
     },
     "metadata": {},
     "output_type": "display_data"
    },
    {
     "data": {
      "text/markdown": [
       "**Summary**: It also said it was considering whether to refund advertisers for lost exposure due to the problems, which internet outage trackers showed affected users in Europe, Japan, and North and South America.  Facebook Inc. said on Thursday it had restored service to its main app and Instagram, after the world's largest social network suffered a major outage that frustrated users across the globe for about 24 hours. Media reports earlier said millions of users were affected, and thousands took to Twitter on Wednesday and Thursday to complain under the hashtag #facebookdown."
      ],
      "text/plain": [
       "<IPython.core.display.Markdown object>"
      ]
     },
     "metadata": {},
     "output_type": "display_data"
    },
    {
     "data": {
      "text/markdown": [
       "**Organizations**: Facebook, Facebook Inc., Twitter, DownDetector, BBC, Reuters, the New York Times, Amazon.com Inc., Apple Inc., the U.S. Federal Trade Commission"
      ],
      "text/plain": [
       "<IPython.core.display.Markdown object>"
      ]
     },
     "metadata": {},
     "output_type": "display_data"
    },
    {
     "data": {
      "text/markdown": [
       "**Read more**: https://www.cbc.ca/news/technology/facebook-instagram-outage-cause-1.5056807"
      ],
      "text/plain": [
       "<IPython.core.display.Markdown object>"
      ]
     },
     "metadata": {},
     "output_type": "display_data"
    }
   ],
   "source": [
    "for ia_article in IA_articles:\n",
    "    ia_name = ia_article['investment_advisor']\n",
    "    ia_holdings = investment_advisor_holdings[\n",
    "        investment_advisor_holdings['investment_advisor']==ia_name]\n",
    "    \n",
    "    display(Markdown(f\"# Daily recommended articles for {ia_name}\"))\n",
    "    display(Markdown(f'**Holdings**: *{\", \".join(ia_holdings[\"security_name\"].tolist())}*'))\n",
    "\n",
    "    matched_articles = ia_article['matched_articles']\n",
    "    for article in articles:\n",
    "        if article['article_id'] in matched_articles:\n",
    "            orgs = [org for org, rank in article['organizations']]\n",
    "            display(Markdown(f\"### { article['title']}\"))\n",
    "            display(Markdown(f\"**Summary**: {' '.join(article['pagerank_summary'])}\"))\n",
    "            display(Markdown(f\"**Organizations**: {', '.join(orgs)}\"))\n",
    "            display(Markdown(f\"**Read more**: {article['url']}\"))\n",
    "  "
   ]
  },
  {
   "cell_type": "code",
   "execution_count": null,
   "metadata": {},
   "outputs": [],
   "source": []
  }
 ],
 "metadata": {
  "kernelspec": {
   "display_name": "nlp_demo",
   "language": "python",
   "name": "nlp_demo"
  },
  "language_info": {
   "codemirror_mode": {
    "name": "ipython",
    "version": 3
   },
   "file_extension": ".py",
   "mimetype": "text/x-python",
   "name": "python",
   "nbconvert_exporter": "python",
   "pygments_lexer": "ipython3",
   "version": "3.7.2"
  }
 },
 "nbformat": 4,
 "nbformat_minor": 2
}
