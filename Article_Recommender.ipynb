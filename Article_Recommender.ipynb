{
 "cells": [
  {
   "cell_type": "code",
   "execution_count": null,
   "metadata": {},
   "outputs": [],
   "source": [
    "import os\n",
    "\n",
    "from IPython.display import display, Markdown\n",
    "import pandas as pd\n",
    "from fuzzywuzzy import fuzz\n",
    "import spacy\n",
    "from pprint import pprint\n",
    "\n",
    "from src.scraping import extract_cnbc_article_info\n",
    "from src.nlp import nlp_analysis\n",
    "from src.urls import article_urls"
   ]
  },
  {
   "cell_type": "code",
   "execution_count": null,
   "metadata": {},
   "outputs": [],
   "source": [
    "article_urls"
   ]
  },
  {
   "cell_type": "markdown",
   "metadata": {},
   "source": [
    "### Scrape CNBC Website for Articles"
   ]
  },
  {
   "cell_type": "code",
   "execution_count": null,
   "metadata": {},
   "outputs": [],
   "source": [
    "articles = []\n",
    "for article_id, article_url in enumerate(article_urls):\n",
    "    article_text = extract_cnbc_article_info(article_url)\n",
    "    article_nlp = nlp_analysis(article_text)\n",
    "\n",
    "    articles.append({\n",
    "        'article_id': article_id,\n",
    "        **article_text, \n",
    "        **article_nlp, \n",
    "    })\n"
   ]
  },
  {
   "cell_type": "code",
   "execution_count": null,
   "metadata": {},
   "outputs": [],
   "source": [
    "pprint(articles)"
   ]
  },
  {
   "cell_type": "markdown",
   "metadata": {},
   "source": [
    "### Correlate with IA Holdings"
   ]
  },
  {
   "cell_type": "code",
   "execution_count": null,
   "metadata": {},
   "outputs": [],
   "source": [
    "investment_advisor_holdings = pd.read_csv(\n",
    "    os.path.join('data', 'internal', 'investment_advisor_holdings.csv'))"
   ]
  },
  {
   "cell_type": "code",
   "execution_count": null,
   "metadata": {},
   "outputs": [],
   "source": [
    "investment_advisor_holdings"
   ]
  },
  {
   "cell_type": "code",
   "execution_count": null,
   "metadata": {},
   "outputs": [],
   "source": [
    "IA_articles = []\n",
    "\n",
    "investment_advisors = investment_advisor_holdings['investment_advisor'].unique()\n",
    "for ia in investment_advisors:\n",
    "    articles_matched = []\n",
    "    \n",
    "    ia_holdings = investment_advisor_holdings[\n",
    "        investment_advisor_holdings['investment_advisor']==ia]\n",
    "\n",
    "    for article in articles:\n",
    "        article_match = False\n",
    "        article_id = article['article_id']\n",
    "        organizations = [orgs[0] for orgs in article['organizations']]\n",
    "        for org in organizations:\n",
    "            for security_name in ia_holdings['security_name'].unique():\n",
    "                org_sim = fuzz.token_set_ratio(org, security_name)\n",
    "                if org_sim > 80:\n",
    "                    articles_matched.append(article_id)\n",
    "                    article_match = True\n",
    "                    break\n",
    "            if article_match:\n",
    "                break\n",
    "    IA_articles.append({\n",
    "        'investment_advisor': ia,\n",
    "        'matched_articles': articles_matched\n",
    "    })"
   ]
  },
  {
   "cell_type": "code",
   "execution_count": null,
   "metadata": {},
   "outputs": [],
   "source": [
    "IA_articles"
   ]
  },
  {
   "cell_type": "code",
   "execution_count": null,
   "metadata": {
    "scrolled": false
   },
   "outputs": [],
   "source": [
    "for ia_article in IA_articles:\n",
    "    display(Markdown(f\"# Daily recommended articles for {ia_article['investment_advisor']}\"))\n",
    "    matched_articles = ia_article['matched_articles']\n",
    "    for article in articles:\n",
    "        if article['article_id'] in matched_articles:\n",
    "            display(Markdown(f\"### { article['title']}\"))\n",
    "            display(Markdown(f\"Summary: {' '.join(article['pagerank_summary'])}\"))\n",
    "            display(Markdown(f\"Read more: {article['url']}\"))\n",
    "  "
   ]
  },
  {
   "cell_type": "code",
   "execution_count": null,
   "metadata": {},
   "outputs": [],
   "source": []
  }
 ],
 "metadata": {
  "kernelspec": {
   "display_name": "nlp_demo",
   "language": "python",
   "name": "nlp_demo"
  },
  "language_info": {
   "codemirror_mode": {
    "name": "ipython",
    "version": 3
   },
   "file_extension": ".py",
   "mimetype": "text/x-python",
   "name": "python",
   "nbconvert_exporter": "python",
   "pygments_lexer": "ipython3",
   "version": "3.7.2"
  }
 },
 "nbformat": 4,
 "nbformat_minor": 2
}
