{
 "cells": [
  {
   "cell_type": "code",
   "execution_count": 8,
   "metadata": {},
   "outputs": [],
   "source": [
    "import os\n",
    "\n",
    "import pandas as pd\n",
    "\n",
    "from src.utils import extract_cnbc_article_info\n",
    "from src.constants import articles"
   ]
  },
  {
   "cell_type": "code",
   "execution_count": null,
   "metadata": {},
   "outputs": [],
   "source": [
    "### Get Scrape CNIB Website for Articles"
   ]
  },
  {
   "cell_type": "code",
   "execution_count": 10,
   "metadata": {},
   "outputs": [
    {
     "data": {
      "text/plain": [
       "{'netflix': 'https://www.cnbc.com/2019/03/15/spielberg-and-netflixs-sarandos-meet-sparking-hope-for-oscars-truce.html',\n",
       " 'tesla': 'https://www.cnbc.com/2019/03/15/tesla-shares-fall-5-percent-after-company-unveils-model-y.html',\n",
       " 'google': 'https://www.cnbc.com/2019/03/15/arizona-will-go-after-big-tech-if-necessary-says-attorney-general.html',\n",
       " 'facebook': 'https://www.cnbc.com/2019/03/15/facebook-stocks-falls-after-cox-exit-outage-threats-from-washington.html?&qsearchterm=facebook',\n",
       " 'heinz': 'https://www.cnbc.com/2019/02/24/kraft-heinz-reviews-options-for-maxwell-house-coffee-including-sale.html',\n",
       " 'amazon': 'https://www.cnbc.com/2019/03/08/jeff-bezos-to-end-secrecy-over-amazons-role-in-carbon-emissions.html',\n",
       " 'volkswagen': 'https://www.cnbc.com/2019/03/15/dieselgate-sec-says-volkswagen-perpetrated-fraud-lied-to-investors.html'}"
      ]
     },
     "execution_count": 10,
     "metadata": {},
     "output_type": "execute_result"
    }
   ],
   "source": [
    "articles"
   ]
  },
  {
   "cell_type": "code",
   "execution_count": 6,
   "metadata": {},
   "outputs": [],
   "source": [
    "ia_holdings = pd.read_csv(os.path.join('data', 'internal', 'investment_advisor_holdings.csv'))"
   ]
  },
  {
   "cell_type": "code",
   "execution_count": 7,
   "metadata": {},
   "outputs": [
    {
     "data": {
      "text/html": [
       "<div>\n",
       "<style scoped>\n",
       "    .dataframe tbody tr th:only-of-type {\n",
       "        vertical-align: middle;\n",
       "    }\n",
       "\n",
       "    .dataframe tbody tr th {\n",
       "        vertical-align: top;\n",
       "    }\n",
       "\n",
       "    .dataframe thead th {\n",
       "        text-align: right;\n",
       "    }\n",
       "</style>\n",
       "<table border=\"1\" class=\"dataframe\">\n",
       "  <thead>\n",
       "    <tr style=\"text-align: right;\">\n",
       "      <th></th>\n",
       "      <th>investment_advisor</th>\n",
       "      <th>security_name</th>\n",
       "      <th>security_id</th>\n",
       "      <th>market_value</th>\n",
       "    </tr>\n",
       "  </thead>\n",
       "  <tbody>\n",
       "    <tr>\n",
       "      <th>0</th>\n",
       "      <td>Greg Warren</td>\n",
       "      <td>Alphabet Inc</td>\n",
       "      <td>GOOGL</td>\n",
       "      <td>1429000</td>\n",
       "    </tr>\n",
       "    <tr>\n",
       "      <th>1</th>\n",
       "      <td>Greg Warren</td>\n",
       "      <td>Netflix, Inc.</td>\n",
       "      <td>NFLX</td>\n",
       "      <td>2353000</td>\n",
       "    </tr>\n",
       "    <tr>\n",
       "      <th>2</th>\n",
       "      <td>Greg Warren</td>\n",
       "      <td>Enbridge Inc</td>\n",
       "      <td>ENB</td>\n",
       "      <td>154000</td>\n",
       "    </tr>\n",
       "    <tr>\n",
       "      <th>3</th>\n",
       "      <td>Greg Warren</td>\n",
       "      <td>Royal Bank of Canada</td>\n",
       "      <td>RY</td>\n",
       "      <td>4649000</td>\n",
       "    </tr>\n",
       "    <tr>\n",
       "      <th>4</th>\n",
       "      <td>Greg Warren</td>\n",
       "      <td>Suncor Energy Inc.</td>\n",
       "      <td>SU</td>\n",
       "      <td>1999000</td>\n",
       "    </tr>\n",
       "    <tr>\n",
       "      <th>5</th>\n",
       "      <td>Greg Warren</td>\n",
       "      <td>Volkswagen AG</td>\n",
       "      <td>VOW3</td>\n",
       "      <td>991000</td>\n",
       "    </tr>\n",
       "    <tr>\n",
       "      <th>6</th>\n",
       "      <td>Greg Warren</td>\n",
       "      <td>Amazon.com, Inc.</td>\n",
       "      <td>AMZN</td>\n",
       "      <td>743000</td>\n",
       "    </tr>\n",
       "    <tr>\n",
       "      <th>7</th>\n",
       "      <td>Greg Warren</td>\n",
       "      <td>Toronto-Dominion Bank</td>\n",
       "      <td>TD</td>\n",
       "      <td>3703000</td>\n",
       "    </tr>\n",
       "    <tr>\n",
       "      <th>8</th>\n",
       "      <td>Greg Warren</td>\n",
       "      <td>Kraft Heinz Co</td>\n",
       "      <td>KHC</td>\n",
       "      <td>4135000</td>\n",
       "    </tr>\n",
       "    <tr>\n",
       "      <th>9</th>\n",
       "      <td>Michelle Burns</td>\n",
       "      <td>Facebook, Inc.</td>\n",
       "      <td>FB</td>\n",
       "      <td>928000</td>\n",
       "    </tr>\n",
       "    <tr>\n",
       "      <th>10</th>\n",
       "      <td>Michelle Burns</td>\n",
       "      <td>Loblaw Companies Ltd</td>\n",
       "      <td>L</td>\n",
       "      <td>669000</td>\n",
       "    </tr>\n",
       "    <tr>\n",
       "      <th>11</th>\n",
       "      <td>Michelle Burns</td>\n",
       "      <td>Cineplex Inc</td>\n",
       "      <td>CGX</td>\n",
       "      <td>1924000</td>\n",
       "    </tr>\n",
       "    <tr>\n",
       "      <th>12</th>\n",
       "      <td>Michelle Burns</td>\n",
       "      <td>Freshii Inc</td>\n",
       "      <td>FRII</td>\n",
       "      <td>880000</td>\n",
       "    </tr>\n",
       "    <tr>\n",
       "      <th>13</th>\n",
       "      <td>Michelle Burns</td>\n",
       "      <td>Tesla Inc</td>\n",
       "      <td>TSLA</td>\n",
       "      <td>1816000</td>\n",
       "    </tr>\n",
       "    <tr>\n",
       "      <th>14</th>\n",
       "      <td>Michelle Burns</td>\n",
       "      <td>Restaurant Brands International Inc</td>\n",
       "      <td>QSR</td>\n",
       "      <td>946000</td>\n",
       "    </tr>\n",
       "    <tr>\n",
       "      <th>15</th>\n",
       "      <td>Michelle Burns</td>\n",
       "      <td>Volkswagen AG</td>\n",
       "      <td>VOW3</td>\n",
       "      <td>1411000</td>\n",
       "    </tr>\n",
       "    <tr>\n",
       "      <th>16</th>\n",
       "      <td>Michelle Burns</td>\n",
       "      <td>Royal Bank of Canada</td>\n",
       "      <td>RY</td>\n",
       "      <td>3725000</td>\n",
       "    </tr>\n",
       "  </tbody>\n",
       "</table>\n",
       "</div>"
      ],
      "text/plain": [
       "   investment_advisor                        security_name security_id  \\\n",
       "0         Greg Warren                         Alphabet Inc       GOOGL   \n",
       "1         Greg Warren                        Netflix, Inc.        NFLX   \n",
       "2         Greg Warren                         Enbridge Inc         ENB   \n",
       "3         Greg Warren                 Royal Bank of Canada          RY   \n",
       "4         Greg Warren                   Suncor Energy Inc.          SU   \n",
       "5         Greg Warren                        Volkswagen AG        VOW3   \n",
       "6         Greg Warren                     Amazon.com, Inc.        AMZN   \n",
       "7         Greg Warren                Toronto-Dominion Bank          TD   \n",
       "8         Greg Warren                       Kraft Heinz Co         KHC   \n",
       "9      Michelle Burns                      Facebook, Inc.           FB   \n",
       "10     Michelle Burns                 Loblaw Companies Ltd           L   \n",
       "11     Michelle Burns                         Cineplex Inc         CGX   \n",
       "12     Michelle Burns                          Freshii Inc        FRII   \n",
       "13     Michelle Burns                            Tesla Inc        TSLA   \n",
       "14     Michelle Burns  Restaurant Brands International Inc         QSR   \n",
       "15     Michelle Burns                        Volkswagen AG        VOW3   \n",
       "16     Michelle Burns                 Royal Bank of Canada          RY   \n",
       "\n",
       "    market_value  \n",
       "0        1429000  \n",
       "1        2353000  \n",
       "2         154000  \n",
       "3        4649000  \n",
       "4        1999000  \n",
       "5         991000  \n",
       "6         743000  \n",
       "7        3703000  \n",
       "8        4135000  \n",
       "9         928000  \n",
       "10        669000  \n",
       "11       1924000  \n",
       "12        880000  \n",
       "13       1816000  \n",
       "14        946000  \n",
       "15       1411000  \n",
       "16       3725000  "
      ]
     },
     "execution_count": 7,
     "metadata": {},
     "output_type": "execute_result"
    }
   ],
   "source": [
    "ia_holdings"
   ]
  },
  {
   "cell_type": "code",
   "execution_count": 9,
   "metadata": {},
   "outputs": [
    {
     "data": {
      "text/plain": [
       "{'netflix': 'https://www.cnbc.com/2019/03/15/spielberg-and-netflixs-sarandos-meet-sparking-hope-for-oscars-truce.html',\n",
       " 'tesla': 'https://www.cnbc.com/2019/03/15/tesla-shares-fall-5-percent-after-company-unveils-model-y.html',\n",
       " 'google': 'https://www.cnbc.com/2019/03/15/arizona-will-go-after-big-tech-if-necessary-says-attorney-general.html',\n",
       " 'facebook': 'https://www.cnbc.com/2019/03/15/facebook-stocks-falls-after-cox-exit-outage-threats-from-washington.html?&qsearchterm=facebook',\n",
       " 'heinz': 'https://www.cnbc.com/2019/02/24/kraft-heinz-reviews-options-for-maxwell-house-coffee-including-sale.html',\n",
       " 'amazon': 'https://www.cnbc.com/2019/03/08/jeff-bezos-to-end-secrecy-over-amazons-role-in-carbon-emissions.html',\n",
       " 'volkswagen': 'https://www.cnbc.com/2019/03/15/dieselgate-sec-says-volkswagen-perpetrated-fraud-lied-to-investors.html'}"
      ]
     },
     "execution_count": 9,
     "metadata": {},
     "output_type": "execute_result"
    }
   ],
   "source": [
    "articles"
   ]
  },
  {
   "cell_type": "code",
   "execution_count": null,
   "metadata": {},
   "outputs": [],
   "source": []
  }
 ],
 "metadata": {
  "kernelspec": {
   "display_name": "nlp_demo",
   "language": "python",
   "name": "nlp_demo"
  },
  "language_info": {
   "codemirror_mode": {
    "name": "ipython",
    "version": 3
   },
   "file_extension": ".py",
   "mimetype": "text/x-python",
   "name": "python",
   "nbconvert_exporter": "python",
   "pygments_lexer": "ipython3",
   "version": "3.7.2"
  }
 },
 "nbformat": 4,
 "nbformat_minor": 2
}
