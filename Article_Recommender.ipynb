{
 "cells": [
  {
   "cell_type": "code",
   "execution_count": null,
   "metadata": {},
   "outputs": [],
   "source": [
    "%load_ext autoreload"
   ]
  },
  {
   "cell_type": "code",
   "execution_count": 10,
   "metadata": {},
   "outputs": [],
   "source": [
    "%autoreload 2"
   ]
  },
  {
   "cell_type": "code",
   "execution_count": 379,
   "metadata": {},
   "outputs": [],
   "source": [
    "import os\n",
    "from collections import Counter\n",
    "import string \n",
    "\n",
    "import gensim\n",
    "import networkx as nx\n",
    "import nltk\n",
    "import numpy as np\n",
    "import pandas as pd\n",
    "from sklearn.metrics.pairwise import cosine_similarity\n",
    "import spacy\n",
    "\n",
    "\n",
    "from src.scraping import extract_cnbc_article_info\n",
    "from src.nlp import nlp_analysis\n",
    "from src.constants import article_url_list"
   ]
  },
  {
   "cell_type": "markdown",
   "metadata": {},
   "source": [
    "### Get Scrape CNIB Website for Articles"
   ]
  },
  {
   "cell_type": "code",
   "execution_count": 34,
   "metadata": {},
   "outputs": [
    {
     "data": {
      "text/plain": [
       "['https://www.cnbc.com/2019/03/15/spielberg-and-netflixs-sarandos-meet-sparking-hope-for-oscars-truce.html',\n",
       " 'https://www.cnbc.com/2019/03/15/tesla-shares-fall-5-percent-after-company-unveils-model-y.html',\n",
       " 'https://www.cnbc.com/2019/03/15/arizona-will-go-after-big-tech-if-necessary-says-attorney-general.html',\n",
       " 'https://www.cnbc.com/2019/03/15/facebook-stocks-falls-after-cox-exit-outage-threats-from-washington.html',\n",
       " 'https://www.cnbc.com/2019/02/24/kraft-heinz-reviews-options-for-maxwell-house-coffee-including-sale.html',\n",
       " 'https://www.cnbc.com/2019/03/08/jeff-bezos-to-end-secrecy-over-amazons-role-in-carbon-emissions.html',\n",
       " 'https://www.cnbc.com/2019/03/15/dieselgate-sec-says-volkswagen-perpetrated-fraud-lied-to-investors.html']"
      ]
     },
     "execution_count": 34,
     "metadata": {},
     "output_type": "execute_result"
    }
   ],
   "source": [
    "article_url_list"
   ]
  },
  {
   "cell_type": "code",
   "execution_count": 204,
   "metadata": {},
   "outputs": [],
   "source": [
    "article_list = []\n",
    "for article_url in article_url_list:\n",
    "    \n",
    "    _article_text_dict = extract_cnbc_article_info(article_url)\n",
    "    _article_ml_dict = nlp_analysis(_article_text_dict)\n",
    "    \n",
    "    _article_dict = {**_article_text_dict, **_article_ml_dict}\n",
    "    article_list.append(_article_dict)"
   ]
  },
  {
   "cell_type": "code",
   "execution_count": 336,
   "metadata": {},
   "outputs": [
    {
     "data": {
      "text/plain": [
       "{'title': 'Facebook stock falls after the executive in charge of all its products steps down',\n",
       " 'reporter': 'Sara Salinas',\n",
       " 'summary': ['Insiders told CNBC that Chris Cox was the \"heart and soul\" of Facebook.',\n",
       "  \"His departure hangs uncertainty on Facebook's recent announcement to integrate its family of apps and prioritize private communication.\",\n",
       "  'Separately Friday, Facebook drew criticism related to a terrorist incident in New Zealand in which a shooter live-streamed his attack on Facebook.'],\n",
       " 'article': '\\nFacebook stock fell Friday, the day after Chief Product Officer Chris Cox announced he was leaving the company in light of its recent pivot to privacy.\\n\\nShares fell as much as 4.5 percent in early trading, sinking below $163 at its lowest point. The stock eased off by mid-morning and ended the day 2.5 percent down.\\nInsiders told CNBC that Cox was the \"heart and soul\" of Facebook. He was among the earlier employees and reported directly to CEO Mark Zuckerberg. His departure hangs uncertainty on Facebook\\'s recent announcement to integrate its family of apps and prioritize private communication.\\n\\nSeparately Friday, Facebook drew criticism related to a terrorist incident in New Zealand in which a shooter live-streamed his attack on Facebook. The shootings claimed at least 49 lives.\\nThe company was alerted to the post by New Zealand police and said it has been taking down re-postings of the video and messages praising the shooter as it becomes aware of them.\\nOn top of that, Facebook suffered its longest outage ever this week. The service was reinstated Thursday after a widespread outage that last nearly a day.\\nIn a statement Thursday, the company blamed a \"server configuration change that triggered a cascading series of issues\" for the outage.\\nThe stock shed 1.8 percent by the end of trading Thursday.\\n\\nFriday\\'s stock losses cap a rough week for the company.\\nA proposal by Massachusetts Senator and presidential candidate Elizabeth Warren to break up big tech continued to garner headlines and raise concern in the investor community. Warren\\'s proposal would see Facebook divesting its major acquisitions, WhatsApp and Instagram.\\nThe risk to many of the so-called FAANG stocks — Facebook, Apple, Amazon, Netflix and Google — led one analyst to favor Netflix by sheer default.\\nMeanwhile, federal prosecutors are probing Facebook\\'s data-sharing partnerships with device makers, according to a report by the New York Times published Wednesday night.\\n\"It has already been reported that there are ongoing federal investigations, including by the Department of Justice,\" a spokesperson for Facebook said in a statement to CNBC. \"We are cooperating with investigators and take those probes seriously. We\\'ve provided public testimony, answered questions, and pledged that we will continue to do so.\"\\nWATCH: \\nFormer FCC Chairman under Obama weighs in on data privacy, big tech regulation\\n\\n\\nSubscribe to CNBC on YouTube.\\n',\n",
       " 'ML': '--INSERT ML HERE--'}"
      ]
     },
     "execution_count": 336,
     "metadata": {},
     "output_type": "execute_result"
    }
   ],
   "source": [
    "article_list[3]"
   ]
  },
  {
   "cell_type": "markdown",
   "metadata": {},
   "source": [
    " # Natural Language Processing Steps"
   ]
  },
  {
   "cell_type": "code",
   "execution_count": 207,
   "metadata": {},
   "outputs": [],
   "source": [
    "nlp = spacy.load('en_core_web_lg') # TODO: Give detailed explaination about what this is"
   ]
  },
  {
   "cell_type": "code",
   "execution_count": 289,
   "metadata": {},
   "outputs": [],
   "source": [
    "stop_words =  nltk.corpus.stopwords.words('english')\n",
    "\n",
    "# Remove certain keywords\n",
    "stop_words.remove('more')\n",
    "stop_words.remove('against')"
   ]
  },
  {
   "cell_type": "code",
   "execution_count": 292,
   "metadata": {},
   "outputs": [],
   "source": [
    "# Extract word vectors\n",
    "word_embeddings = {}\n",
    "f = open(os.path.join('data', 'models', 'external', 'glove', 'glove.6B.100d.txt'), encoding='utf-8')\n",
    "for line in f:\n",
    "    values = line.split()\n",
    "    word = values[0]\n",
    "    coefs = np.asarray(values[1:], dtype='float32')\n",
    "    word_embeddings[word] = coefs\n",
    "f.close()"
   ]
  },
  {
   "cell_type": "code",
   "execution_count": 293,
   "metadata": {},
   "outputs": [],
   "source": [
    "punctuation_table = str.maketrans('', '', string.punctuation)"
   ]
  },
  {
   "cell_type": "code",
   "execution_count": 337,
   "metadata": {},
   "outputs": [],
   "source": [
    "article = article_list[3]"
   ]
  },
  {
   "cell_type": "markdown",
   "metadata": {},
   "source": [
    "### Clean Article Text"
   ]
  },
  {
   "cell_type": "code",
   "execution_count": 338,
   "metadata": {},
   "outputs": [],
   "source": [
    "cleaned_article = article['article'].replace('\\n', ' ')"
   ]
  },
  {
   "cell_type": "markdown",
   "metadata": {},
   "source": [
    "### Named-Entity Extraction"
   ]
  },
  {
   "cell_type": "code",
   "execution_count": 339,
   "metadata": {},
   "outputs": [],
   "source": [
    "nlp_data = nlp(cleaned_article)\n",
    "entities =  nlp_data.ents\n",
    "\n",
    "organizations = [ent.text.replace('\\n','') for ent in entities if ent.label_ == 'ORG']\n",
    "people = [ent.text.replace('\\n','') for ent in entities if ent.label_ == 'PERSON']\n",
    "\n",
    "top_orgs = Counter(organizations).most_common(10)\n",
    "top_people = Counter(people).most_common(10)"
   ]
  },
  {
   "cell_type": "code",
   "execution_count": 340,
   "metadata": {},
   "outputs": [
    {
     "data": {
      "text/plain": [
       "[('Chris Cox', 1),\n",
       " ('Cox', 1),\n",
       " ('Mark Zuckerberg', 1),\n",
       " ('Elizabeth Warren', 1),\n",
       " ('Warren', 1),\n",
       " ('Obama', 1)]"
      ]
     },
     "execution_count": 340,
     "metadata": {},
     "output_type": "execute_result"
    }
   ],
   "source": [
    "top_people"
   ]
  },
  {
   "cell_type": "code",
   "execution_count": 341,
   "metadata": {},
   "outputs": [
    {
     "data": {
      "text/plain": [
       "[('Facebook', 10),\n",
       " ('CNBC', 3),\n",
       " ('Netflix', 2),\n",
       " ('WhatsApp', 1),\n",
       " ('FAANG', 1),\n",
       " ('Apple', 1),\n",
       " ('Amazon', 1),\n",
       " ('Google', 1),\n",
       " ('the New York Times', 1),\n",
       " ('the Department of Justice', 1)]"
      ]
     },
     "execution_count": 341,
     "metadata": {},
     "output_type": "execute_result"
    }
   ],
   "source": [
    "top_orgs"
   ]
  },
  {
   "cell_type": "code",
   "execution_count": 342,
   "metadata": {},
   "outputs": [],
   "source": [
    "def remove_stopwords(sentence):\n",
    "    word_list = sentence.split()\n",
    "    _non_stopwords = \" \".join([word for word in word_list if word not in stop_words])\n",
    "    return _non_stopwords"
   ]
  },
  {
   "cell_type": "code",
   "execution_count": 343,
   "metadata": {},
   "outputs": [],
   "source": [
    "def lemmatize_words(sentence):\n",
    "    # we can probably do better than this! \n",
    "    _lemma_words = \" \".join([word.lemma_ for word in nlp(sentence)])\n",
    "    return _lemma_words\n",
    "    "
   ]
  },
  {
   "cell_type": "markdown",
   "metadata": {},
   "source": [
    "### Document Summarization"
   ]
  },
  {
   "cell_type": "markdown",
   "metadata": {},
   "source": [
    "#### Clean Text"
   ]
  },
  {
   "cell_type": "code",
   "execution_count": 344,
   "metadata": {},
   "outputs": [],
   "source": [
    "article_sentence_list = nltk.tokenize.sent_tokenize(cleaned_article)"
   ]
  },
  {
   "cell_type": "code",
   "execution_count": 401,
   "metadata": {},
   "outputs": [],
   "source": [
    "removed_punctuation = [w.translate(punctuation_table) for w in article_sentence_list]\n",
    "removed_mdash = [sentence.replace('—', '') for sentence in removed_punctuation]"
   ]
  },
  {
   "cell_type": "code",
   "execution_count": 402,
   "metadata": {},
   "outputs": [],
   "source": [
    "lower_sentences = [s.lower() for s in removed_mdash]"
   ]
  },
  {
   "cell_type": "code",
   "execution_count": 403,
   "metadata": {},
   "outputs": [],
   "source": [
    "removed_stopwords = [remove_stopwords(sentence) for sentence in lower_sentences]"
   ]
  },
  {
   "cell_type": "code",
   "execution_count": 404,
   "metadata": {},
   "outputs": [],
   "source": [
    "lemmatize_sentences = [lemmatize_words(sentence) for sentence in removed_stopwords]"
   ]
  },
  {
   "cell_type": "markdown",
   "metadata": {},
   "source": [
    "#### Calculate Sentence Embeddings"
   ]
  },
  {
   "cell_type": "code",
   "execution_count": 405,
   "metadata": {},
   "outputs": [],
   "source": [
    "final_sentence = lemmatize_sentences\n",
    "empty_vector = np.zeros((100,))\n",
    "sentence_vectors = []\n",
    "for sentence in final_sentence:\n",
    "    if len(sentence) > 0:\n",
    "        _word_list = sentence.split()\n",
    "        _word_vector =  [word_embeddings.get(word, empty_vector) for word in _word_list]\n",
    "        _summed_vector = sum(_word_vector)\n",
    "        normalized_vector = _summed_vector/ (len(sentence.split()))\n",
    "    else:\n",
    "        normalized_vector = empty_vector\n",
    "    sentence_vectors.append(normalized_vector)"
   ]
  },
  {
   "cell_type": "markdown",
   "metadata": {},
   "source": [
    "#### Create Similarity Matrix between Sentences"
   ]
  },
  {
   "cell_type": "code",
   "execution_count": 406,
   "metadata": {},
   "outputs": [],
   "source": [
    "sim_mat = np.zeros([len(article_sentence_list), len(article_sentence_list)])\n",
    "\n",
    "for i in range(len(article_sentence_list)):\n",
    "    for j in range(len(article_sentence_list)):\n",
    "        if i != j:\n",
    "            sim_mat[i][j] = cosine_similarity(sentence_vectors[i].reshape(1,100), \n",
    "                                              sentence_vectors[j].reshape(1,100))[0,0]"
   ]
  },
  {
   "cell_type": "markdown",
   "metadata": {},
   "source": [
    "#### Impliment PageRank Algo"
   ]
  },
  {
   "cell_type": "code",
   "execution_count": 407,
   "metadata": {},
   "outputs": [],
   "source": [
    "nx_graph = nx.from_numpy_array(sim_mat)\n",
    "scores = nx.pagerank(nx_graph)"
   ]
  },
  {
   "cell_type": "code",
   "execution_count": 408,
   "metadata": {},
   "outputs": [],
   "source": [
    "ranked_sentences = sorted(((scores[i], s, article_sentence_list[i]) for i,s in enumerate(final_sentence)), reverse=True)"
   ]
  },
  {
   "cell_type": "code",
   "execution_count": 409,
   "metadata": {},
   "outputs": [],
   "source": [
    "N_SENTENCES = 3\n",
    "generated_summary = [ranked_sentence[2] for ranked_sentence in ranked_sentences[0:N_SENTENCES]]"
   ]
  },
  {
   "cell_type": "code",
   "execution_count": 410,
   "metadata": {},
   "outputs": [
    {
     "data": {
      "text/plain": [
       "[' Facebook stock fell Friday, the day after Chief Product Officer Chris Cox announced he was leaving the company in light of its recent pivot to privacy.',\n",
       " \"Meanwhile, federal prosecutors are probing Facebook's data-sharing partnerships with device makers, according to a report by the New York Times published Wednesday night.\",\n",
       " 'The company was alerted to the post by New Zealand police and said it has been taking down re-postings of the video and messages praising the shooter as it becomes aware of them.']"
      ]
     },
     "execution_count": 410,
     "metadata": {},
     "output_type": "execute_result"
    }
   ],
   "source": [
    "generated_summary "
   ]
  },
  {
   "cell_type": "markdown",
   "metadata": {},
   "source": [
    "### Topic Modeling"
   ]
  },
  {
   "cell_type": "code",
   "execution_count": 411,
   "metadata": {},
   "outputs": [],
   "source": [
    "tokenized_sentences = [nltk.tokenize.word_tokenize(sentence) for sentence in final_sentence]"
   ]
  },
  {
   "cell_type": "code",
   "execution_count": 413,
   "metadata": {},
   "outputs": [],
   "source": [
    "article_dictionary = gensim.corpora.Dictionary(tokenized_sentences)  # This needs describing!\n",
    "article_corpus = [article_dictionary.doc2bow(text) for text in tokenized_sentences] # This needs describing!"
   ]
  },
  {
   "cell_type": "code",
   "execution_count": 414,
   "metadata": {},
   "outputs": [],
   "source": [
    "NUM_TOPICS = 5\n",
    "\n",
    "article_ldamodel = gensim.models.ldamodel.LdaModel(article_corpus, \n",
    "                                                   num_topics = NUM_TOPICS, \n",
    "                                                   id2word=article_dictionary, \n",
    "                                                   passes=15)\n",
    "topics = article_ldamodel.print_topics(num_words=5)"
   ]
  },
  {
   "cell_type": "code",
   "execution_count": 415,
   "metadata": {},
   "outputs": [
    {
     "data": {
      "text/plain": [
       "[(0,\n",
       "  '0.037*\"facebook\" + 0.028*\"outage\" + 0.020*\"thursday\" + 0.020*\"week\" + 0.020*\"day\"'),\n",
       " (1,\n",
       "  '0.022*\"recent\" + 0.022*\"private\" + 0.022*\"departure\" + 0.022*\"hang\" + 0.022*\"integrate\"'),\n",
       " (2,\n",
       "  '0.021*\"big\" + 0.021*\"tech\" + 0.021*\"continue\" + 0.021*\"netflix\" + 0.011*\"percent\"'),\n",
       " (3,\n",
       "  '0.036*\"facebook\" + 0.025*\"stock\" + 0.014*\"end\" + 0.014*\"percent\" + 0.014*\"cox\"'),\n",
       " (4,\n",
       "  '0.034*\"say\" + 0.018*\"new\" + 0.018*\"report\" + 0.018*\"cnbc\" + 0.018*\"company\"')]"
      ]
     },
     "execution_count": 415,
     "metadata": {},
     "output_type": "execute_result"
    }
   ],
   "source": [
    "topics"
   ]
  },
  {
   "cell_type": "markdown",
   "metadata": {},
   "source": [
    "### Correlate with IA Holdings"
   ]
  },
  {
   "cell_type": "code",
   "execution_count": null,
   "metadata": {},
   "outputs": [],
   "source": []
  },
  {
   "cell_type": "code",
   "execution_count": null,
   "metadata": {},
   "outputs": [],
   "source": [
    "ia_holdings = pd.read_csv(os.path.join('data', 'internal', 'investment_advisor_holdings.csv'))"
   ]
  },
  {
   "cell_type": "code",
   "execution_count": null,
   "metadata": {},
   "outputs": [],
   "source": [
    "ia_holdings"
   ]
  },
  {
   "cell_type": "code",
   "execution_count": null,
   "metadata": {},
   "outputs": [],
   "source": [
    "articles"
   ]
  },
  {
   "cell_type": "code",
   "execution_count": null,
   "metadata": {},
   "outputs": [],
   "source": []
  }
 ],
 "metadata": {
  "kernelspec": {
   "display_name": "nlp_demo",
   "language": "python",
   "name": "nlp_demo"
  },
  "language_info": {
   "codemirror_mode": {
    "name": "ipython",
    "version": 3
   },
   "file_extension": ".py",
   "mimetype": "text/x-python",
   "name": "python",
   "nbconvert_exporter": "python",
   "pygments_lexer": "ipython3",
   "version": "3.7.2"
  }
 },
 "nbformat": 4,
 "nbformat_minor": 2
}
