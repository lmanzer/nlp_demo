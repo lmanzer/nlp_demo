{
 "cells": [
  {
   "cell_type": "code",
   "execution_count": 1,
   "metadata": {},
   "outputs": [],
   "source": [
    "import os\n",
    "\n",
    "from IPython.display import display, Markdown\n",
    "from pprint import pprint\n",
    "import pandas as pd\n",
    "from fuzzywuzzy import fuzz\n",
    "\n",
    "from src.scraping import extract_cbc_article_info\n",
    "from src.nlp import nlp_analysis\n",
    "from src.urls import cbc_urls"
   ]
  },
  {
   "cell_type": "code",
   "execution_count": 2,
   "metadata": {},
   "outputs": [
    {
     "data": {
      "text/plain": [
       "['https://www.cbc.ca/news/business/starbucks-greener-cup-1.5063861',\n",
       " 'https://www.cbc.ca/news/business/rogers-media-magazines-1.5064054',\n",
       " 'https://www.cbc.ca/news/business/budget-cmhc-home-buyers-1.5063204',\n",
       " 'https://www.cbc.ca/news/business/eu-regulators-fine-google-online-ads-1.5063806',\n",
       " 'https://www.cbc.ca/news/canada/nova-scotia/air-canada-max-8s-grounded-july-1-1.5062354',\n",
       " 'https://www.cbc.ca/news/business/shoppers-drug-mart-superstore-self-checkout-loblaw-1.5056800',\n",
       " 'https://www.cbc.ca/news/business/volkswagen-charged-with-defrauding-investors-1.5058925',\n",
       " 'https://www.cbc.ca/news/technology/facebook-instagram-outage-cause-1.5056807']"
      ]
     },
     "execution_count": 2,
     "metadata": {},
     "output_type": "execute_result"
    }
   ],
   "source": [
    "cbc_urls"
   ]
  },
  {
   "cell_type": "markdown",
   "metadata": {},
   "source": [
    "### Scrape CBC Website for Articles and Perform NLP"
   ]
  },
  {
   "cell_type": "code",
   "execution_count": null,
   "metadata": {},
   "outputs": [],
   "source": [
    "articles = []\n",
    "for article_id, article_url in enumerate(cbc_urls):\n",
    "    article_text = extract_cbc_article_info(article_url)\n",
    "    article_nlp = nlp_analysis(article_text)\n",
    "\n",
    "    articles.append({\n",
    "        'article_id': article_id,\n",
    "        **article_text, \n",
    "        **article_nlp, \n",
    "    })\n"
   ]
  },
  {
   "cell_type": "code",
   "execution_count": null,
   "metadata": {},
   "outputs": [],
   "source": [
    "pprint(articles)"
   ]
  },
  {
   "cell_type": "markdown",
   "metadata": {},
   "source": [
    "### Correlate with IA Holdings"
   ]
  },
  {
   "cell_type": "code",
   "execution_count": null,
   "metadata": {},
   "outputs": [],
   "source": [
    "investment_advisor_holdings = pd.read_csv(\n",
    "    os.path.join('data', 'internal', 'investment_advisor_holdings.csv'))"
   ]
  },
  {
   "cell_type": "code",
   "execution_count": null,
   "metadata": {},
   "outputs": [],
   "source": [
    "investment_advisor_holdings"
   ]
  },
  {
   "cell_type": "code",
   "execution_count": null,
   "metadata": {},
   "outputs": [],
   "source": [
    "IA_articles = []\n",
    "\n",
    "investment_advisors = investment_advisor_holdings['investment_advisor'].unique()\n",
    "for ia in investment_advisors:\n",
    "    articles_matched = []\n",
    "    \n",
    "    ia_holdings = investment_advisor_holdings[\n",
    "        investment_advisor_holdings['investment_advisor']==ia]\n",
    "\n",
    "    for article in articles:\n",
    "        article_match = False\n",
    "        article_id = article['article_id']\n",
    "        organizations = [orgs[0] for orgs in article['organizations']]\n",
    "        for org in organizations:\n",
    "            for security_name in ia_holdings['security_name'].unique():\n",
    "                org_sim = fuzz.token_set_ratio(org, security_name)\n",
    "                if org_sim >= 80:\n",
    "                    articles_matched.append(article_id)\n",
    "                    article_match = True\n",
    "                    break\n",
    "            if article_match:\n",
    "                break\n",
    "    IA_articles.append({\n",
    "        'investment_advisor': ia,\n",
    "        'matched_articles': articles_matched\n",
    "    })"
   ]
  },
  {
   "cell_type": "code",
   "execution_count": null,
   "metadata": {},
   "outputs": [],
   "source": [
    "IA_articles"
   ]
  },
  {
   "cell_type": "code",
   "execution_count": null,
   "metadata": {
    "scrolled": false
   },
   "outputs": [],
   "source": [
    "for ia_article in IA_articles:\n",
    "    ia_name = ia_article['investment_advisor']\n",
    "    ia_holdings = investment_advisor_holdings[\n",
    "        investment_advisor_holdings['investment_advisor']==ia_name]\n",
    "    \n",
    "    display(Markdown(f\"# Daily recommended articles for {ia_name}\"))\n",
    "    display(Markdown(f'**Holdings**: *{\", \".join(ia_holdings[\"security_name\"].tolist())}*'))\n",
    "\n",
    "    matched_articles = ia_article['matched_articles']\n",
    "    for article in articles:\n",
    "        if article['article_id'] in matched_articles:\n",
    "            orgs = [org for org, rank in article['organizations']]\n",
    "            display(Markdown(f\"### { article['title']}\"))\n",
    "            display(Markdown(f\"**Summary**: {' '.join(article['pagerank_summary'])}\"))\n",
    "            display(Markdown(f\"**Organizations**: {', '.join(orgs)}\"))\n",
    "            display(Markdown(f\"**Read more**: {article['url']}\"))\n",
    "  "
   ]
  },
  {
   "cell_type": "code",
   "execution_count": null,
   "metadata": {},
   "outputs": [],
   "source": []
  }
 ],
 "metadata": {
  "kernelspec": {
   "display_name": "nlp_demo",
   "language": "python",
   "name": "nlp_demo"
  },
  "language_info": {
   "codemirror_mode": {
    "name": "ipython",
    "version": 3
   },
   "file_extension": ".py",
   "mimetype": "text/x-python",
   "name": "python",
   "nbconvert_exporter": "python",
   "pygments_lexer": "ipython3",
   "version": "3.7.2"
  }
 },
 "nbformat": 4,
 "nbformat_minor": 2
}
